{
 "cells": [
  {
   "cell_type": "markdown",
   "id": "fb3eefa3",
   "metadata": {},
   "source": [
    "#### Q1. What is a database? Differentiate between SQL and NoSQL databases."
   ]
  },
  {
   "cell_type": "markdown",
   "id": "43f02c14",
   "metadata": {},
   "source": [
    "* A database is a collection of data that is organized in a way that enables easy retrieval, manipulation, and management of information. Databases are used in a wide variety of applications, including business, finance, healthcare, and more.\n",
    "\n",
    "* There are two main types of databases: SQL and NoSQL. SQL databases are relational databases that store data in tables with predefined schemas. Data is stored in rows and columns, and tables can be joined together to extract information. SQL databases use Structured Query Language (SQL) to query and manipulate data.\n",
    "\n",
    "* NoSQL databases, on the other hand, are non-relational databases that do not use predefined schemas. Data is stored in key-value pairs, document structures, or graph structures. NoSQL databases are designed to be flexible and scalable, making them a good choice for handling large amounts of unstructured data."
   ]
  },
  {
   "cell_type": "markdown",
   "id": "34b745fb",
   "metadata": {},
   "source": [
    "| --- | SQL | NoSQL |\n",
    "| --- | --- | --- |\n",
    "| **Schema** | SQL databases use a predefined schema to structure data | NoSQL databases do not have a predefined schema. |\n",
    "| **Data model** | SQL databases use a relational data model | NoSQL databases use different data models such as key-value, document-based, column-family, and graph-based models |\n",
    "| **Query language** | SQL databases use SQL to query and manipulate data | NoSQL databases use a variety of query languages, such as JavaScript Object Notation (JSON), BSON, and Cassandra Query Language (CQL). |\n",
    "| **Scalability** | NoSQL databases are designed to be highly scalable and can handle large amounts of data and high traffic loads | SQL databases can be more difficult to scale. |\n",
    "| **ACID compliance** | SQL databases are typically ACID compliant, meaning that they guarantee transactions are atomic, consistent, isolated, and durable | NoSQL databases may or may not be ACID compliant, depending on the database type and configuration. |\n",
    "\n",
    "\n"
   ]
  },
  {
   "cell_type": "markdown",
   "id": "38484587",
   "metadata": {},
   "source": [
    "# --------------------------------------------------------"
   ]
  },
  {
   "cell_type": "markdown",
   "id": "3a3fc79d",
   "metadata": {},
   "source": [
    "#### Q2. What is DDL? Explain why CREATE, DROP, ALTER, and TRUNCATE are used with an example."
   ]
  },
  {
   "cell_type": "markdown",
   "id": "8bee0474",
   "metadata": {},
   "source": [
    "* DDL stands for Data Definition Language, which is a set of SQL commands that are used to define and manage the structure of database objects such as tables, indexes, views, and constraints. DDL statements are used to create, modify, and delete database objects, as well as to grant or revoke permissions on those objects."
   ]
  },
  {
   "cell_type": "markdown",
   "id": "3f6feac3",
   "metadata": {},
   "source": [
    "* **CREATE:** The CREATE statement is used to create new database objects, such as tables, views, indexes, and stored procedures."
   ]
  },
  {
   "cell_type": "code",
   "execution_count": null,
   "id": "89f06c8f",
   "metadata": {},
   "outputs": [],
   "source": [
    "CREATE TABLE users (\n",
    "  id INT PRIMARY KEY,\n",
    "  name VARCHAR(50),\n",
    "  email VARCHAR(100)\n",
    ");"
   ]
  },
  {
   "cell_type": "markdown",
   "id": "d8fc8b7e",
   "metadata": {},
   "source": [
    "* **DROP:** The DROP statement is used to remove an existing database object."
   ]
  },
  {
   "cell_type": "code",
   "execution_count": null,
   "id": "5153868e",
   "metadata": {},
   "outputs": [],
   "source": [
    "DROP TABLE users;"
   ]
  },
  {
   "cell_type": "markdown",
   "id": "6600d4c3",
   "metadata": {},
   "source": [
    "* **ALTER:** The ALTER statement is used to modify an existing database object, such as a table or a view. For example, the following SQL statement adds a new column called \"age\" to the \"users\" table:"
   ]
  },
  {
   "cell_type": "code",
   "execution_count": null,
   "id": "94dfb98f",
   "metadata": {},
   "outputs": [],
   "source": [
    "ALTER TABLE users ADD COLUMN age INT;"
   ]
  },
  {
   "cell_type": "markdown",
   "id": "ef309802",
   "metadata": {},
   "source": [
    "* **TRUNCATE:** The TRUNCATE statement is used to delete all rows from a table, but the table structure remains intact. For example, the following SQL statement deletes all rows from the \"users\" table:"
   ]
  },
  {
   "cell_type": "code",
   "execution_count": null,
   "id": "94c6ba66",
   "metadata": {},
   "outputs": [],
   "source": [
    "TRUNCATE TABLE users;"
   ]
  },
  {
   "cell_type": "markdown",
   "id": "d3983c06",
   "metadata": {},
   "source": [
    "# ----------------------------------------------------"
   ]
  },
  {
   "cell_type": "markdown",
   "id": "af562e8a",
   "metadata": {},
   "source": [
    "#### Q3. What is DML? Explain INSERT, UPDATE, and DELETE with an example."
   ]
  },
  {
   "cell_type": "markdown",
   "id": "4385638d",
   "metadata": {},
   "source": [
    "* DML stands for Data Manipulation Language, which is a set of SQL commands used to manipulate and modify the data stored in a database. DML statements are used to insert, update, delete, and retrieve data from a database. "
   ]
  },
  {
   "cell_type": "markdown",
   "id": "d6971799",
   "metadata": {},
   "source": [
    "* **INSERT:** This statement is used to add new rows to a table.\n",
    "    * For example, the following SQL statement inserts a new record into a table named \"users\" with the values \"Madhan\" for the name column, \"madhan@example.com\" for the email column, and 25 for the age column"
   ]
  },
  {
   "cell_type": "code",
   "execution_count": null,
   "id": "3d7ffbe3",
   "metadata": {},
   "outputs": [],
   "source": [
    "INSERT INTO users (name, email, age) VALUES ('Madhan', 'madhan@example.com', 25);"
   ]
  },
  {
   "cell_type": "markdown",
   "id": "6ee261aa",
   "metadata": {},
   "source": [
    "* **UPDATE:** The UPDATE statement is used to modify existing data in a table.\n",
    "    * For example, the following SQL statement updates the email of the user with the name \"Madhan\" to \"madhankumar@example.com\":"
   ]
  },
  {
   "cell_type": "code",
   "execution_count": null,
   "id": "7cf075fd",
   "metadata": {},
   "outputs": [],
   "source": [
    "UPDATE users SET email = 'madhankumar@example.com' WHERE name = 'Madhan';"
   ]
  },
  {
   "cell_type": "markdown",
   "id": "7ee1adc0",
   "metadata": {},
   "source": [
    "* **DELETE:** The DELETE statement is used to remove existing data from a table.\n",
    "    * For example, the following SQL statement deletes the user with the name \"Madhan\" from the \"users\" table:"
   ]
  },
  {
   "cell_type": "code",
   "execution_count": null,
   "id": "f69eff1f",
   "metadata": {},
   "outputs": [],
   "source": [
    "DELETE FROM users WHERE name = 'Madhan';"
   ]
  },
  {
   "cell_type": "markdown",
   "id": "2b75a446",
   "metadata": {},
   "source": [
    "# --------------------------------------------------------"
   ]
  },
  {
   "cell_type": "markdown",
   "id": "3bcb7ee3",
   "metadata": {},
   "source": [
    "#### Q4. What is DQL? Explain SELECT with an example."
   ]
  },
  {
   "cell_type": "markdown",
   "id": "41f62f1d",
   "metadata": {},
   "source": [
    "* DQL stands for **Data Query Language**, which is a subset of SQL used to retrieve data from a database. DQL statements are used to query the database and retrieve specific data based on specified criteria. The most commonly used DQL statement is SELECT.\n",
    "---\n",
    "* SELECT is used to retrieve data from one or more tables in a database. It allows you to specify the columns to retrieve, the table or tables to retrieve them from, and any conditions that the retrieved data must meet. Here's an example of a SELECT statement:\n"
   ]
  },
  {
   "cell_type": "code",
   "execution_count": null,
   "id": "ee39766d",
   "metadata": {},
   "outputs": [],
   "source": [
    "#Example\n",
    "SELECT name, email FROM users WHERE age > 25;"
   ]
  },
  {
   "cell_type": "markdown",
   "id": "7d39d278",
   "metadata": {},
   "source": [
    "# ----------------------------------------------------"
   ]
  },
  {
   "cell_type": "markdown",
   "id": "a9e3e704",
   "metadata": {},
   "source": [
    "#### Q5. Explain Primary Key and Foreign Key."
   ]
  },
  {
   "cell_type": "markdown",
   "id": "0217fc92",
   "metadata": {},
   "source": [
    "* **Primary key** is a column or a set of columns in a table that uniquely identifies each row in that table. It serves as a unique identifier for each record in the table and ensures that each record is distinct from all others. The primary key must be unique and cannot contain null values. Typically, the primary key is created when the table is first defined and is used as the basis for any foreign key relationships.\n",
    "---\n",
    "* **Foreign key**, on the other hand, is a column or a set of columns in one table that refers to the primary key of another table. It is used to establish a relationship between two tables and is used to ensure that data is consistent between the two tables. The foreign key column in one table must match the primary key column in the other table. A foreign key can also be null, which means that the record in the table can exist without a corresponding record in the related table.\n",
    "---\n",
    "---\n",
    "* **For example**, consider two tables, \"customers\" and \"orders\". The \"customers\" table might have a primary key of \"customer_id\", while the \"orders\" table would have a foreign key of \"customer_id\" that refers to the primary key in the \"customers\" table. This relationship allows the orders to be linked to a specific customer."
   ]
  },
  {
   "cell_type": "code",
   "execution_count": 4,
   "id": "9da8f21a",
   "metadata": {},
   "outputs": [],
   "source": [
    "CREATE TABLE customers (\n",
    "    customer_id INT PRIMARY KEY,\n",
    "    name VARCHAR(50),\n",
    "    email VARCHAR(100),\n",
    "    age INT\n",
    ");\n",
    "## ------------------------\n",
    "CREATE TABLE orders (\n",
    "    order_id INT PRIMARY KEY,\n",
    "    order_name VARCHAR(50),\n",
    "    instructions VARCHAR(100),\n",
    "    FOREIGN KEY (customer_id) REFERENCES customers(customers)\n",
    ");"
   ]
  },
  {
   "cell_type": "markdown",
   "id": "2225e4a7",
   "metadata": {},
   "source": [
    "# --------------------------------------------------"
   ]
  },
  {
   "cell_type": "markdown",
   "id": "d7472b2c",
   "metadata": {},
   "source": [
    "#### Q6. Write a python code to connect MySQL to python. Explain the cursor() and execute() method."
   ]
  },
  {
   "cell_type": "markdown",
   "id": "4d97be00",
   "metadata": {},
   "source": [
    "* To connect MySQL to Python, we need to have the **mysql-connector-python** library installed. We can install it using pip, like this:"
   ]
  },
  {
   "cell_type": "code",
   "execution_count": 5,
   "id": "fe549db2",
   "metadata": {},
   "outputs": [
    {
     "name": "stdout",
     "output_type": "stream",
     "text": [
      "Defaulting to user installation because normal site-packages is not writeable\n",
      "Requirement already satisfied: mysql-connector-python in c:\\users\\merit\\appdata\\roaming\\python\\python39\\site-packages (8.0.29)\n",
      "Requirement already satisfied: protobuf>=3.0.0 in c:\\users\\merit\\appdata\\roaming\\python\\python39\\site-packages (from mysql-connector-python) (3.20.3)\n"
     ]
    },
    {
     "name": "stderr",
     "output_type": "stream",
     "text": [
      "\n",
      "[notice] A new release of pip available: 22.2.2 -> 23.0.1\n",
      "[notice] To update, run: python.exe -m pip install --upgrade pip\n"
     ]
    }
   ],
   "source": [
    "!pip install mysql-connector-python"
   ]
  },
  {
   "cell_type": "markdown",
   "id": "b8ee8220",
   "metadata": {},
   "source": [
    "* Once we have installed the library, we can connect to a MySQL database using the following Python code:"
   ]
  },
  {
   "cell_type": "code",
   "execution_count": 7,
   "id": "dd671f9c",
   "metadata": {},
   "outputs": [],
   "source": [
    "import mysql.connector\n",
    "\n",
    "db = mysql.connector.connect(\n",
    "  host=\"localhost\",\n",
    "  user=\"admin\",\n",
    "  password=\"admin\",\n",
    "  database=\"test\"\n",
    ")\n",
    "\n",
    "cursor = db.cursor()\n",
    "\n",
    "cursor.execute(\"SELECT * FROM test_table\")\n",
    "\n",
    "result = cursor.fetchall()\n"
   ]
  },
  {
   "cell_type": "markdown",
   "id": "3cc92422",
   "metadata": {},
   "source": [
    "* **The cursor()** method is used to create a cursor object, which is used to execute SQL queries and fetch the results. \n",
    "* **The execute()** method is used to execute a SQL query on the MySQL server. It takes a SQL query as a parameter and returns nothing."
   ]
  },
  {
   "cell_type": "markdown",
   "id": "1c19298b",
   "metadata": {},
   "source": [
    "# ----------------------------------------------------"
   ]
  },
  {
   "cell_type": "markdown",
   "id": "1a61f6f3",
   "metadata": {},
   "source": [
    "#### Q7. Give the order of execution of SQL clauses in an SQL query."
   ]
  },
  {
   "cell_type": "markdown",
   "id": "c344bac0",
   "metadata": {},
   "source": [
    "* In a typical SQL query, the clauses are executed in the following order:\n",
    "    * **FROM:** Specifies the table(s) to retrieve data from.\n",
    "    * **JOIN:** Combines rows from two or more tables based on a related column between them.\n",
    "    * **WHERE:** Filters rows based on a specified condition or set of conditions.\n",
    "    * **GROUP BY**: Groups rows based on a specified column or set of columns.\n",
    "    * **HAVING:** Filters groups based on a specified condition or set of conditions.\n",
    "    * **SELECT:** Selects the columns to include in the result set.\n",
    "    * **DISTINCT:** Removes duplicates from the result set.\n",
    "    * **ORDER BY:** Sorts the result set by one or more columns.\n",
    "    * **LIMIT:** Limits the number of rows returned in the result set."
   ]
  },
  {
   "cell_type": "code",
   "execution_count": null,
   "id": "e8608f5e",
   "metadata": {},
   "outputs": [],
   "source": []
  }
 ],
 "metadata": {
  "kernelspec": {
   "display_name": "Python 3 (ipykernel)",
   "language": "python",
   "name": "python3"
  },
  "language_info": {
   "codemirror_mode": {
    "name": "ipython",
    "version": 3
   },
   "file_extension": ".py",
   "mimetype": "text/x-python",
   "name": "python",
   "nbconvert_exporter": "python",
   "pygments_lexer": "ipython3",
   "version": "3.9.6"
  }
 },
 "nbformat": 4,
 "nbformat_minor": 5
}
