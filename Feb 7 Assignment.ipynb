{
 "cells": [
  {
   "cell_type": "markdown",
   "id": "ef1160a9",
   "metadata": {},
   "source": [
    "#### Q1. You are writing code for a company. The requirement of the company is that you create a python function that will check whether the password entered by the user is correct or not. The function should take the password as input and return the string “Valid Password” if the entered password follows the below-given password guidelines else it should return “Invalid Password”.\n",
    "##### Note: \n",
    "1. The Password should contain at least two uppercase letters and at least two lowercase letters.\n",
    "2. The Password should contain at least a number and three special characters.\n",
    "3. The length of the password should be 10 characters long."
   ]
  },
  {
   "cell_type": "code",
   "execution_count": 1,
   "id": "70fe4688",
   "metadata": {},
   "outputs": [],
   "source": [
    "def password_check(password):\n",
    "    low = 0 \n",
    "    up = 0\n",
    "    num = 0\n",
    "    special_char = 0\n",
    "    for i in password:\n",
    "        if i.islower():\n",
    "            low += 1\n",
    "        elif i.isupper():\n",
    "            up += 1\n",
    "        elif i.isdigit():\n",
    "            num += 1\n",
    "        elif not i.isalnum():\n",
    "            special_char += 1\n",
    "    if len(password) == 10 and low >= 2 and up >= 2 and num >= 1 and special_char >= 3:\n",
    "        return \"Valid Password\"\n",
    "    else:\n",
    "        return \"Invalid Password\""
   ]
  },
  {
   "cell_type": "code",
   "execution_count": 2,
   "id": "0cb19a64",
   "metadata": {},
   "outputs": [
    {
     "name": "stdout",
     "output_type": "stream",
     "text": [
      "Please enter the pass word : M@dhan1234\n"
     ]
    },
    {
     "data": {
      "text/plain": [
       "'Invalid Password'"
      ]
     },
     "execution_count": 2,
     "metadata": {},
     "output_type": "execute_result"
    }
   ],
   "source": [
    "password_check(input(\"Please enter the pass word : \"))"
   ]
  },
  {
   "cell_type": "code",
   "execution_count": 3,
   "id": "198c1c89",
   "metadata": {},
   "outputs": [
    {
     "name": "stdout",
     "output_type": "stream",
     "text": [
      "Please enter the pass word : M@dh@N12$4\n"
     ]
    },
    {
     "data": {
      "text/plain": [
       "'Valid Password'"
      ]
     },
     "execution_count": 3,
     "metadata": {},
     "output_type": "execute_result"
    }
   ],
   "source": [
    "password_check(input(\"Please enter the pass word : \"))"
   ]
  },
  {
   "cell_type": "markdown",
   "id": "989a805c",
   "metadata": {},
   "source": [
    "# ----------------------------------------------------------"
   ]
  },
  {
   "cell_type": "markdown",
   "id": "e782100b",
   "metadata": {},
   "source": [
    "Q2. Solve the below-given questions using at least one of the following:\n",
    "1. Lambda function\n",
    "2. Filter function\n",
    "3. Map function\n",
    "4. List Comprehension\n",
    "\n",
    "    Check if the string starts with a particular letter.\n",
    "    \n",
    "    Check if the string is numeric.\n",
    "    \n",
    "    Sort a list of tuples having fruit names and their quantity. [(\"mango\",99),(\"orange\",80), (\"grapes\", 1000)]\n",
    "    \n",
    "    Find the squares of numbers from 1 to 10.\n",
    "    \n",
    "    Find the cube root of numbers from 1 to 10.\n",
    "    \n",
    "    Check if a given number is even.\n",
    "    \n",
    "    Filter odd numbers from the given list. [1,2,3,4,5,6,7,8,9,10]\n",
    "    \n",
    "    Sort a list of integers into positive and negative integers lists.[1,2,3,4,5,6,-1,-2,-3,-4,-5,0]"
   ]
  },
  {
   "cell_type": "markdown",
   "id": "0d7b2958",
   "metadata": {},
   "source": [
    "##### Check if the string starts with a particular letter."
   ]
  },
  {
   "cell_type": "code",
   "execution_count": 4,
   "id": "eb55b4ac",
   "metadata": {},
   "outputs": [
    {
     "name": "stdout",
     "output_type": "stream",
     "text": [
      "India :  True\n",
      "England :  False\n"
     ]
    }
   ],
   "source": [
    "starts_with = lambda x: True if x.startswith('I') else False\n",
    "print(\"India : \",starts_with(\"India\"))\n",
    "print(\"England : \",starts_with(\"England\"))"
   ]
  },
  {
   "cell_type": "markdown",
   "id": "da4b191c",
   "metadata": {},
   "source": [
    "##### Check if the string is numeric."
   ]
  },
  {
   "cell_type": "code",
   "execution_count": 5,
   "id": "1ab8f7b8",
   "metadata": {},
   "outputs": [
    {
     "name": "stdout",
     "output_type": "stream",
     "text": [
      "'2023' :  True\n",
      "'i20' :  False\n"
     ]
    }
   ],
   "source": [
    "starts_with = lambda x: True if x.isdigit() else False\n",
    "print(\"'2023' : \",starts_with(\"2023\"))\n",
    "print(\"'i20' : \",starts_with(\"i20\"))"
   ]
  },
  {
   "cell_type": "markdown",
   "id": "8a4b1470",
   "metadata": {},
   "source": [
    "##### Sort a list of tuples having fruit names and their quantity. [(\"mango\",99),(\"orange\",80), (\"grapes\", 1000)]"
   ]
  },
  {
   "cell_type": "code",
   "execution_count": 6,
   "id": "e4f106a3",
   "metadata": {},
   "outputs": [
    {
     "data": {
      "text/plain": [
       "[('grapes', 1000), ('mango', 99), ('orange', 80)]"
      ]
     },
     "execution_count": 6,
     "metadata": {},
     "output_type": "execute_result"
    }
   ],
   "source": [
    "list1 = [(\"mango\",99),(\"orange\",80), (\"grapes\", 1000)]\n",
    "sorted(list1, key=lambda tup: (tup[0],tup[1]))"
   ]
  },
  {
   "cell_type": "markdown",
   "id": "469fee82",
   "metadata": {},
   "source": [
    "##### Find the squares of numbers from 1 to 10."
   ]
  },
  {
   "cell_type": "code",
   "execution_count": 7,
   "id": "6f60a974",
   "metadata": {},
   "outputs": [
    {
     "data": {
      "text/plain": [
       "[1, 4, 9, 16, 25, 36, 49, 64, 81, 100]"
      ]
     },
     "execution_count": 7,
     "metadata": {},
     "output_type": "execute_result"
    }
   ],
   "source": [
    "[i**2 for i in range(1,11)]"
   ]
  },
  {
   "cell_type": "markdown",
   "id": "900fdf51",
   "metadata": {},
   "source": [
    "##### Find the cube root of numbers from 1 to 10."
   ]
  },
  {
   "cell_type": "code",
   "execution_count": 8,
   "id": "fbebba80",
   "metadata": {},
   "outputs": [
    {
     "data": {
      "text/plain": [
       "[1, 8, 27, 64, 125, 216, 343, 512, 729, 1000]"
      ]
     },
     "execution_count": 8,
     "metadata": {},
     "output_type": "execute_result"
    }
   ],
   "source": [
    "[i**3 for i in range(1,11)]"
   ]
  },
  {
   "cell_type": "markdown",
   "id": "8840cb9a",
   "metadata": {},
   "source": [
    "##### Check if a given number is even."
   ]
  },
  {
   "cell_type": "code",
   "execution_count": 9,
   "id": "cd16031a",
   "metadata": {},
   "outputs": [
    {
     "name": "stdout",
     "output_type": "stream",
     "text": [
      "15 is :  Not a Even\n",
      "10 is :  Even\n"
     ]
    }
   ],
   "source": [
    "check_even = lambda x: \"Even\" if x%2 == 0 else \"Not a Even\"\n",
    "print(\"15 is : \",check_even(3))\n",
    "print(\"10 is : \",check_even(10))"
   ]
  },
  {
   "cell_type": "markdown",
   "id": "6c16c961",
   "metadata": {},
   "source": [
    "##### Filter odd numbers from the given list. [1,2,3,4,5,6,7,8,9,10]"
   ]
  },
  {
   "cell_type": "code",
   "execution_count": 10,
   "id": "7b218f17",
   "metadata": {},
   "outputs": [
    {
     "data": {
      "text/plain": [
       "[1, 3, 5, 7, 9]"
      ]
     },
     "execution_count": 10,
     "metadata": {},
     "output_type": "execute_result"
    }
   ],
   "source": [
    "list2 = [1,2,3,4,5,6,7,8,9,10]\n",
    "list(filter(lambda x: x % 2 != 0, list2))"
   ]
  },
  {
   "cell_type": "markdown",
   "id": "08658a6b",
   "metadata": {},
   "source": [
    "##### Sort a list of integers into positive and negative integers lists...[1,2,3,4,5,6,-1,-2,-3,-4,-5,0]"
   ]
  },
  {
   "cell_type": "code",
   "execution_count": 11,
   "id": "437e3d05",
   "metadata": {},
   "outputs": [
    {
     "name": "stdout",
     "output_type": "stream",
     "text": [
      "Positive list :  [0, 1, 2, 3, 4, 5, 6]\n",
      "Negative list :  [-5, -4, -3, -2, -1]\n"
     ]
    }
   ],
   "source": [
    "list3 = [1,2,3,4,5,6,-1,-2,-3,-4,-5,0]\n",
    "pos_list = list(filter(lambda x: x >= 0, list3))\n",
    "neg_list = list(filter(lambda x: x < 0, list3))\n",
    "print(\"Positive list : \",sorted(pos_list))\n",
    "print(\"Negative list : \",sorted(neg_list))"
   ]
  },
  {
   "cell_type": "code",
   "execution_count": null,
   "id": "e39dffc7",
   "metadata": {},
   "outputs": [],
   "source": []
  }
 ],
 "metadata": {
  "kernelspec": {
   "display_name": "Python 3 (ipykernel)",
   "language": "python",
   "name": "python3"
  },
  "language_info": {
   "codemirror_mode": {
    "name": "ipython",
    "version": 3
   },
   "file_extension": ".py",
   "mimetype": "text/x-python",
   "name": "python",
   "nbconvert_exporter": "python",
   "pygments_lexer": "ipython3",
   "version": "3.9.6"
  }
 },
 "nbformat": 4,
 "nbformat_minor": 5
}
