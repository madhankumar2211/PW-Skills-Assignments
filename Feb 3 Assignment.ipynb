{
 "cells": [
  {
   "cell_type": "markdown",
   "id": "f3bf351f",
   "metadata": {},
   "source": [
    "#### Q1. Which keyword is used to create a function? Create a function to return a list of odd numbers in the range of 1 to 25.\n",
    "\n",
    "def keyword is used to create a function."
   ]
  },
  {
   "cell_type": "code",
   "execution_count": 2,
   "id": "18dc08a3",
   "metadata": {},
   "outputs": [
    {
     "data": {
      "text/plain": [
       "[1, 3, 5, 7, 9, 11, 13, 15, 17, 19, 21, 23, 25]"
      ]
     },
     "execution_count": 2,
     "metadata": {},
     "output_type": "execute_result"
    }
   ],
   "source": [
    "def odd_numbers():\n",
    "    return [i for i in range(1,26) if i%2 != 0]\n",
    "odd_numbers()"
   ]
  },
  {
   "cell_type": "markdown",
   "id": "d01f5ce7",
   "metadata": {},
   "source": [
    "# -------------------------------------------------------------------------------"
   ]
  },
  {
   "cell_type": "markdown",
   "id": "1a7e7e69",
   "metadata": {},
   "source": [
    "#### Q2. Why *args and **kwargs is used in some functions? Create a function each for *args and **kwargs to demonstrate their use."
   ]
  },
  {
   "cell_type": "markdown",
   "id": "dedcd03e",
   "metadata": {},
   "source": [
    "-> We can use *args and **kwargs as arguments of a function when you are unsure about the number of arguments to pass in the functions"
   ]
  },
  {
   "cell_type": "code",
   "execution_count": 10,
   "id": "e68d2ba6",
   "metadata": {},
   "outputs": [
    {
     "name": "stdout",
     "output_type": "stream",
     "text": [
      "10\n",
      "17\n"
     ]
    }
   ],
   "source": [
    "# args\n",
    "def args_sample(*numbers):\n",
    "    total = 0\n",
    "    for num in numbers:\n",
    "        total += num\n",
    "    return total\n",
    "print(args_sample(2, 3, 5))\n",
    "print(args_sample(2, 3, 5, 7))"
   ]
  },
  {
   "cell_type": "code",
   "execution_count": 14,
   "id": "f45e680a",
   "metadata": {},
   "outputs": [
    {
     "name": "stdout",
     "output_type": "stream",
     "text": [
      "{'banana': 5, 'mango': 7, 'apple': 8} <class 'dict'>\n"
     ]
    }
   ],
   "source": [
    "#kwargs\n",
    "def kwargs_sample(**kwargs):\n",
    "    print(kwargs, type(kwargs))\n",
    "\n",
    "kwargs_sample(banana=5, mango=7, apple=8)"
   ]
  },
  {
   "cell_type": "markdown",
   "id": "3c5c10b5",
   "metadata": {},
   "source": [
    "# -------------------------------------------------------------------------------"
   ]
  },
  {
   "cell_type": "markdown",
   "id": "a26811e8",
   "metadata": {},
   "source": [
    "#### Q3. What is an iterator in python? Name the method used to initialise the iterator object and the method used for iteration. Use these methods to print the first five elements of the given list \n",
    "#### [2, 4, 6, 8, 10, 12, 14, 16,18, 20]."
   ]
  },
  {
   "cell_type": "raw",
   "id": "ef30987b",
   "metadata": {},
   "source": [
    "-> An iterator is an object that can be iterated upon, meaning that you can traverse through all the values.\n",
    "\n",
    "-> __iter__() is used to initialise the iterator object\n",
    "\n",
    "-> __next__() is used for iteration"
   ]
  },
  {
   "cell_type": "code",
   "execution_count": 20,
   "id": "ddc9e0d0",
   "metadata": {},
   "outputs": [
    {
     "name": "stdout",
     "output_type": "stream",
     "text": [
      "2\n",
      "4\n",
      "6\n",
      "8\n",
      "10\n"
     ]
    }
   ],
   "source": [
    "x = [2, 4, 6, 8, 10, 12, 14, 16,18, 20]\n",
    "myit = iter(x)\n",
    "print(myit.__next__())\n",
    "print(myit.__next__())\n",
    "print(myit.__next__())\n",
    "print(myit.__next__())\n",
    "print(myit.__next__())"
   ]
  },
  {
   "cell_type": "markdown",
   "id": "63877633",
   "metadata": {},
   "source": [
    "# -------------------------------------------------------------------------------"
   ]
  },
  {
   "cell_type": "markdown",
   "id": "977770e1",
   "metadata": {},
   "source": [
    "#### Q4. What is a generator function in python? Why yield keyword is used? Give an example of a generator function."
   ]
  },
  {
   "cell_type": "markdown",
   "id": "64614fd8",
   "metadata": {},
   "source": [
    "-> Python Generator functions allow you to declare a function that behaves likes an iterator, allowing programmers to make an iterator in a fast, easy, and clean way. \n",
    "\n",
    "-> yield keyword is used to create a generator function."
   ]
  },
  {
   "cell_type": "code",
   "execution_count": 22,
   "id": "bced2a69",
   "metadata": {},
   "outputs": [
    {
     "name": "stdout",
     "output_type": "stream",
     "text": [
      "Sample 1\n",
      "Sample 2\n"
     ]
    }
   ],
   "source": [
    "def fun_generator():\n",
    "    yield \"Sample 1\"\n",
    "    yield \"Sample 2\"\n",
    "\n",
    "\n",
    "obj = fun_generator()\n",
    "\n",
    "print(next(obj))\n",
    "print(next(obj))\n"
   ]
  },
  {
   "cell_type": "markdown",
   "id": "8ece6867",
   "metadata": {},
   "source": [
    "# -------------------------------------------------------------------------------"
   ]
  },
  {
   "cell_type": "markdown",
   "id": "3cad21cf",
   "metadata": {},
   "source": [
    "#### Q5. Create a generator function for prime numbers less than 1000. Use the next() method to print the first 20 prime numbers."
   ]
  },
  {
   "cell_type": "code",
   "execution_count": 8,
   "id": "3f520829",
   "metadata": {},
   "outputs": [
    {
     "name": "stdout",
     "output_type": "stream",
     "text": [
      "1\n",
      "2\n",
      "3\n",
      "5\n",
      "7\n",
      "11\n",
      "13\n",
      "17\n",
      "19\n",
      "23\n",
      "29\n",
      "31\n",
      "37\n",
      "41\n",
      "43\n",
      "47\n",
      "53\n",
      "59\n",
      "61\n",
      "67\n"
     ]
    }
   ],
   "source": [
    "def prime_check():\n",
    "    primes = []\n",
    "    for possiblePrime in range(1, 1000):\n",
    "        isPrime = True\n",
    "        for num in range(2, possiblePrime):\n",
    "            if possiblePrime % num == 0:\n",
    "                isPrime = False\n",
    "        if isPrime:\n",
    "            yield possiblePrime\n",
    "            \n",
    "prime_out = prime_check()\n",
    "for i in range(20):\n",
    "    print(prime_out.__next__())\n"
   ]
  },
  {
   "cell_type": "code",
   "execution_count": null,
   "id": "76a132fe",
   "metadata": {},
   "outputs": [],
   "source": []
  }
 ],
 "metadata": {
  "kernelspec": {
   "display_name": "Python 3 (ipykernel)",
   "language": "python",
   "name": "python3"
  },
  "language_info": {
   "codemirror_mode": {
    "name": "ipython",
    "version": 3
   },
   "file_extension": ".py",
   "mimetype": "text/x-python",
   "name": "python",
   "nbconvert_exporter": "python",
   "pygments_lexer": "ipython3",
   "version": "3.9.6"
  }
 },
 "nbformat": 4,
 "nbformat_minor": 5
}
