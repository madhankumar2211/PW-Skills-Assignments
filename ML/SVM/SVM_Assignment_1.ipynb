{
 "cells": [
  {
   "cell_type": "markdown",
   "id": "29d13716",
   "metadata": {},
   "source": [
    "### Q1. What is the mathematical formula for a linear SVM?"
   ]
  },
  {
   "cell_type": "markdown",
   "id": "73e691fc",
   "metadata": {},
   "source": [
    "* The mathematical formula for a linear Support Vector Machine (SVM) can be expressed as follows:\n",
    "\n",
    "* Given a training dataset with input vectors ( x_i ) of dimension ( n ), and their corresponding binary labels ( y_i ) which can take on values of either -1 or 1, the goal of a linear SVM is to find a hyperplane ( w \\cdot x + b = 0 ) that separates the data points of different classes with the largest margin.\n",
    "\n",
    "* The decision function of a linear SVM is given by:\n",
    "\n",
    "> [ f(x) = w * x + b ]\n",
    "\n",
    "> * where ( w ) is the weight vector, ( b ) is the bias term, and ( x ) is the input vector.\n",
    "\n",
    "* The objective of a linear SVM is to maximize the margin, which is the distance between the hyperplane and the closest data points from each class. Mathematically, this can be formulated as an optimization problem:\n",
    "\n",
    "> Minimize: [ \\frac{1}{2} | w |^2 ]\n",
    "\n",
    "> * subject to the constraints: y_i (w * x_i + b) >= 1 ∀i\n",
    "\n",
    "* where ( y_i ) is the binary label of the i-th training sample, ( x_i ) is the i-th input vector, and ( | w |^2 ) represents the squared Euclidean norm of the weight vector.\n",
    "\n",
    "* The constraints in the optimization problem ensure that the data points are correctly classified with a margin of at least 1. The optimization problem is typically solved using various techniques such as the Sequential Minimal Optimization (SMO) algorithm or gradient descent methods. Once the optimization problem is solved, the resulting weight vector ( w ) and bias term ( b ) can be used to make predictions on new data points using the decision function ( f(x) )."
   ]
  },
  {
   "cell_type": "markdown",
   "id": "908c49f7",
   "metadata": {},
   "source": [
    "# ----------------------------------------------------"
   ]
  },
  {
   "cell_type": "markdown",
   "id": "9f2df43d",
   "metadata": {},
   "source": [
    "### Q2. What is the objective function of a linear SVM?\n"
   ]
  },
  {
   "cell_type": "markdown",
   "id": "71f11c89",
   "metadata": {},
   "source": [
    "* The objective function of a linear Support Vector Machine (SVM) is to maximize the margin, which is the distance between the hyperplane and the closest data points from each class, while minimizing the norm of the weight vector. The objective function of a linear SVM is typically formulated as an optimization problem with the goal of finding the optimal weight vector and bias term that defines the hyperplane.\n",
    "\n",
    "* Mathematically, the objective function of a linear SVM can be expressed as follows:\n",
    "\n",
    "> Minimize: [ \\frac{1}{2} | w |^2 ]\n",
    "> * subject to the constraints: [ y_i (w \\cdot x_i + b) \\geq 1 \\quad \\forall i ]\n",
    "\n",
    "* where ( w ) is the weight vector, ( b ) is the bias term, ( x_i ) is the i-th input vector in the training dataset, and ( y_i ) is the binary label of the i-th training sample. The constraint ( y_i (w \\cdot x_i + b) \\geq 1 ) ensures that all data points are correctly classified with a margin of at least 1, where ( y_i ) represents the binary label of the i-th training sample and ( w \\cdot x_i + b ) is the decision function of the linear SVM.\n",
    "\n",
    "* The objective function of a linear SVM seeks to find the weight vector ( w ) and bias term ( b ) that satisfy the constraints and minimize the norm of ( w ), which represents the regularization term. The regularization term helps to prevent overfitting and promotes a simpler model with a larger margin, which is desirable in SVMs for better generalization performance."
   ]
  },
  {
   "cell_type": "markdown",
   "id": "2e046fe4",
   "metadata": {},
   "source": [
    "# ----------------------------------------------------"
   ]
  },
  {
   "cell_type": "markdown",
   "id": "c47ed981",
   "metadata": {},
   "source": [
    "### Q3. What is the kernel trick in SVM?\n"
   ]
  },
  {
   "cell_type": "markdown",
   "id": "95a9181f",
   "metadata": {},
   "source": [
    "* The kernel trick in Support Vector Machines (SVM) is a technique that allows SVMs to efficiently handle nonlinearly separable data by transforming the input data into a higher-dimensional space using a kernel function, without explicitly computing the coordinates of the transformed data points. This allows SVMs to model complex decision boundaries that are not possible in the original input space.\n",
    "<br>\n",
    "\n",
    "* In a linear SVM, the decision boundary is a hyperplane that separates the data points of different classes. However, in many real-world scenarios, the data points may not be linearly separable, and a linear SVM may not be able to achieve good classification performance. The kernel trick addresses this limitation by implicitly mapping the input data points to a higher-dimensional feature space, where they may become linearly separable, and then applying a linear SVM in this transformed space.\n",
    "<br>\n",
    "\n",
    "* In the linear SVM formulation with a kernel function which computes the similarity or inner product of the data points in the higher-dimensional space. This allows the SVM to implicitly learn a nonlinear decision boundary in the original input space, without explicitly transforming the data into the higher-dimensional space.it satisfies Mercer's condition, which ensures that the kernel function corresponds to a valid positive semi-definite kernel matrix. Commonly used kernel functions in SVMs include the linear kernel, polynomial kernel, radial basis function (RBF) kernel, and sigmoid kernel, among others. The choice of kernel function depends on the characteristics of the data and the specific problem at hand.\n",
    "<br>\n",
    "\n",
    "* The kernel trick in SVMs provides a powerful way to handle nonlinearly separable data and enables SVMs to model complex decision boundaries, making SVMs a popular choice for classification and regression tasks in machine learning."
   ]
  },
  {
   "cell_type": "markdown",
   "id": "728cb5dd",
   "metadata": {},
   "source": [
    "# ----------------------------------------------------"
   ]
  },
  {
   "cell_type": "markdown",
   "id": "05704c67",
   "metadata": {},
   "source": [
    "### Q4. What is the role of support vectors in SVM Explain with example\n"
   ]
  },
  {
   "cell_type": "markdown",
   "id": "ae50f3b3",
   "metadata": {},
   "source": [
    "* Support vectors play a critical role in Support Vector Machines (SVM) as they are the data points that lie closest to the decision boundary (hyperplane) and determine the position and orientation of the hyperplane. Support vectors are the data points that have non-zero coefficients in the SVM's solution, and they are used to define the margin and determine the classification of new data points.\n",
    "<br>\n",
    "\n",
    "* In an SVM, the objective is to find a hyperplane that separates the data points of different classes with the largest margin. The support vectors are the data points that are closest to the hyperplane, and they are the ones that determine the position and orientation of the hyperplane. The support vectors are the data points that have non-zero coefficients in the SVM's solution, meaning that they contribute to the definition of the decision function.\n",
    "<br>\n",
    "\n",
    "* Support vectors are critical because they are the data points that are most likely to be misclassified or lie close to the decision boundary. These are the data points that are most challenging to classify and have the highest potential to affect the performance of the SVM. By using support vectors, SVMs are able to achieve a sparse representation of the decision boundary, as only a subset of the data points are used in defining the decision function.\n",
    "<br>\n",
    "\n",
    "* In this example, the circles represent positive class data points, and the crosses represent negative class data points. The decision boundary (hyperplane) learned by the SVM is shown as a dashed line.\n",
    "<br>\n",
    "\n",
    "* The support vectors are the data points that lie closest to the decision boundary, which are circled in the figure. These support vectors are critical for defining the position and orientation of the decision boundary. The margin of the SVM is determined by the distance between the decision boundary and the closest support vectors from each class. The SVM aims to maximize this margin during the training process.\n",
    "<br>\n",
    "\n",
    "* During prediction, the position of a new data point is determined by its relationship to the decision function and the support vectors. If a new data point lies on the same side of the decision boundary as the majority of the support vectors, it will be classified as the same class as the majority of the support vectors. If it lies on the opposite side of the decision boundary, it will be classified as the opposite class.\n",
    "<br>\n",
    "\n",
    "* Support vectors are crucial in SVMs as they determine the position and orientation of the decision boundary, contribute to the definition of the decision function, and play a key role in achieving a sparse representation of the decision boundary."
   ]
  },
  {
   "cell_type": "markdown",
   "id": "43cbcbb3",
   "metadata": {},
   "source": [
    "# ----------------------------------------------------"
   ]
  },
  {
   "cell_type": "markdown",
   "id": "0e9a1703",
   "metadata": {},
   "source": [
    "### Q5. Illustrate with examples and graphs of Hyperplane, Marginal plane, Soft margin and Hard margin in SVM?\n"
   ]
  },
  {
   "cell_type": "markdown",
   "id": "abba7a17",
   "metadata": {},
   "source": [
    "* Let's illustrate the concepts of hyperplane, marginal plane, soft margin, and hard margin in SVM using examples and graphs.\n",
    "<br>\n",
    "\n",
    "* **Hyperplane:** In SVM, a hyperplane is a decision boundary that separates data points of different classes in the input space. In a binary classification problem, a hyperplane is a line in a two-dimensional space, a plane in a three-dimensional space, and a hyperplane in higher-dimensional spaces.\n",
    "<br>\n",
    "\n",
    "* Example: Non-linearly separable data with a hyperplane A hyperplane (a line in this case) that separates the positive and negative class data points is not possible in the original input space. However, with the use of a kernel function, the data can be transformed into a higher-dimensional space where it becomes linearly separable, and a hyperplane can be found to separate the data points in that space.\n",
    "<br>\n",
    "\n",
    "* **Marginal** plane: In SVM, the marginal plane refers to the plane that is parallel to the hyperplane and touches the support vectors. It is used to define the margin, which is the distance between the hyperplane and the marginal plane.\n",
    "<br>\n",
    "\n",
    "* **Soft margin:** In SVM, a soft margin allows for some misclassification of data points in order to find a better trade-off between overfitting and underfitting. It introduces a penalty for misclassification in the objective function, allowing for a more flexible decision boundary. A soft margin SVM allows for some misclassification of data points. The margin is relaxed to allow for a few data points to fall into the margin or even cross the margin into the opposite class region. The objective function of the SVM is modified to include a penalty for misclassification, and the hyperplane is adjusted to find a better trade-off between misclassification and margin"
   ]
  },
  {
   "cell_type": "markdown",
   "id": "64377e9d",
   "metadata": {},
   "source": [
    "# ----------------------------------------------------"
   ]
  },
  {
   "cell_type": "markdown",
   "id": "89444eac",
   "metadata": {},
   "source": [
    "### Q6. SVM Implementation through Iris dataset."
   ]
  },
  {
   "cell_type": "markdown",
   "id": "1c4d92d4",
   "metadata": {},
   "source": [
    "##### i. Load the iris dataset from the scikit-learn library and split it into a training set and a testing set"
   ]
  },
  {
   "cell_type": "code",
   "execution_count": 16,
   "id": "2c021df1",
   "metadata": {},
   "outputs": [],
   "source": [
    "# Load IRIS dataset from sklearn\n",
    "from sklearn.datasets import load_iris\n",
    "df = load_iris()"
   ]
  },
  {
   "cell_type": "code",
   "execution_count": 17,
   "id": "a2bc362c",
   "metadata": {
    "scrolled": true
   },
   "outputs": [
    {
     "data": {
      "text/html": [
       "<div>\n",
       "<style scoped>\n",
       "    .dataframe tbody tr th:only-of-type {\n",
       "        vertical-align: middle;\n",
       "    }\n",
       "\n",
       "    .dataframe tbody tr th {\n",
       "        vertical-align: top;\n",
       "    }\n",
       "\n",
       "    .dataframe thead th {\n",
       "        text-align: right;\n",
       "    }\n",
       "</style>\n",
       "<table border=\"1\" class=\"dataframe\">\n",
       "  <thead>\n",
       "    <tr style=\"text-align: right;\">\n",
       "      <th></th>\n",
       "      <th>sepal length (cm)</th>\n",
       "      <th>sepal width (cm)</th>\n",
       "      <th>petal length (cm)</th>\n",
       "      <th>petal width (cm)</th>\n",
       "    </tr>\n",
       "  </thead>\n",
       "  <tbody>\n",
       "    <tr>\n",
       "      <th>0</th>\n",
       "      <td>5.1</td>\n",
       "      <td>3.5</td>\n",
       "      <td>1.4</td>\n",
       "      <td>0.2</td>\n",
       "    </tr>\n",
       "    <tr>\n",
       "      <th>1</th>\n",
       "      <td>4.9</td>\n",
       "      <td>3.0</td>\n",
       "      <td>1.4</td>\n",
       "      <td>0.2</td>\n",
       "    </tr>\n",
       "    <tr>\n",
       "      <th>2</th>\n",
       "      <td>4.7</td>\n",
       "      <td>3.2</td>\n",
       "      <td>1.3</td>\n",
       "      <td>0.2</td>\n",
       "    </tr>\n",
       "    <tr>\n",
       "      <th>3</th>\n",
       "      <td>4.6</td>\n",
       "      <td>3.1</td>\n",
       "      <td>1.5</td>\n",
       "      <td>0.2</td>\n",
       "    </tr>\n",
       "    <tr>\n",
       "      <th>4</th>\n",
       "      <td>5.0</td>\n",
       "      <td>3.6</td>\n",
       "      <td>1.4</td>\n",
       "      <td>0.2</td>\n",
       "    </tr>\n",
       "  </tbody>\n",
       "</table>\n",
       "</div>"
      ],
      "text/plain": [
       "   sepal length (cm)  sepal width (cm)  petal length (cm)  petal width (cm)\n",
       "0                5.1               3.5                1.4               0.2\n",
       "1                4.9               3.0                1.4               0.2\n",
       "2                4.7               3.2                1.3               0.2\n",
       "3                4.6               3.1                1.5               0.2\n",
       "4                5.0               3.6                1.4               0.2"
      ]
     },
     "execution_count": 17,
     "metadata": {},
     "output_type": "execute_result"
    }
   ],
   "source": [
    "import pandas as pd\n",
    "X =pd.DataFrame(df.data, columns=df.feature_names)\n",
    "X.head()"
   ]
  },
  {
   "cell_type": "code",
   "execution_count": 18,
   "id": "88a9bd6e",
   "metadata": {},
   "outputs": [
    {
     "data": {
      "text/html": [
       "<div>\n",
       "<style scoped>\n",
       "    .dataframe tbody tr th:only-of-type {\n",
       "        vertical-align: middle;\n",
       "    }\n",
       "\n",
       "    .dataframe tbody tr th {\n",
       "        vertical-align: top;\n",
       "    }\n",
       "\n",
       "    .dataframe thead th {\n",
       "        text-align: right;\n",
       "    }\n",
       "</style>\n",
       "<table border=\"1\" class=\"dataframe\">\n",
       "  <thead>\n",
       "    <tr style=\"text-align: right;\">\n",
       "      <th></th>\n",
       "      <th>class</th>\n",
       "    </tr>\n",
       "  </thead>\n",
       "  <tbody>\n",
       "    <tr>\n",
       "      <th>0</th>\n",
       "      <td>0</td>\n",
       "    </tr>\n",
       "    <tr>\n",
       "      <th>1</th>\n",
       "      <td>0</td>\n",
       "    </tr>\n",
       "    <tr>\n",
       "      <th>2</th>\n",
       "      <td>0</td>\n",
       "    </tr>\n",
       "    <tr>\n",
       "      <th>3</th>\n",
       "      <td>0</td>\n",
       "    </tr>\n",
       "    <tr>\n",
       "      <th>4</th>\n",
       "      <td>0</td>\n",
       "    </tr>\n",
       "  </tbody>\n",
       "</table>\n",
       "</div>"
      ],
      "text/plain": [
       "   class\n",
       "0      0\n",
       "1      0\n",
       "2      0\n",
       "3      0\n",
       "4      0"
      ]
     },
     "execution_count": 18,
     "metadata": {},
     "output_type": "execute_result"
    }
   ],
   "source": [
    "Y = pd.DataFrame(df.target, columns=['class'])\n",
    "Y.head()"
   ]
  },
  {
   "cell_type": "code",
   "execution_count": 19,
   "id": "6713d63c",
   "metadata": {},
   "outputs": [],
   "source": [
    "# Train test split\n",
    "from sklearn.model_selection import train_test_split\n",
    "xtrain, xtest, ytrain, ytest = train_test_split(X,Y,test_size=0.33,random_state=42)"
   ]
  },
  {
   "cell_type": "markdown",
   "id": "0af05161",
   "metadata": {},
   "source": [
    "##### ii. Train a linear SVM classifier on the training set and predict the labels for the testing setl"
   ]
  },
  {
   "cell_type": "code",
   "execution_count": 20,
   "id": "5e359f34",
   "metadata": {},
   "outputs": [
    {
     "data": {
      "text/html": [
       "<style>#sk-container-id-3 {color: black;background-color: white;}#sk-container-id-3 pre{padding: 0;}#sk-container-id-3 div.sk-toggleable {background-color: white;}#sk-container-id-3 label.sk-toggleable__label {cursor: pointer;display: block;width: 100%;margin-bottom: 0;padding: 0.3em;box-sizing: border-box;text-align: center;}#sk-container-id-3 label.sk-toggleable__label-arrow:before {content: \"▸\";float: left;margin-right: 0.25em;color: #696969;}#sk-container-id-3 label.sk-toggleable__label-arrow:hover:before {color: black;}#sk-container-id-3 div.sk-estimator:hover label.sk-toggleable__label-arrow:before {color: black;}#sk-container-id-3 div.sk-toggleable__content {max-height: 0;max-width: 0;overflow: hidden;text-align: left;background-color: #f0f8ff;}#sk-container-id-3 div.sk-toggleable__content pre {margin: 0.2em;color: black;border-radius: 0.25em;background-color: #f0f8ff;}#sk-container-id-3 input.sk-toggleable__control:checked~div.sk-toggleable__content {max-height: 200px;max-width: 100%;overflow: auto;}#sk-container-id-3 input.sk-toggleable__control:checked~label.sk-toggleable__label-arrow:before {content: \"▾\";}#sk-container-id-3 div.sk-estimator input.sk-toggleable__control:checked~label.sk-toggleable__label {background-color: #d4ebff;}#sk-container-id-3 div.sk-label input.sk-toggleable__control:checked~label.sk-toggleable__label {background-color: #d4ebff;}#sk-container-id-3 input.sk-hidden--visually {border: 0;clip: rect(1px 1px 1px 1px);clip: rect(1px, 1px, 1px, 1px);height: 1px;margin: -1px;overflow: hidden;padding: 0;position: absolute;width: 1px;}#sk-container-id-3 div.sk-estimator {font-family: monospace;background-color: #f0f8ff;border: 1px dotted black;border-radius: 0.25em;box-sizing: border-box;margin-bottom: 0.5em;}#sk-container-id-3 div.sk-estimator:hover {background-color: #d4ebff;}#sk-container-id-3 div.sk-parallel-item::after {content: \"\";width: 100%;border-bottom: 1px solid gray;flex-grow: 1;}#sk-container-id-3 div.sk-label:hover label.sk-toggleable__label {background-color: #d4ebff;}#sk-container-id-3 div.sk-serial::before {content: \"\";position: absolute;border-left: 1px solid gray;box-sizing: border-box;top: 0;bottom: 0;left: 50%;z-index: 0;}#sk-container-id-3 div.sk-serial {display: flex;flex-direction: column;align-items: center;background-color: white;padding-right: 0.2em;padding-left: 0.2em;position: relative;}#sk-container-id-3 div.sk-item {position: relative;z-index: 1;}#sk-container-id-3 div.sk-parallel {display: flex;align-items: stretch;justify-content: center;background-color: white;position: relative;}#sk-container-id-3 div.sk-item::before, #sk-container-id-3 div.sk-parallel-item::before {content: \"\";position: absolute;border-left: 1px solid gray;box-sizing: border-box;top: 0;bottom: 0;left: 50%;z-index: -1;}#sk-container-id-3 div.sk-parallel-item {display: flex;flex-direction: column;z-index: 1;position: relative;background-color: white;}#sk-container-id-3 div.sk-parallel-item:first-child::after {align-self: flex-end;width: 50%;}#sk-container-id-3 div.sk-parallel-item:last-child::after {align-self: flex-start;width: 50%;}#sk-container-id-3 div.sk-parallel-item:only-child::after {width: 0;}#sk-container-id-3 div.sk-dashed-wrapped {border: 1px dashed gray;margin: 0 0.4em 0.5em 0.4em;box-sizing: border-box;padding-bottom: 0.4em;background-color: white;}#sk-container-id-3 div.sk-label label {font-family: monospace;font-weight: bold;display: inline-block;line-height: 1.2em;}#sk-container-id-3 div.sk-label-container {text-align: center;}#sk-container-id-3 div.sk-container {/* jupyter's `normalize.less` sets `[hidden] { display: none; }` but bootstrap.min.css set `[hidden] { display: none !important; }` so we also need the `!important` here to be able to override the default hidden behavior on the sphinx rendered scikit-learn.org. See: https://github.com/scikit-learn/scikit-learn/issues/21755 */display: inline-block !important;position: relative;}#sk-container-id-3 div.sk-text-repr-fallback {display: none;}</style><div id=\"sk-container-id-3\" class=\"sk-top-container\"><div class=\"sk-text-repr-fallback\"><pre>SVC(kernel=&#x27;linear&#x27;)</pre><b>In a Jupyter environment, please rerun this cell to show the HTML representation or trust the notebook. <br />On GitHub, the HTML representation is unable to render, please try loading this page with nbviewer.org.</b></div><div class=\"sk-container\" hidden><div class=\"sk-item\"><div class=\"sk-estimator sk-toggleable\"><input class=\"sk-toggleable__control sk-hidden--visually\" id=\"sk-estimator-id-3\" type=\"checkbox\" checked><label for=\"sk-estimator-id-3\" class=\"sk-toggleable__label sk-toggleable__label-arrow\">SVC</label><div class=\"sk-toggleable__content\"><pre>SVC(kernel=&#x27;linear&#x27;)</pre></div></div></div></div></div>"
      ],
      "text/plain": [
       "SVC(kernel='linear')"
      ]
     },
     "execution_count": 20,
     "metadata": {},
     "output_type": "execute_result"
    }
   ],
   "source": [
    "from sklearn.svm import SVC\n",
    "svm = SVC(kernel='linear', C=1.0)\n",
    "svm.fit(xtrain, ytrain.values.flatten())"
   ]
  },
  {
   "cell_type": "markdown",
   "id": "08e28459",
   "metadata": {},
   "source": [
    "##### iii. Compute the accuracy of the model on the testing set"
   ]
  },
  {
   "cell_type": "code",
   "execution_count": 21,
   "id": "ec5499bd",
   "metadata": {},
   "outputs": [
    {
     "name": "stdout",
     "output_type": "stream",
     "text": [
      "Testing Accuracy: 1.0\n"
     ]
    }
   ],
   "source": [
    "# Predict the labels for the testing set\n",
    "y_pred = svm.predict(xtest)\n",
    "\n",
    "from sklearn.metrics import accuracy_score\n",
    "accuracy = accuracy_score(ytest, y_pred)\n",
    "print(\"Testing Accuracy:\", accuracy)"
   ]
  },
  {
   "cell_type": "code",
   "execution_count": 22,
   "id": "21d528f4",
   "metadata": {},
   "outputs": [
    {
     "data": {
      "text/plain": [
       "<Axes: >"
      ]
     },
     "execution_count": 22,
     "metadata": {},
     "output_type": "execute_result"
    },
    {
     "data": {
      "image/png": "[encoded data removed]",
      "text/plain": [
       "<Figure size 640x480 with 2 Axes>"
      ]
     },
     "metadata": {},
     "output_type": "display_data"
    }
   ],
   "source": [
    "from sklearn.metrics import confusion_matrix\n",
    "import seaborn as sns\n",
    "cf = confusion_matrix(ytest,y_pred)\n",
    "sns.heatmap(cf,annot=True)"
   ]
  },
  {
   "cell_type": "markdown",
   "id": "b33d18a7",
   "metadata": {},
   "source": [
    "##### iv. Plot the decision boundaries of the trained model using two of the featuresl"
   ]
  },
  {
   "cell_type": "code",
   "execution_count": 23,
   "id": "57cbd45c",
   "metadata": {},
   "outputs": [
    {
     "data": {
      "image/png": "[encoded data removed]",
      "text/plain": [
       "<Figure size 640x480 with 1 Axes>"
      ]
     },
     "metadata": {},
     "output_type": "display_data"
    }
   ],
   "source": [
    "import seaborn as sns\n",
    "import matplotlib.pyplot as plt\n",
    "df_train = pd.concat([xtrain,ytrain],axis=1)\n",
    "sns.scatterplot(data = df_train, x = 'sepal length (cm)',y='sepal width (cm)',hue='class')\n",
    "plt.title('Sepal Length vs Sepal width hueplot')\n",
    "plt.show()"
   ]
  },
  {
   "cell_type": "markdown",
   "id": "f18e2d44",
   "metadata": {},
   "source": [
    "##### v. Try different values of the regularisation parameter C and see how it affects the performance of the model."
   ]
  },
  {
   "cell_type": "code",
   "execution_count": 24,
   "id": "e739fe60",
   "metadata": {},
   "outputs": [
    {
     "data": {
      "text/plain": [
       "array([ 0.01      ,  0.53578947,  1.06157895,  1.58736842,  2.11315789,\n",
       "        2.63894737,  3.16473684,  3.69052632,  4.21631579,  4.74210526,\n",
       "        5.26789474,  5.79368421,  6.31947368,  6.84526316,  7.37105263,\n",
       "        7.89684211,  8.42263158,  8.94842105,  9.47421053, 10.        ])"
      ]
     },
     "execution_count": 24,
     "metadata": {},
     "output_type": "execute_result"
    }
   ],
   "source": [
    "import numpy as np\n",
    "C = np.linspace(0.01,10,20)\n",
    "C"
   ]
  },
  {
   "cell_type": "code",
   "execution_count": 27,
   "id": "db0738ca",
   "metadata": {},
   "outputs": [
    {
     "name": "stdout",
     "output_type": "stream",
     "text": [
      "C Value : 0.01\n",
      "\n",
      "              precision    recall  f1-score   support\n",
      "\n",
      "           0       1.00      1.00      1.00        19\n",
      "           1       1.00      1.00      1.00        15\n",
      "           2       1.00      1.00      1.00        16\n",
      "\n",
      "    accuracy                           1.00        50\n",
      "   macro avg       1.00      1.00      1.00        50\n",
      "weighted avg       1.00      1.00      1.00        50\n",
      "\n",
      "-------------------------------------\n",
      "C Value : 0.5357894736842106\n",
      "\n",
      "              precision    recall  f1-score   support\n",
      "\n",
      "           0       1.00      1.00      1.00        19\n",
      "           1       1.00      1.00      1.00        15\n",
      "           2       1.00      1.00      1.00        16\n",
      "\n",
      "    accuracy                           1.00        50\n",
      "   macro avg       1.00      1.00      1.00        50\n",
      "weighted avg       1.00      1.00      1.00        50\n",
      "\n",
      "-------------------------------------\n",
      "C Value : 1.0615789473684212\n",
      "\n",
      "              precision    recall  f1-score   support\n",
      "\n",
      "           0       1.00      1.00      1.00        19\n",
      "           1       1.00      1.00      1.00        15\n",
      "           2       1.00      1.00      1.00        16\n",
      "\n",
      "    accuracy                           1.00        50\n",
      "   macro avg       1.00      1.00      1.00        50\n",
      "weighted avg       1.00      1.00      1.00        50\n",
      "\n",
      "-------------------------------------\n",
      "C Value : 1.5873684210526318\n",
      "\n",
      "              precision    recall  f1-score   support\n",
      "\n",
      "           0       1.00      1.00      1.00        19\n",
      "           1       1.00      1.00      1.00        15\n",
      "           2       1.00      1.00      1.00        16\n",
      "\n",
      "    accuracy                           1.00        50\n",
      "   macro avg       1.00      1.00      1.00        50\n",
      "weighted avg       1.00      1.00      1.00        50\n",
      "\n",
      "-------------------------------------\n",
      "C Value : 2.113157894736842\n",
      "\n",
      "              precision    recall  f1-score   support\n",
      "\n",
      "           0       1.00      1.00      1.00        19\n",
      "           1       1.00      1.00      1.00        15\n",
      "           2       1.00      1.00      1.00        16\n",
      "\n",
      "    accuracy                           1.00        50\n",
      "   macro avg       1.00      1.00      1.00        50\n",
      "weighted avg       1.00      1.00      1.00        50\n",
      "\n",
      "-------------------------------------\n",
      "C Value : 2.6389473684210527\n",
      "\n",
      "              precision    recall  f1-score   support\n",
      "\n",
      "           0       1.00      1.00      1.00        19\n",
      "           1       1.00      1.00      1.00        15\n",
      "           2       1.00      1.00      1.00        16\n",
      "\n",
      "    accuracy                           1.00        50\n",
      "   macro avg       1.00      1.00      1.00        50\n",
      "weighted avg       1.00      1.00      1.00        50\n",
      "\n",
      "-------------------------------------\n",
      "C Value : 3.1647368421052633\n",
      "\n",
      "              precision    recall  f1-score   support\n",
      "\n",
      "           0       1.00      1.00      1.00        19\n",
      "           1       1.00      1.00      1.00        15\n",
      "           2       1.00      1.00      1.00        16\n",
      "\n",
      "    accuracy                           1.00        50\n",
      "   macro avg       1.00      1.00      1.00        50\n",
      "weighted avg       1.00      1.00      1.00        50\n",
      "\n",
      "-------------------------------------\n",
      "C Value : 3.690526315789474\n",
      "\n",
      "              precision    recall  f1-score   support\n",
      "\n",
      "           0       1.00      1.00      1.00        19\n",
      "           1       1.00      1.00      1.00        15\n",
      "           2       1.00      1.00      1.00        16\n",
      "\n",
      "    accuracy                           1.00        50\n",
      "   macro avg       1.00      1.00      1.00        50\n",
      "weighted avg       1.00      1.00      1.00        50\n",
      "\n",
      "-------------------------------------\n",
      "C Value : 4.2163157894736845\n",
      "\n",
      "              precision    recall  f1-score   support\n",
      "\n",
      "           0       1.00      1.00      1.00        19\n",
      "           1       1.00      1.00      1.00        15\n",
      "           2       1.00      1.00      1.00        16\n",
      "\n",
      "    accuracy                           1.00        50\n",
      "   macro avg       1.00      1.00      1.00        50\n",
      "weighted avg       1.00      1.00      1.00        50\n",
      "\n",
      "-------------------------------------\n",
      "C Value : 4.742105263157895\n",
      "\n",
      "              precision    recall  f1-score   support\n",
      "\n",
      "           0       1.00      1.00      1.00        19\n",
      "           1       1.00      0.93      0.97        15\n",
      "           2       0.94      1.00      0.97        16\n",
      "\n",
      "    accuracy                           0.98        50\n",
      "   macro avg       0.98      0.98      0.98        50\n",
      "weighted avg       0.98      0.98      0.98        50\n",
      "\n",
      "-------------------------------------\n",
      "C Value : 5.267894736842106\n",
      "\n",
      "              precision    recall  f1-score   support\n",
      "\n",
      "           0       1.00      1.00      1.00        19\n",
      "           1       1.00      0.93      0.97        15\n",
      "           2       0.94      1.00      0.97        16\n",
      "\n",
      "    accuracy                           0.98        50\n",
      "   macro avg       0.98      0.98      0.98        50\n",
      "weighted avg       0.98      0.98      0.98        50\n",
      "\n",
      "-------------------------------------\n",
      "C Value : 5.793684210526316\n",
      "\n",
      "              precision    recall  f1-score   support\n",
      "\n",
      "           0       1.00      1.00      1.00        19\n",
      "           1       1.00      0.93      0.97        15\n",
      "           2       0.94      1.00      0.97        16\n",
      "\n",
      "    accuracy                           0.98        50\n",
      "   macro avg       0.98      0.98      0.98        50\n",
      "weighted avg       0.98      0.98      0.98        50\n",
      "\n",
      "-------------------------------------\n",
      "C Value : 6.319473684210527\n",
      "\n",
      "              precision    recall  f1-score   support\n",
      "\n",
      "           0       1.00      1.00      1.00        19\n",
      "           1       1.00      0.93      0.97        15\n",
      "           2       0.94      1.00      0.97        16\n",
      "\n",
      "    accuracy                           0.98        50\n",
      "   macro avg       0.98      0.98      0.98        50\n",
      "weighted avg       0.98      0.98      0.98        50\n",
      "\n",
      "-------------------------------------\n",
      "C Value : 6.845263157894737\n",
      "\n",
      "              precision    recall  f1-score   support\n",
      "\n",
      "           0       1.00      1.00      1.00        19\n",
      "           1       1.00      0.93      0.97        15\n",
      "           2       0.94      1.00      0.97        16\n",
      "\n",
      "    accuracy                           0.98        50\n",
      "   macro avg       0.98      0.98      0.98        50\n",
      "weighted avg       0.98      0.98      0.98        50\n",
      "\n",
      "-------------------------------------\n",
      "C Value : 7.371052631578948\n",
      "\n",
      "              precision    recall  f1-score   support\n",
      "\n",
      "           0       1.00      1.00      1.00        19\n",
      "           1       1.00      0.93      0.97        15\n",
      "           2       0.94      1.00      0.97        16\n",
      "\n",
      "    accuracy                           0.98        50\n",
      "   macro avg       0.98      0.98      0.98        50\n",
      "weighted avg       0.98      0.98      0.98        50\n",
      "\n",
      "-------------------------------------\n",
      "C Value : 7.8968421052631586\n",
      "\n",
      "              precision    recall  f1-score   support\n",
      "\n",
      "           0       1.00      1.00      1.00        19\n",
      "           1       1.00      0.93      0.97        15\n",
      "           2       0.94      1.00      0.97        16\n",
      "\n",
      "    accuracy                           0.98        50\n",
      "   macro avg       0.98      0.98      0.98        50\n",
      "weighted avg       0.98      0.98      0.98        50\n",
      "\n",
      "-------------------------------------\n",
      "C Value : 8.42263157894737\n",
      "\n",
      "              precision    recall  f1-score   support\n",
      "\n",
      "           0       1.00      1.00      1.00        19\n",
      "           1       1.00      1.00      1.00        15\n",
      "           2       1.00      1.00      1.00        16\n",
      "\n",
      "    accuracy                           1.00        50\n",
      "   macro avg       1.00      1.00      1.00        50\n",
      "weighted avg       1.00      1.00      1.00        50\n",
      "\n",
      "-------------------------------------\n",
      "C Value : 8.948421052631579\n",
      "\n",
      "              precision    recall  f1-score   support\n",
      "\n",
      "           0       1.00      1.00      1.00        19\n",
      "           1       1.00      1.00      1.00        15\n",
      "           2       1.00      1.00      1.00        16\n",
      "\n",
      "    accuracy                           1.00        50\n",
      "   macro avg       1.00      1.00      1.00        50\n",
      "weighted avg       1.00      1.00      1.00        50\n",
      "\n",
      "-------------------------------------\n",
      "C Value : 9.47421052631579\n",
      "\n",
      "              precision    recall  f1-score   support\n",
      "\n",
      "           0       1.00      1.00      1.00        19\n",
      "           1       1.00      1.00      1.00        15\n",
      "           2       1.00      1.00      1.00        16\n",
      "\n",
      "    accuracy                           1.00        50\n",
      "   macro avg       1.00      1.00      1.00        50\n",
      "weighted avg       1.00      1.00      1.00        50\n",
      "\n",
      "-------------------------------------\n",
      "C Value : 10.0\n",
      "\n",
      "              precision    recall  f1-score   support\n",
      "\n",
      "           0       1.00      1.00      1.00        19\n",
      "           1       1.00      1.00      1.00        15\n",
      "           2       1.00      1.00      1.00        16\n",
      "\n",
      "    accuracy                           1.00        50\n",
      "   macro avg       1.00      1.00      1.00        50\n",
      "weighted avg       1.00      1.00      1.00        50\n",
      "\n",
      "-------------------------------------\n"
     ]
    }
   ],
   "source": [
    "from sklearn.metrics import classification_report\n",
    "acc = []\n",
    "for i in C:\n",
    "    model = SVC(kernel='linear', C=i)\n",
    "    model.fit(xtrain,ytrain.values.flatten())\n",
    "    ytest_pred = model.predict(xtest)\n",
    "    acc.append(accuracy_score(ytest,ytest_pred))\n",
    "    print(f'C Value : {i}\\n')\n",
    "    print(classification_report(ytest,ytest_pred))\n",
    "    print('-------------------------------------')"
   ]
  },
  {
   "cell_type": "code",
   "execution_count": 28,
   "id": "7ce47730",
   "metadata": {},
   "outputs": [
    {
     "data": {
      "image/png": "[encoded data removed]",
      "text/plain": [
       "<Figure size 640x480 with 1 Axes>"
      ]
     },
     "metadata": {},
     "output_type": "display_data"
    }
   ],
   "source": [
    "import matplotlib.pyplot as plt\n",
    "plt.plot(C, acc)\n",
    "plt.xlabel('C value')\n",
    "plt.ylabel('Testing Accuracy')\n",
    "plt.title('Accuracies for different values of C')\n",
    "plt.show()"
   ]
  },
  {
   "cell_type": "markdown",
   "id": "956e37b9",
   "metadata": {},
   "source": [
    "# ----------------------------------------------------"
   ]
  }
 ],
 "metadata": {
  "kernelspec": {
   "display_name": "Python 3 (ipykernel)",
   "language": "python",
   "name": "python3"
  },
  "language_info": {
   "codemirror_mode": {
    "name": "ipython",
    "version": 3
   },
   "file_extension": ".py",
   "mimetype": "text/x-python",
   "name": "python",
   "nbconvert_exporter": "python",
   "pygments_lexer": "ipython3",
   "version": "3.10.11"
  }
 },
 "nbformat": 4,
 "nbformat_minor": 5
}
