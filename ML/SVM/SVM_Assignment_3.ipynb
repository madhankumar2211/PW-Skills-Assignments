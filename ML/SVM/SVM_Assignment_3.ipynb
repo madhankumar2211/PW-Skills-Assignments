{
 "cells": [
  {
   "cell_type": "markdown",
   "id": "fa124910",
   "metadata": {},
   "source": [
    "### Q1. In order to predict house price based on several characteristics, such as location, square footage, number of bedrooms, etc., you are developing an SVM regression model. Which regression metric in this situation would be the best to employ?\n",
    "Dataset link: https://drive.google.com/file/d/1Z9oLpmt6IDRNw7IeNcHYTGeJRYypRSC0/view\n",
    "\n"
   ]
  },
  {
   "cell_type": "markdown",
   "id": "e3c25469",
   "metadata": {},
   "source": [
    "* **Mean Absolute Error (MAE):** This metric measures the average absolute difference between the predicted and actual values. It is useful when the dataset contains outliers that may affect the performance of other metrics. A lower MAE value indicates better performance.\n",
    "<br>\n",
    "\n",
    "* **Mean Squared Error (MSE):** This metric measures the average squared difference between the predicted and actual values. It penalizes larger errors more heavily than smaller errors. A lower MSE value indicates better performance.\n",
    "<br>\n",
    "\n",
    "* **Root Mean Squared Error (RMSE):** This metric is similar to MSE but takes the square root of the MSE to make the units of the error metric the same as the target variable. It is useful when the target variable has a specific unit, such as dollars for house prices. A lower RMSE value indicates better performance.\n",
    "<br>\n",
    "\n",
    "* **R-squared (R2):** This metric measures the proportion of the variance in the target variable that is explained by the model. It ranges from 0 to 1, with higher values indicating better performance. R2 can be useful for comparing the performance of different models.\n",
    "<br>\n",
    "\n",
    "* **R-squared adjusted:** The R2_adj metric penalizes the inclusion of unnecessary predictor variables that do not contribute significantly to the model's performance. It is useful for preventing overfitting and providing a more accurate measure of the model's performance.\n",
    "\n",
    "* The R2_adj is calculated using the formula:\n",
    "\n",
    "> * **R2_adj = 1 - [(1 - R2) * (n - 1) / (n - k - 1)]**"
   ]
  },
  {
   "cell_type": "markdown",
   "id": "5d343431",
   "metadata": {},
   "source": [
    "# --------------------------------------------"
   ]
  },
  {
   "cell_type": "markdown",
   "id": "aa5ee0b7",
   "metadata": {},
   "source": [
    "### Q2. You have built an SVM regression model and are trying to decide between using MSE or R-squared as your evaluation metric. Which metric would be more appropriate if your goal is to predict the actual price of a house as accurately as possible?\n"
   ]
  },
  {
   "cell_type": "markdown",
   "id": "baab1009",
   "metadata": {},
   "source": [
    "* If the goal is to predict the actual price of a house as accurately as possible, the Mean Squared Error (MSE) would be a more appropriate evaluation metric than R-squared (R2).\n",
    "<br>\n",
    "\n",
    "* MSE measures the average squared difference between the predicted and actual values, which means it directly reflects how far the model's predictions are from the actual house prices. A lower MSE value indicates that the model's predictions are closer to the actual house prices, and therefore, a lower MSE implies higher accuracy.\n",
    "<br>\n",
    "\n",
    "* On the other hand, R2 measures the proportion of the variance in the target variable that is explained by the model. While a high R2 value is generally desirable, it does not necessarily indicate that the model's predictions are close to the actual house prices. A model with a high R2 value may still have a high MSE and, therefore, could provide inaccurate predictions of house prices.\n",
    "<br>\n",
    "\n",
    "* Therefore, if the primary goal is to predict the actual price of a house as accurately as possible, the MSE metric would be more appropriate as it directly reflects the accuracy of the model's predictions."
   ]
  },
  {
   "cell_type": "markdown",
   "id": "6e355687",
   "metadata": {},
   "source": [
    "# --------------------------------------------"
   ]
  },
  {
   "cell_type": "markdown",
   "id": "61eb33c2",
   "metadata": {},
   "source": [
    "### Q3. You have a dataset with a significant number of outliers and are trying to select an appropriate regression metric to use with your SVM model. Which metric would be the most appropriate in this scenario?\n"
   ]
  },
  {
   "cell_type": "markdown",
   "id": "ff8378f3",
   "metadata": {},
   "source": [
    "* When dealing with a dataset that contains a significant number of outliers, Mean Absolute Error (MAE) is a more appropriate metric to use with an SVM regression model than Mean Squared Error (MSE).\n",
    "<br>\n",
    "\n",
    "* The reason for this is that MSE is more sensitive to outliers since it squares the errors, making the contribution of large errors to the overall error much larger than that of smaller errors. On the other hand, MAE measures the absolute difference between the predicted values and the actual values, and is therefore less sensitive to outliers.\n",
    "<br>\n",
    "\n",
    "* Using MAE as the evaluation metric for the SVM regression model would ensure that the model is evaluated based on its performance in predicting the actual price of the house, regardless of any outliers that may be present in the dataset."
   ]
  },
  {
   "cell_type": "markdown",
   "id": "19cd98e8",
   "metadata": {},
   "source": [
    "# --------------------------------------------"
   ]
  },
  {
   "cell_type": "markdown",
   "id": "6a0c6a26",
   "metadata": {},
   "source": [
    "### Q4. You have built an SVM regression model using a polynomial kernel and are trying to select the best metric to evaluate its performance. You have calculated both MSE and RMSE and found that both values are very close. Which metric should you choose to use in this case?\n"
   ]
  },
  {
   "cell_type": "markdown",
   "id": "4868aa3e",
   "metadata": {},
   "source": [
    "* When evaluating the performance of an SVM regression model that uses a polynomial kernel, if the values of Mean Squared Error (MSE) and Root Mean Squared Error (RMSE) are very close, then Root Mean Squared Error (RMSE) should be used as the evaluation metric.\n",
    "<br>\n",
    "\n",
    "* The reason for this is that RMSE is more interpretable since it is expressed in the same units as the target variable. In the case of predicting house prices, RMSE would be expressed in dollars, which makes it easier to understand how well the model is performing in terms of its predictive accuracy.\n",
    "<br>\n",
    "\n",
    "* Additionally, RMSE is less sensitive to the scale of the target variable than MSE. This means that even if the scale of the target variable changes, the RMSE values would still be comparable across different models.\n",
    "<br>\n",
    "\n",
    "* Therefore, in the scenario where MSE and RMSE are very close for an SVM regression model with a polynomial kernel, **using RMSE as the evaluation metric would be the better choice.**"
   ]
  },
  {
   "cell_type": "markdown",
   "id": "e4b4692f",
   "metadata": {},
   "source": [
    "# --------------------------------------------"
   ]
  },
  {
   "cell_type": "markdown",
   "id": "271b308f",
   "metadata": {},
   "source": [
    "### Q5. You are comparing the performance of different SVM regression models using different kernels (linear, polynomial, and RBF) and are trying to select the best evaluation metric. Which metric would be most appropriate if your goal is to measure how well the model explains the variance in the target variable?"
   ]
  },
  {
   "cell_type": "markdown",
   "id": "d04c1b9b",
   "metadata": {},
   "source": [
    "* When comparing the performance of different SVM regression models using different kernels, if the goal is to measure how well the model explains the variance in the target variable, then R-squared (R2) would be the most appropriate evaluation metric to use.\n",
    "<br>\n",
    "\n",
    "* R-squared measures the proportion of the variance in the target variable that is explained by the model. A higher R-squared value indicates that the model is explaining more of the variance in the target variable and is therefore a better fit for the data.\n",
    "<br>\n",
    "\n",
    "* Since the goal is to measure how well the model explains the variance in the target variable, R-squared would provide an intuitive understanding of how well each model is performing in that respect. It would also allow for easy comparison between the different SVM regression models, regardless of the kernel used.\n",
    "<br>\n",
    "\n",
    "* Therefore, R-squared would be the most appropriate evaluation metric to use when comparing the performance of different SVM regression models using different kernels, with the goal of measuring how well the model explains the variance in the target variable."
   ]
  },
  {
   "cell_type": "markdown",
   "id": "86996df5",
   "metadata": {},
   "source": [
    "# --------------------------------------------"
   ]
  }
 ],
 "metadata": {
  "kernelspec": {
   "display_name": "Python 3 (ipykernel)",
   "language": "python",
   "name": "python3"
  },
  "language_info": {
   "codemirror_mode": {
    "name": "ipython",
    "version": 3
   },
   "file_extension": ".py",
   "mimetype": "text/x-python",
   "name": "python",
   "nbconvert_exporter": "python",
   "pygments_lexer": "ipython3",
   "version": "3.10.11"
  }
 },
 "nbformat": 4,
 "nbformat_minor": 5
}
