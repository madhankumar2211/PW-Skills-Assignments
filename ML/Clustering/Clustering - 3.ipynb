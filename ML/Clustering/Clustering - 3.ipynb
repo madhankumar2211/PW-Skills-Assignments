{
 "cells": [
  {
   "cell_type": "markdown",
   "id": "0204b891",
   "metadata": {},
   "source": [
    "### Q1. Explain the basic concept of clustering and give examples of applications where clustering is useful.\n"
   ]
  },
  {
   "cell_type": "markdown",
   "id": "ba6439f4",
   "metadata": {},
   "source": [
    "* Clustering is a fundamental concept in machine learning and data analysis that involves grouping similar objects together based on their characteristics or attributes. The goal is to identify inherent patterns or structures in the data without any prior knowledge or labels. In clustering, the data points within a cluster are more similar to each other than they are to those in other clusters.\n",
    "\n",
    "\n",
    "###### The basic concept of clustering involves the following steps:\n",
    "\n",
    "   * **Data Representation:** The first step is to represent the data in a suitable format, typically as a set of feature vectors. Each data point is described by a set of attributes or features.\n",
    "\n",
    "   * **Similarity Measurement:** A distance or similarity metric is chosen to quantify the similarity between data points. Commonly used metrics include Euclidean distance, cosine similarity, or correlation coefficients.\n",
    "\n",
    "   * **Cluster Initialization:** Initially, the algorithm assigns each data point to a cluster randomly or using some predefined strategy.\n",
    "\n",
    "   * **Iterative Assignment and Update:** The algorithm iteratively assigns data points to clusters and updates the cluster centroids or representatives based on the similarity measure. This process continues until convergence criteria are met.\n",
    "\n",
    "   * **Evaluation:** Once the clustering process is complete, it is essential to evaluate the quality of the clusters formed. Various metrics, such as intra-cluster similarity and inter-cluster dissimilarity, can be used for evaluation.\n",
    "\n",
    "\n",
    "###### Clustering finds applications in various fields, including:\n",
    "   * **Customer Segmentation:** Clustering helps businesses group customers based on their purchasing patterns, demographics, or behavior. This information can be utilized for targeted marketing strategies, personalized recommendations, or improving customer satisfaction.\n",
    "\n",
    "   * **Image Segmentation:** Clustering can be employed to segment images based on color, texture, or spatial information. It is useful in computer vision tasks, such as object recognition, image retrieval, and medical image analysis.\n",
    "   \n",
    "   * **Anomaly Detection:** Clustering algorithms can identify outliers or anomalies in datasets by considering them as separate clusters or dissimilar points. This is useful in fraud detection, network intrusion detection, and identifying abnormal behavior in various domains.\n",
    "\n",
    "   * **Document Clustering:** Clustering text documents allows for organizing large collections into meaningful groups. It can aid in topic modeling, information retrieval, and document recommendation systems.\n",
    "\n",
    "   * **Genetic Analysis:** Clustering techniques are used to group genes or proteins based on their expression patterns, aiding in understanding genetic relationships, disease classification, and drug discovery.\n",
    "\n",
    "   * **Social Network Analysis:** Clustering algorithms help identify communities or groups within social networks based on patterns of connections and interactions between individuals. It enables targeted advertising, recommendation systems, and understanding social dynamics.\n"
   ]
  },
  {
   "cell_type": "markdown",
   "id": "8a7dabf9",
   "metadata": {},
   "source": [
    "# ------------------------------------------"
   ]
  },
  {
   "cell_type": "markdown",
   "id": "26a7c76a",
   "metadata": {},
   "source": [
    "### Q2. What is DBSCAN and how does it differ from other clustering algorithms such as k-means and hierarchical clustering?\n"
   ]
  },
  {
   "cell_type": "markdown",
   "id": "0d104583",
   "metadata": {},
   "source": [
    "* DBSCAN (Density-Based Spatial Clustering of Applications with Noise) is a density-based clustering algorithm that groups together data points based on their density and proximity. Unlike k-means and hierarchical clustering, DBSCAN does not require a predefined number of clusters and can discover clusters of arbitrary shapes and sizes. Here's how DBSCAN differs from other clustering algorithms:\n",
    "\n",
    "\n",
    "|--|DBSCAN|K-means|Hierarchical Clustering|\n",
    "|--|--|--|--|\n",
    "|Type|Density-based|Centroid-based|Agglomerative or Divisive|\n",
    "|Number of Clusters|Automatically determined|Predefined|Depends on dendrogram|\n",
    "|Handling Outliers|\tDistinguishes noise points|\tAll points belong to a cluster|\tDepends on linkage criterion|\n",
    "|Cluster Shape|\tHandles clusters of arbitrary shape|\tAssumes spherical clusters|\tDepends on linkage criterion|\n",
    "|Cluster Size|\tHandles clusters of varying sizes|\tAssumes clusters of similar size|\tDepends on linkage criterion|\n",
    "|Distance Metric|\tCan handle various distance metrics|\tEuclidean distance|\tDepends on linkage criterion|\n",
    "|Scalability|\tWorks well with large datasets|\tSensitive to dataset size|\tSensitive to dataset size|\n",
    "|Interpretability|\tProvides interpretable clusters|\tCluster centroids represent cluster centers\t|\tHierarchical structure|\t\n",
    "|Pros\t|Handles arbitrary shapes and sizes. Works well with varying densities|Simplicity and efficiency. Easily interpretable results|\tHierarchical structure Flexibility at different scales|\t\t\n",
    "|Cons|Sensitive to parameter settings. May struggle with high-dimensionality\t|Assumes spherical clusters. Requires predefined number of clusters. May converge to local optima|Computationally expensive. Sensitive to data ordering|\n",
    "\t\t\n",
    "\t"
   ]
  },
  {
   "cell_type": "markdown",
   "id": "5c4a3df6",
   "metadata": {},
   "source": [
    "# ------------------------------------------"
   ]
  },
  {
   "cell_type": "markdown",
   "id": "f786b5ba",
   "metadata": {},
   "source": [
    "### Q3. How do you determine the optimal values for the epsilon and minimum points parameters in DBSCAN clustering?\n"
   ]
  },
  {
   "cell_type": "markdown",
   "id": "3c9739bf",
   "metadata": {},
   "source": [
    "* Determining the optimal values for the epsilon and minimum points parameters in DBSCAN clustering can be approached in a few different ways. Here are some common methods:\n",
    "\n",
    "    * **Domain Knowledge:** If you have prior knowledge or insights about the dataset and the expected density of the clusters, you can make an informed initial estimation of the epsilon value. Understanding the scale and characteristics of the data can help in selecting a reasonable epsilon value.\n",
    "\n",
    "    * **Visual Inspection:** Plotting the data points can provide visual clues about the density and structure of the clusters. You can experiment with different epsilon values and observe the resulting clusters. Adjust the epsilon value until the clusters align with your expectations or desired outcomes.\n",
    "\n",
    "    * **Elbow Method:** The elbow method is not applicable to epsilon and minimum points parameters directly, but it can help indirectly. You can use another clustering algorithm, such as k-means, to cluster the data with a range of values for the number of clusters. Then, you can compute a metric, such as the silhouette score or within-cluster sum of squares, for each clustering result. Plotting the metric values against the number of clusters can help identify an \"elbow\" point where increasing the number of clusters does not significantly improve the metric. This elbow point can provide insights into the suitable density or number of clusters, which can guide the selection of epsilon and minimum points.\n",
    "\n",
    "    * **Reachability Plot:** The reachability plot is a useful tool for visually understanding the density-based connectivity in DBSCAN. It plots the distance to the kth nearest neighbor for each point in ascending order. Analyzing the reachability plot can help identify natural thresholds or transitions in the distances, suggesting appropriate epsilon values.\n",
    "\n",
    "    * **Grid Search:** Grid search is a systematic approach to find the optimal combination of parameters by evaluating multiple combinations of epsilon and minimum points. Define a grid of values for epsilon and minimum points, and perform DBSCAN clustering with each combination. Evaluate the clustering results using suitable metrics, such as silhouette score or a domain-specific evaluation metric. Select the combination of parameters that yields the best clustering performance.\n",
    "\n",
    "    * **Density-Based Evaluation Metrics:** There are also some density-based evaluation metrics, such as the density-based clustering validity (DBCV) index or the Hopkins statistic, that can help assess the quality of DBSCAN clustering results. These metrics can guide the selection of epsilon and minimum points by measuring the compactness and separation of clusters.\n",
    "\n",
    "* It is important to note that parameter selection in DBSCAN is highly dependent on the dataset and the specific problem. Experimentation, iterative refinement, and considering the characteristics of the data and desired clustering outcomes are crucial in determining the optimal values for epsilon and minimum points in DBSCAN clustering."
   ]
  },
  {
   "cell_type": "markdown",
   "id": "aced714d",
   "metadata": {},
   "source": [
    "# ------------------------------------------"
   ]
  },
  {
   "cell_type": "markdown",
   "id": "38478af2",
   "metadata": {},
   "source": [
    "### Q4. How does DBSCAN clustering handle outliers in a dataset?\n"
   ]
  },
  {
   "cell_type": "markdown",
   "id": "8a6f5cd3",
   "metadata": {},
   "source": [
    "* DBSCAN (Density-Based Spatial Clustering of Applications with Noise) clustering algorithm has a built-in mechanism to handle outliers in a dataset. Here's how DBSCAN handles outliers:\n",
    "    * **Core Points:** In DBSCAN, a core point is a data point that has a sufficient number of neighboring points within a specified radius, called epsilon (ε). Core points are considered to be part of a cluster.\n",
    "\n",
    "    * **Border Points:** Border points are data points that have fewer neighboring points than the required threshold but are within the epsilon radius of a core point. Border points are not considered as outliers, but they are assigned to the cluster of a neighboring core point.\n",
    "\n",
    "    * **Noise Points/Outliers:** Noise points, also known as outliers, are data points that do not meet the criteria to be classified as core or border points. These points do not belong to any cluster and are considered as noise.\n",
    "\n",
    "\n",
    "* DBSCAN effectively identifies and separates noise points from the clusters based on the density and connectivity of the data. It does not assign noise points to any cluster, distinguishing them from actual data points that belong to a cluster. By doing so, DBSCAN provides a natural way to handle outliers.\n",
    "\n",
    "\n",
    "* The ability of DBSCAN to handle outliers is one of its advantages over other clustering algorithms, such as k-means. In k-means, every data point is assigned to a cluster, including potential outliers. In contrast, DBSCAN allows for the discovery of clusters while explicitly identifying and disregarding outliers as noise points."
   ]
  },
  {
   "cell_type": "markdown",
   "id": "ee4e712e",
   "metadata": {},
   "source": [
    "# ------------------------------------------"
   ]
  },
  {
   "cell_type": "markdown",
   "id": "fa26a2ff",
   "metadata": {},
   "source": [
    "### Q5. How does DBSCAN clustering differ from k-means clustering?\n"
   ]
  },
  {
   "cell_type": "markdown",
   "id": "40834901",
   "metadata": {},
   "source": [
    "* DBSCAN (Density-Based Spatial Clustering of Applications with Noise) and k-means clustering are two fundamentally different clustering algorithms. Here's how they differ:\n",
    "\n",
    "|Aspect\t|DBSCAN\t|k-means|\n",
    "|--|--|--|\n",
    "|Type of Clustering|\tDensity-based|\tCentroid-based|\n",
    "|Cluster Shape and Size|\tHandles clusters of arbitrary shape|\tAssumes spherical clusters|\n",
    "|Number of Clusters|\tAutomatically determined|\tPredefined|\n",
    "|Handling Outliers|\tDistinguishes noise points|\tAssigns outliers to clusters|\n",
    "|Scalability|\tWorks well with large datasets|\tCan be computationally expensive|\n",
    "|Interpretability|\tProvides interpretable clusters|\tCluster centroids|"
   ]
  },
  {
   "cell_type": "markdown",
   "id": "354ffadc",
   "metadata": {},
   "source": [
    "# ------------------------------------------"
   ]
  },
  {
   "cell_type": "markdown",
   "id": "785efced",
   "metadata": {},
   "source": [
    "### Q6. Can DBSCAN clustering be applied to datasets with high dimensional feature spaces? If so, what are some potential challenges?\n"
   ]
  },
  {
   "cell_type": "markdown",
   "id": "55e76f8d",
   "metadata": {},
   "source": [
    "* Yes, DBSCAN clustering can be applied to datasets with high-dimensional feature spaces. However, there are several potential challenges when using DBSCAN in high-dimensional spaces:\n",
    "    * **Curse of Dimensionality:** In high-dimensional spaces, the curse of dimensionality can significantly impact density-based clustering algorithms like DBSCAN. As the number of dimensions increases, the available data becomes sparse, and the notion of density becomes less reliable. The distance between points may become less meaningful, making it difficult to define an appropriate value for the epsilon parameter.\n",
    "\n",
    "    * **Increased Sparsity:** With higher dimensions, the data points tend to become more dispersed, leading to sparsity in the feature space. The sparsity can result in reduced density and weak or nonexistent density-connected components, making it harder for DBSCAN to identify meaningful clusters.\n",
    "\n",
    "    * **Increased Dimensional Noise:** High-dimensional spaces often contain irrelevant or noisy dimensions. The presence of noise dimensions can dilute the density information and make it challenging for DBSCAN to accurately capture the underlying structure of the data.\n",
    "\n",
    "    * **Distance Metric Selection:** Choosing an appropriate distance metric in high-dimensional spaces becomes crucial. Euclidean distance, commonly used in DBSCAN, may not be effective in high dimensions due to the \"distance concentration\" phenomenon. Other distance metrics like Manhattan or Mahalanobis distance might be more suitable, depending on the characteristics of the data.\n",
    "\n",
    "    * **Parameter Sensitivity:** The choice of epsilon and minimum points parameters in DBSCAN becomes more critical in high-dimensional spaces. The selection of these parameters directly impacts the density estimation and clustering results. Determining suitable parameter values becomes challenging, as the impact of different parameter choices can be less intuitive in high dimensions.\n",
    "\n",
    "    * **Dimensionality Reduction:** Dimensionality reduction techniques, such as PCA (Principal Component Analysis) or t-SNE (t-Distributed Stochastic Neighbor Embedding), can be employed to reduce the dimensionality of the data before applying DBSCAN. Reducing the number of dimensions can help alleviate some of the challenges associated with high-dimensional spaces."
   ]
  },
  {
   "cell_type": "markdown",
   "id": "0695c69e",
   "metadata": {},
   "source": [
    "# ------------------------------------------"
   ]
  },
  {
   "cell_type": "markdown",
   "id": "9cee52b5",
   "metadata": {},
   "source": [
    "### Q7. How does DBSCAN clustering handle clusters with varying densities?\n"
   ]
  },
  {
   "cell_type": "markdown",
   "id": "27ab5a62",
   "metadata": {},
   "source": [
    "* DBSCAN (Density-Based Spatial Clustering of Applications with Noise) clustering algorithm is well-suited for handling clusters with varying densities. Here's how DBSCAN handles clusters with different densities:\n",
    "    * **Density-Based Definition:** DBSCAN defines clusters based on density. It considers a data point to be part of a cluster if it has a sufficient number of neighboring points within a specified radius, called epsilon (ε). This definition allows DBSCAN to capture clusters of varying densities.\n",
    "\n",
    "    * **Core Points:** In DBSCAN, a core point is a data point that has a minimum number of neighboring points (minimum points) within the epsilon radius. Core points are at the center of dense regions and represent the core of a cluster. They form the foundation of cluster identification in DBSCAN.\n",
    "\n",
    "    * **Direct Density-Reachability:** DBSCAN uses the notion of direct density-reachability to connect points within a cluster. A point is considered directly density-reachable from another point if it is within the epsilon radius and meets the minimum points requirement. This allows DBSCAN to capture dense regions and connect data points within clusters, even if the densities vary.\n",
    "\n",
    "    * **Border Points:** Border points are data points that have fewer neighboring points than the minimum points threshold but are within the epsilon radius of a core point. Border points are still part of the cluster but are not as densely connected as core points. They help in expanding the clusters and accommodating varying densities.\n",
    "\n",
    "    * **Noise Points/Outliers:** DBSCAN explicitly identifies noise points, which are data points that do not meet the criteria to be classified as core or border points. These points do not belong to any cluster and are considered as noise or outliers. By distinguishing noise points, DBSCAN effectively handles regions with low density and outliers that are not part of any cluster.\n",
    "\n",
    "* By considering density and connectivity, DBSCAN can identify and separate clusters with varying densities. It can capture both dense and sparse regions within a dataset, allowing for flexible clustering that accommodates varying densities naturally."
   ]
  },
  {
   "cell_type": "markdown",
   "id": "838addd4",
   "metadata": {},
   "source": [
    "# ------------------------------------------"
   ]
  },
  {
   "cell_type": "markdown",
   "id": "ad397881",
   "metadata": {},
   "source": [
    "### Q8. What are some common evaluation metrics used to assess the quality of DBSCAN clustering results?\n"
   ]
  },
  {
   "cell_type": "markdown",
   "id": "67507bb4",
   "metadata": {},
   "source": [
    "* There are several evaluation metrics commonly used to assess the quality of DBSCAN (Density-Based Spatial Clustering of Applications with Noise) clustering results. These metrics help measure the effectiveness and performance of the clustering algorithm. Here are some commonly used evaluation metrics for DBSCAN:\n",
    "    * **Silhouette Coefficient:** The silhouette coefficient measures the compactness and separation of clusters. It takes into account both the cohesion of data points within their own cluster and the separation from points in other clusters. The silhouette coefficient ranges from -1 to 1, with higher values indicating better-defined and well-separated clusters.\n",
    "\n",
    "    * **Davies-Bouldin Index:** The Davies-Bouldin Index evaluates the compactness and separation of clusters. It calculates the average similarity between each cluster and its most similar cluster, taking into account both the intra-cluster and inter-cluster distances. A lower Davies-Bouldin Index indicates better clustering performance.\n",
    "\n",
    "    * **Dunn Index:** The Dunn Index assesses the compactness and separation of clusters by computing the ratio between the minimum inter-cluster distance and the maximum intra-cluster distance. A higher Dunn Index indicates better clustering, as it reflects well-separated clusters with compact internal structure.\n",
    "\n",
    "    * **Calinski-Harabasz Index:** The Calinski-Harabasz Index measures the ratio of between-cluster dispersion to within-cluster dispersion. It evaluates the separation between clusters and the compactness within each cluster. Higher values of the Calinski-Harabasz Index indicate better-defined clusters.\n",
    "\n",
    "    * **Density-Based Clustering Validity (DBCV) Index:** The DBCV Index evaluates the quality of density-based clustering methods, including DBSCAN. It takes into account both the density and connectivity of the clusters to assess the compactness and separation. A lower DBCV value indicates better clustering performance.\n",
    "\n",
    "    * **Inter-Cluster Distance Matrix:** The inter-cluster distance matrix provides insights into the distances between clusters. It can be visualized as a matrix, where each cell represents the distance between two clusters. Analyzing the inter-cluster distances helps understand the separation and compactness of clusters.\n",
    "\n",
    "\n",
    "* It's important to note that the choice of evaluation metric depends on the specific characteristics of the data and the clustering objectives. Some metrics may be more suitable for certain types of datasets or clustering tasks. It is often recommended to use multiple evaluation metrics in combination to get a comprehensive understanding of the clustering results."
   ]
  },
  {
   "cell_type": "markdown",
   "id": "3b74cab8",
   "metadata": {},
   "source": [
    "# ------------------------------------------"
   ]
  },
  {
   "cell_type": "markdown",
   "id": "bc4b898f",
   "metadata": {},
   "source": [
    "### Q9. Can DBSCAN clustering be used for semi-supervised learning tasks?\n"
   ]
  },
  {
   "cell_type": "markdown",
   "id": "090c33c0",
   "metadata": {},
   "source": [
    "* DBSCAN (Density-Based Spatial Clustering of Applications with Noise) clustering algorithm is primarily an unsupervised learning technique that does not require labeled data. However, it can be used as a part of a semi-supervised learning approach in certain cases. Here's how DBSCAN can be applied to semi-supervised learning tasks:\n",
    "    * **Generating Pseudo-labels:** In semi-supervised learning, a small portion of the data is labeled, while the majority remains unlabeled. DBSCAN can be applied to the unlabeled data to generate pseudo-labels based on the clustering results. Data points assigned to the same cluster can be considered as belonging to the same class, effectively generating labels for the unlabeled data.\n",
    "\n",
    "    * **Incorporating Pseudo-labels into Training:** The pseudo-labels generated by DBSCAN can be combined with the labeled data to create a larger training dataset. This expanded dataset, containing both labeled and pseudo-labeled data, can then be used to train a supervised learning model. The model can leverage the additional information from the pseudo-labels to improve its performance.\n",
    "\n",
    "    * **Active Learning:** DBSCAN can be used in combination with active learning techniques in semi-supervised learning. Active learning aims to select the most informative data points for labeling. DBSCAN can help identify uncertain or ambiguous regions in the data, allowing for targeted labeling of points in those regions to improve the model's performance.\n",
    "\n",
    "    * **Outlier Detection:** DBSCAN's ability to identify noise points and outliers can be useful in semi-supervised learning. Outliers can be treated as potentially mislabeled or difficult-to-classify instances. By detecting outliers, DBSCAN can help identify and potentially correct mislabeled data points, leading to improved performance in semi-supervised learning.\n",
    "\n",
    "\n",
    "* It's important to note that while DBSCAN can be used as part of a semi-supervised learning approach, its primary purpose is unsupervised clustering. The effectiveness of DBSCAN in semi-supervised learning depends on the characteristics of the dataset, the quality of the clustering results, and the specific semi-supervised learning task at hand."
   ]
  },
  {
   "cell_type": "markdown",
   "id": "27979f8b",
   "metadata": {},
   "source": [
    "# ------------------------------------------"
   ]
  },
  {
   "cell_type": "markdown",
   "id": "8ee72b07",
   "metadata": {},
   "source": [
    "### Q10. How does DBSCAN clustering handle datasets with noise or missing values?\n"
   ]
  },
  {
   "cell_type": "markdown",
   "id": "b5f60acc",
   "metadata": {},
   "source": [
    "* DBSCAN (Density-Based Spatial Clustering of Applications with Noise) clustering algorithm has some inherent capabilities to handle datasets with noise or missing values, although they require some consideration. Here's how DBSCAN handles these situations:\n",
    "    * **Noise Handling:** DBSCAN has a built-in mechanism to handle noise points in the dataset. Noise points are data points that do not belong to any cluster. DBSCAN identifies noise points as data points that do not meet the criteria to be classified as core or border points. By explicitly distinguishing noise points, DBSCAN effectively handles and separates them from the actual clusters.\n",
    "\n",
    "    * **Robustness to Noise:** DBSCAN is robust to noise in the sense that the presence of noise points does not affect the clustering of other data points. The clusters formed by DBSCAN are primarily determined by the density and connectivity of the data points, rather than the presence of noise. This robustness allows DBSCAN to provide meaningful clustering results even in the presence of noisy data.\n",
    "\n",
    "    * **Missing Values:** DBSCAN can handle missing values to some extent, but missing values pose challenges in distance calculations. If a feature (dimension) has missing values for some data points, it can impact the distance calculations used by DBSCAN. One approach is to either omit the data points with missing values or fill in the missing values based on imputation techniques before applying DBSCAN.\n",
    "\n",
    "    * **Handling Missing Values with Imputation:** Prior to applying DBSCAN, missing values in the dataset can be imputed using various imputation techniques, such as mean imputation, median imputation, or more advanced methods like k-nearest neighbors (KNN) imputation. Imputing missing values helps in preserving the overall structure and density of the data, which is crucial for DBSCAN to identify clusters effectively.\n",
    "\n",
    "    * **Handling Missing Values as a Separate Category:** Another approach is to treat missing values as a separate category or a distinct value. This approach allows DBSCAN to consider missing values as a valid part of the data and potentially group similar patterns with missing values into a separate cluster.\n",
    "\n",
    "\n",
    "* It's important to note that the handling of noise and missing values in DBSCAN depends on the specific characteristics of the dataset and the preprocessing steps applied. Preprocessing techniques like data imputation, data cleaning, or dimensionality reduction can be employed to enhance the performance of DBSCAN in the presence of noise or missing values."
   ]
  },
  {
   "cell_type": "markdown",
   "id": "f2c88b28",
   "metadata": {},
   "source": [
    "# ------------------------------------------"
   ]
  },
  {
   "cell_type": "markdown",
   "id": "c5503ee3",
   "metadata": {},
   "source": [
    "### Q11. Implement the DBSCAN algorithm using a python programming language, and apply it to a sample dataset. Discuss the clustering results and interpret the meaning of the obtained clusters."
   ]
  },
  {
   "cell_type": "code",
   "execution_count": 5,
   "id": "54746401",
   "metadata": {
    "scrolled": true
   },
   "outputs": [
    {
     "data": {
      "image/png": "[encoded data removed]",
      "text/plain": [
       "<Figure size 432x288 with 1 Axes>"
      ]
     },
     "metadata": {
      "needs_background": "light"
     },
     "output_type": "display_data"
    },
    {
     "name": "stdout",
     "output_type": "stream",
     "text": [
      "DBSCAN Clustering Result: \n",
      "2 clusters,\n",
      "3 noise points\n"
     ]
    }
   ],
   "source": [
    "import numpy as np\n",
    "from sklearn.cluster import DBSCAN\n",
    "from sklearn.datasets import make_moons\n",
    "import matplotlib.pyplot as plt\n",
    "\n",
    "# Generate a sample dataset\n",
    "X, y = make_moons(n_samples=200, noise=0.1, random_state=0)\n",
    "\n",
    "# Apply DBSCAN\n",
    "dbscan = DBSCAN(eps=0.2, min_samples=5)\n",
    "dbscan.fit(X)\n",
    "\n",
    "# Extract cluster labels and core sample indices\n",
    "labels = dbscan.labels_\n",
    "core_samples = np.zeros_like(labels, dtype=bool)\n",
    "core_samples[dbscan.core_sample_indices_] = True\n",
    "\n",
    "# Number of clusters in labels, ignoring noise if present\n",
    "n_clusters = len(set(labels)) - (1 if -1 in labels else 0)\n",
    "n_noise = list(labels).count(-1)\n",
    "\n",
    "# Plot the clustering result\n",
    "plt.scatter(X[:, 0], X[:, 1], c=labels)\n",
    "plt.title(\"DBSCAN Clustering\")\n",
    "plt.show()\n",
    "print(f\"DBSCAN Clustering Result: \\n{n_clusters} clusters,\\n{n_noise} noise points\")"
   ]
  },
  {
   "cell_type": "markdown",
   "id": "40591793",
   "metadata": {},
   "source": [
    "* In this example, we generate a sample dataset using the make_moons function from scikit-learn, which creates a dataset with two interleaving half-moon shapes. We then apply the DBSCAN algorithm with an epsilon (eps) value of 0.2 and a minimum number of samples (min_samples) set to 5.\n",
    "\n",
    "\n",
    "* After fitting the DBSCAN model to the data, we extract the cluster labels (labels) assigned to each point and identify the core samples. We then calculate the number of clusters present, excluding the noise points (labeled as -1). Finally, we visualize the clustering result using a scatter plot, where each point is colored according to its assigned cluster label.\n",
    "\n",
    "\n",
    "* The interpretation of the obtained clusters depends on the specific dataset and its characteristics. In the case of the moon-shaped dataset, the DBSCAN algorithm is expected to identify two clusters representing the two half-moon shapes. The noise points, if any, would be displayed as outliers not assigned to any cluster.\n",
    "\n",
    "\n",
    "* By examining the clustering result, you can observe how the algorithm groups the points into clusters. In this example, the two clusters should correspond to the two half-moon shapes, and the noise points (if any) should be located outside these shapes. Analyzing the clusters' spatial distribution and their separation can provide insights into the structure and patterns present in the data.\n",
    "\n",
    "\n",
    "* Remember that the interpretation of clusters should be done in the context of your specific dataset and the domain knowledge associated with it."
   ]
  },
  {
   "cell_type": "markdown",
   "id": "9b6c4545",
   "metadata": {},
   "source": [
    "# ------------------------------------------"
   ]
  }
 ],
 "metadata": {
  "kernelspec": {
   "display_name": "Python 3 (ipykernel)",
   "language": "python",
   "name": "python3"
  },
  "language_info": {
   "codemirror_mode": {
    "name": "ipython",
    "version": 3
   },
   "file_extension": ".py",
   "mimetype": "text/x-python",
   "name": "python",
   "nbconvert_exporter": "python",
   "pygments_lexer": "ipython3",
   "version": "3.9.6"
  }
 },
 "nbformat": 4,
 "nbformat_minor": 5
}
