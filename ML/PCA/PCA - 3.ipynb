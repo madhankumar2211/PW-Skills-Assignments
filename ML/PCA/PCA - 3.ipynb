{
 "cells": [
  {
   "cell_type": "markdown",
   "id": "5b0c5461",
   "metadata": {},
   "source": [
    "#### Q1. What are Eigenvalues and Eigenvectors? How are they related to the Eigen-Decomposition approach? Explain with an example.\n"
   ]
  },
  {
   "cell_type": "markdown",
   "id": "5a53f6fd",
   "metadata": {},
   "source": [
    "* Eigenvalues and eigenvectors are important concepts in linear algebra and are closely related to the eigen-decomposition approach, which is a method for decomposing a matrix into its constituent parts.\n",
    "\n",
    "\n",
    "* An eigenvector is a non-zero vector that, when multiplied by a given square matrix, results in a scalar multiple of that same vector. The scalar multiple is called the eigenvalue, and represents the scaling factor by which the eigenvector is stretched or shrunk when multiplied by the matrix.\n",
    "\n",
    "\n",
    "* Eigenvalues and eigenvectors are closely related to the eigen-decomposition approach, which is a method for decomposing a matrix into a product of its eigenvectors and eigenvalues. This is also known as diagonalization of a matrix.\n",
    "Here's the Python code to find the eigenvalues and eigenvectors of a matrix and perform eigen-decomposition:"
   ]
  },
  {
   "cell_type": "code",
   "execution_count": 1,
   "id": "fe65e24d",
   "metadata": {},
   "outputs": [
    {
     "name": "stdout",
     "output_type": "stream",
     "text": [
      "Eigenvalues: [3.73205081 0.26794919]\n",
      "Eigenvectors:\n",
      " [[ 0.8660254 -0.8660254]\n",
      " [ 0.5        0.5      ]]\n",
      "\n",
      "Eigen-decomposition of A:\n",
      " [[2. 3.]\n",
      " [1. 2.]]\n"
     ]
    }
   ],
   "source": [
    "import numpy as np\n",
    "\n",
    "# Define the matrix A\n",
    "A = np.array([[2, 3], [1, 2]])\n",
    "\n",
    "# Find the eigenvalues and eigenvectors of A\n",
    "eigenvalues, eigenvectors = np.linalg.eig(A)\n",
    "\n",
    "# Print the eigenvalues and eigenvectors\n",
    "print(\"Eigenvalues:\", eigenvalues)\n",
    "print(\"Eigenvectors:\\n\", eigenvectors)\n",
    "\n",
    "# Form the matrix P and diagonal matrix Λ\n",
    "P = eigenvectors\n",
    "Λ = np.diag(eigenvalues)\n",
    "\n",
    "# Perform eigen-decomposition\n",
    "A_decomp = np.dot(np.dot(P, Λ), np.linalg.inv(P))\n",
    "print(\"\\nEigen-decomposition of A:\\n\", A_decomp)"
   ]
  },
  {
   "cell_type": "markdown",
   "id": "477a4ebc",
   "metadata": {},
   "source": [
    "# -----------------------------------------------------"
   ]
  },
  {
   "cell_type": "markdown",
   "id": "1b71fd6e",
   "metadata": {},
   "source": [
    "#### Q2. What is eigen decomposition and what is its significance in linear algebra?\n"
   ]
  },
  {
   "cell_type": "markdown",
   "id": "4773d7d1",
   "metadata": {},
   "source": [
    "\n",
    "\n",
    "* Eigen decomposition is a process in linear algebra that involves decomposing a square matrix into a set of eigenvectors and eigenvalues.\n",
    "\n",
    "\n",
    "\n",
    "* An eigenvector of a matrix is a non-zero vector that, when multiplied by the matrix, yields a scalar multiple of itself. Also, the matrix only changes the scale of the vector, which is called the eigenvalue.\n",
    "\n",
    "\n",
    "\n",
    "* To perform eigen decomposition, we start by finding the eigenvectors and eigenvalues of the matrix. The eigenvectors are normalized & the resulting set of normalized eigenvectors form an orthonormal basis for the space in which the matrix operates. The eigenvalues are arranged in a diagonal matrix, with the corresponding eigenvectors forming the columns.\n",
    "\n",
    "\n",
    "\n",
    "* Eigen decomposition has significant applications in many areas of mathematics and science, including signal processing, control theory, and quantum mechanics. For example, in quantum mechanics, the eigenvectors and eigenvalues of the Hamiltonian operator are used to determine the energy states of a system. In data analysis, eigen decomposition can be used for dimensionality reduction and principal component analysis, where the eigenvectors and eigenvalues of a covariance matrix are used to identify the most important features in a dataset."
   ]
  },
  {
   "cell_type": "markdown",
   "id": "7f9f7e71",
   "metadata": {},
   "source": [
    "# -----------------------------------------------------"
   ]
  },
  {
   "cell_type": "markdown",
   "id": "385fc14b",
   "metadata": {},
   "source": [
    "#### Q3. What are the conditions that must be satisfied for a square matrix to be diagonalizable using the Eigen-Decomposition approach? Provide a brief proof to support your answer.\n"
   ]
  },
  {
   "cell_type": "markdown",
   "id": "4b57dead",
   "metadata": {},
   "source": [
    "* A square matrix A is diagonalizable using the Eigen-Decomposition approach if and only if it satisfies the following two conditions:\n",
    "\n",
    "\n",
    "* A has n linearly independent eigenvectors.\n",
    "\n",
    "\n",
    "* A can be decomposed as A = PDP^-1, where P is the matrix whose columns are the eigenvectors of A and D is a diagonal matrix whose entries are the corresponding eigenvalues of A.\n",
    "\n",
    "\n",
    "* **Proof:**\n",
    "    * Suppose that A is diagonalizable using the Eigen-Decomposition approach. Then, we can write A as A = PDP^-1, where P is the matrix whose columns are the eigenvectors of A and D is a diagonal matrix whose entries are the corresponding eigenvalues of A. Since P is a matrix of linearly independent eigenvectors, it follows that the eigenvectors of A are linearly independent. This satisfies the first condition.\n",
    "    * Conversely, suppose that A has n linearly independent eigenvectors. Then, we can construct a matrix P whose columns are the eigenvectors of A. Since the eigenvectors are linearly independent, P is invertible. Let D be the diagonal matrix whose entries are the corresponding eigenvalues of A. Then, we have A = PDP^-1, which satisfies the second condition.\n",
    "    * Therefore, A is diagonalizable using the Eigen-Decomposition approach if and only if it satisfies both conditions."
   ]
  },
  {
   "cell_type": "markdown",
   "id": "f8b4f678",
   "metadata": {},
   "source": [
    "# -----------------------------------------------------"
   ]
  },
  {
   "cell_type": "markdown",
   "id": "6bcf6559",
   "metadata": {},
   "source": [
    "#### Q4. What is the significance of the spectral theorem in the context of the Eigen-Decomposition approach? How is it related to the diagonalizability of a matrix? Explain with an example.\n"
   ]
  },
  {
   "cell_type": "markdown",
   "id": "34a4a2ec",
   "metadata": {},
   "source": [
    "* The spectral theorem is a fundamental result in linear algebra that provides a powerful connection between the Eigen-Decomposition approach and the diagonalizability of a matrix. It states that every Hermitian matrix is diagonalizable, meaning that it can be decomposed into a diagonal matrix with the eigenvalues on the diagonal and a unitary matrix of eigenvectors.\n",
    "\n",
    "\n",
    "* This theorem is significant because it allows us to identify a large class of matrices that are guaranteed to be diagonalizable using the Eigen-Decomposition approach. In particular, any Hermitian matrix can be decomposed into a set of orthogonal eigenvectors and corresponding real eigenvalues.\n",
    "\n",
    "\n",
    "* Moreover, the spectral theorem has important implications in quantum mechanics, where Hermitian matrices play a crucial role in representing observables. The eigenvalues of a Hermitian matrix correspond to the possible outcomes of a measurement of the observable, while the eigenvectors correspond to the states of the system that are associated with those outcomes"
   ]
  },
  {
   "cell_type": "code",
   "execution_count": 2,
   "id": "e54f36a1",
   "metadata": {},
   "outputs": [
    {
     "name": "stdout",
     "output_type": "stream",
     "text": [
      "Eigenvalues: [1.20871215-3.26219133e-17j 5.79128785-1.89422692e-16j]\n",
      "Eigenvectors:\n",
      " [[ 0.78045432+0.j          0.55920734+0.27960367j]\n",
      " [-0.55920734+0.27960367j  0.78045432+0.j        ]]\n"
     ]
    }
   ],
   "source": [
    "import numpy as np\n",
    "\n",
    "# Define the matrix Hermitian matrix A\n",
    "A = np.array([[3, 2+1j], [2-1j, 4]])\n",
    "\n",
    "# Find the eigenvalues and eigenvectors of A\n",
    "eigenvalues, eigenvectors = np.linalg.eig(A)\n",
    "\n",
    "# Print the eigenvalues and eigenvectors\n",
    "print(\"Eigenvalues:\", eigenvalues)\n",
    "print(\"Eigenvectors:\\n\", eigenvectors)"
   ]
  },
  {
   "cell_type": "markdown",
   "id": "5540ac45",
   "metadata": {},
   "source": [
    "\n",
    "\n",
    "* As we can see, the Eigen-Decomposition approach correctly identifies the eigenvectors and eigenvalues of A. In this case, the eigenvalues are both real and positive, which is a characteristic of Hermitian matrices. Moreover, the eigenvectors are orthogonal, which is another important property of Hermitian matrices.\n",
    "\n",
    "\n",
    "* Thus, the spectral theorem tells us that any Hermitian matrix can be diagonalized using the Eigen-Decomposition approach, which allows us to simplify complex matrices into a set of eigenvectors and eigenvalues. This can be useful in a variety of applications, such as quantum mechanics and signal processing, where Hermitian matrices are commonly used."
   ]
  },
  {
   "cell_type": "markdown",
   "id": "2fb764e0",
   "metadata": {},
   "source": [
    "# -----------------------------------------------------"
   ]
  },
  {
   "cell_type": "markdown",
   "id": "d708a488",
   "metadata": {},
   "source": [
    "#### Q5. How do you find the eigenvalues of a matrix and what do they represent?\n"
   ]
  },
  {
   "cell_type": "markdown",
   "id": "b5eeae42",
   "metadata": {},
   "source": [
    "\n",
    "* To find the eigenvalues of a matrix A, we need to solve this equation:\n",
    "\n",
    "> det(A - λI) = 0\n",
    "\n",
    "    where det denotes the determinant of a matrix, I is the identity matrix, and λ is a scalar parameter. The roots of this equation are the eigenvalues of A.\n",
    "\n",
    "\n",
    "* The eigenvalues of a matrix represent the scalars λ for which the matrix A has non-zero solutions to the equation Ax = λx, where x is a non-zero vector. In other words, the eigenvalues represent the values of λ that allow a linear transformation defined by the matrix A to be reduced to a scalar multiplication along some vector direction. Each eigenvalue is associated with an eigenvector, which is a non-zero vector that satisfies the equation Ax = λx. The eigenvectors represent the directions of the vectors that are stretched or shrunk by the linear transformation corresponding to the matrix A.\n",
    "\n",
    "\n",
    "* Eigenvalues and eigenvectors have important applications in many areas of mathematics and science, including physics, engineering, computer science, and data analysis. For example, in physics, the eigenvectors and eigenvalues of a quantum mechanical system represent the possible states of the system and the corresponding probabilities of observing them. In data analysis, eigenvalues and eigenvectors can be used to reduce the dimensionality of data and identify the most important features or patterns."
   ]
  },
  {
   "cell_type": "markdown",
   "id": "b353768d",
   "metadata": {},
   "source": [
    "# -----------------------------------------------------"
   ]
  },
  {
   "cell_type": "markdown",
   "id": "8d92a590",
   "metadata": {},
   "source": [
    "#### Q6. What are eigenvectors and how are they related to eigenvalues?\n"
   ]
  },
  {
   "cell_type": "markdown",
   "id": "d63332ca",
   "metadata": {},
   "source": [
    "\n",
    "* Eigenvectors are non-zero vectors that, when multiplied by a matrix A, result in a scalar multiple of themselves. In other words, if v is an eigenvector of a matrix A, then the product Av is a scalar multiple of v, that is:\n",
    "\n",
    "> A v = λ v\n",
    "\n",
    "    where λ is a scalar value known as the eigenvalue corresponding to v. Eigenvectors are often normalized to have unit length, that is, ||v|| = 1, so that they are unique up to a scaling factor.\n",
    "\n",
    "\n",
    "* The concept of eigenvectors is closely related to eigenvalues. The eigenvalue λ corresponding to an eigenvector v of a matrix A is the scalar value such that the equation Av = λv is satisfied. In other words, the eigenvalue λ scales the eigenvector v under the action of the matrix A.\n",
    "\n",
    "\n",
    "* Every matrix has eigenvectors and eigenvalues, although some matrices may have complex eigenvalues and eigenvectors. Eigenvectors can be used to diagonalize a matrix, which is a powerful tool in linear algebra and various applications in science and engineering.\n",
    "\n",
    "\n",
    "* Eigenvectors and eigenvalues are also used in principal component analysis (PCA), a popular technique in data analysis and machine learning, where they are used to reduce the dimensionality of a dataset and identify the most important features or patterns."
   ]
  },
  {
   "cell_type": "markdown",
   "id": "9211da4d",
   "metadata": {},
   "source": [
    "# -----------------------------------------------------"
   ]
  },
  {
   "cell_type": "markdown",
   "id": "fda4a1ba",
   "metadata": {},
   "source": [
    "#### Q7. Can you explain the geometric interpretation of eigenvectors and eigenvalues?\n"
   ]
  },
  {
   "cell_type": "markdown",
   "id": "69a09544",
   "metadata": {},
   "source": [
    "\n",
    "* Eigenvectors and Eigenvalues have important geometric interpretations. To explain it better, the eigenvectors of a matrix A represent the directions along which the linear transformation defined by A stretches or shrinks space. When A is multiplied by an eigenvector, the resulting vector is scaled by the corresponding eigenvalue. In other words, an eigenvector is a direction that is preserved by the linear transformation defined by A, up to a scaling factor given by its corresponding eigenvalue.\n",
    "\n",
    "\n",
    "* The matrix A has two eigenvectors, v1 and v2, which correspond to its two eigenvalues λ1 and λ2. The eigenvector v1 is a horizontal unit vector along the x-axis, which is stretched by a factor of 2 when multiplied by A. The eigenvector v2 is a vertical unit vector along the y-axis, which is rotated counterclockwise by 45 degrees and shrunk by a factor of √2 when multiplied by A.\n",
    "\n",
    "\n",
    "* The eigenvalues of a matrix A represent the scaling factors along the corresponding eigenvectors. A large eigenvalue indicates that the corresponding eigenvector is stretched significantly by the linear transformation defined by A, while a small eigenvalue indicates that the corresponding eigenvector is shrunk significantly.\n",
    "\n",
    "\n",
    "* In summary, eigenvectors and eigenvalues provide a geometric interpretation of the behavior of a linear transformation defined by a matrix A. The eigenvectors represent the directions along which the transformation stretches or shrinks space, while the eigenvalues represent the scaling factors along those directions. When a desired matrix is multiplied by an eigenvector, the resulting vector is scaled by the corresponding eigenvalue."
   ]
  },
  {
   "cell_type": "markdown",
   "id": "df715ebc",
   "metadata": {},
   "source": [
    "# -----------------------------------------------------"
   ]
  },
  {
   "cell_type": "markdown",
   "id": "5144a26c",
   "metadata": {},
   "source": [
    "#### Q8. What are some real-world applications of eigen decomposition?\n"
   ]
  },
  {
   "cell_type": "markdown",
   "id": "27f3ade5",
   "metadata": {},
   "source": [
    "* Eigen decomposition, also known as eigendecomposition, is a fundamental tool in linear algebra that has many real-world applications. \n",
    "\n",
    "* Here are some real-world applications of eigen-decomposition approach, given below:\n",
    "\n",
    "    * **Principal Component Analysis (PCA):** PCA is a popular technique in data analysis and machine learning that uses eigen decomposition to reduce the dimensionality of a dataset and identify the most important features or patterns. The eigenvalues and eigenvectors of the covariance matrix of the dataset are used to find the directions of maximum variance in the data, which are the principal components.\n",
    "    * **Image compression:** Eigen decomposition is used in image compression algorithms, such as the JPEG and MPEG formats. The image is represented as a matrix, and its eigenvectors and eigenvalues are computed using singular value decomposition (SVD) or other techniques. The most significant eigenvectors are used to represent the image in a compressed form, resulting in a smaller file size.\n",
    "    * **Quantum mechanics:** In quantum mechanics, the wave functions of a system are represented as vectors in a Hilbert space. Eigen decomposition is used to find the energy levels and corresponding wave functions of a quantum mechanical system, which are the eigenvalues and eigenvectors of the Hamiltonian operator.\n",
    "    * **Structural engineering:** It's used to find the natural frequencies and modes of vibration of a mechanical or structural system. The eigenvalues and eigenvectors of the mass and stiffness matrices of the system are used to calculate the natural frequencies and modes of vibration.\n",
    "    * **Control systems:** It's used in control theory to analyze the stability and performance of a feedback control system. The eigenvalues of the system's transfer function matrix are used to determine the poles of the system, which determine its stability and response characteristics.\n",
    "\n",
    "\n",
    "* Overall, eigen decomposition is a powerful tool with many real-world applications in various fields, including data analysis, quantum mechanics, structural engineering, and control systems."
   ]
  },
  {
   "cell_type": "markdown",
   "id": "f7db9d51",
   "metadata": {},
   "source": [
    "# -----------------------------------------------------"
   ]
  },
  {
   "cell_type": "markdown",
   "id": "7f6d2e49",
   "metadata": {},
   "source": [
    "#### Q9. Can a matrix have more than one set of eigenvectors and eigenvalues?\n"
   ]
  },
  {
   "cell_type": "markdown",
   "id": "67947477",
   "metadata": {},
   "source": [
    "* No, a matrix doesn't have more than one set of eigenvectors and eigenvalues.\n",
    "\n",
    "\n",
    "* If v is an eigenvector of a matrix A with eigenvalue λ, then any non-zero scalar multiple of v is also an eigenvector of A with the same eigenvalue λ. This is because if Av = λv, then A(cv) = c(Av) = c(λv) = λ(cv), for any scalar c.\n",
    "\n",
    "\n",
    "* However, it is possible for a matrix to have repeated eigenvalues, which means that some eigenvalues may have more than one independent eigenvector associated with them. In this case, the matrix is said to be defective, and it cannot be diagonalized. Instead, it can be put in a Jordan normal form, which is a generalization of diagonalization that allows for repeated eigenvalues.\n",
    "\n",
    "\n",
    "* Consider the matrix A = [[1, 1], [0, 1]]. This matrix has a single eigenvalue λ = 1, with multiplicity 2. Its eigenvectors are all scalar multiples of the vector v = [1, 0]. In other words, any non-zero multiple of v is an eigenvector of A with eigenvalue λ = 1. However, A cannot be diagonalized, because it has only one linearly independent eigenvector associated with the eigenvalue λ = 1. Instead, A can be put in a Jordan normal form, which is A = [[1, 1], [0, 1]], where the 1 on the superdiagonal represents a Jordan block of size 2."
   ]
  },
  {
   "cell_type": "markdown",
   "id": "f095f753",
   "metadata": {},
   "source": [
    "# -----------------------------------------------------"
   ]
  },
  {
   "cell_type": "markdown",
   "id": "5bb42ab8",
   "metadata": {},
   "source": [
    "#### Q10. In what ways is the Eigen-Decomposition approach useful in data analysis and machine learning? Discuss at least three specific applications or techniques that rely on Eigen-Decomposition."
   ]
  },
  {
   "cell_type": "markdown",
   "id": "6c3f8249",
   "metadata": {},
   "source": [
    "* Eigen-Decomposition is a powerful tool in data analysis and machine learning that can be used for various applications.\n",
    "\n",
    "\n",
    "* Here are three specific applications or techniques that rely on Eigen-Decomposition:\n",
    "\n",
    "    * **Principal Component Analysis (PCA):** Principal Component Analysis (PCA) is a widely used technique for dimensionality reduction in data analysis and machine learning. It aims to transform the data into a new coordinate system such that the new variables, which are known as principal components, that captures the maximum amount of variance in the data. Principal Component Analysis (PCA) relies on Eigen-Decomposition of the covariance matrix of the data to compute the principal components. The Eigenvectors of the covariance matrix represent the directions of maximum variance in the data, and the Eigenvalues represent the amount of variance captured by each principal component.\n",
    "    * **Singular Value Decomposition (SVD):** Singular Value Decomposition (SVD) is another commonly used technique in data analysis and machine learning that is closely related to Eigen-Decomposition. SVD is used to factorize a matrix into three matrices: U, S, and V, where U and V are unitary matrices, and S is a diagonal matrix of singular values. The singular values are the square roots of the Eigenvalues of the matrix A*A', where A is the original matrix. SVD is widely used in image and signal processing, recommender systems, and natural language processing.\n",
    "    * **Graph Embedding:** A technique used in network analysis and machine learning to transform graphs into low-dimensional vector spaces, is called Graph Embedding. It relies on Eigen-Decomposition of the Laplacian matrix of the graph to compute the embeddings. The Eigenvectors of the Laplacian matrix represent the low-dimensional representations of the nodes, and the Eigenvalues represent the importance of each dimension in the embedding. Graph embedding has many applications, including community detection, link prediction, and node classification.\n",
    "\n",
    "\n",
    "* Overall, Eigen-Decomposition is a powerful technique that is widely used in data analysis and machine learning for various applications, including dimensionality reduction, matrix factorization, and graph embedding."
   ]
  },
  {
   "cell_type": "markdown",
   "id": "3188a8e3",
   "metadata": {},
   "source": [
    "# -----------------------------------------------------"
   ]
  }
 ],
 "metadata": {
  "kernelspec": {
   "display_name": "Python 3 (ipykernel)",
   "language": "python",
   "name": "python3"
  },
  "language_info": {
   "codemirror_mode": {
    "name": "ipython",
    "version": 3
   },
   "file_extension": ".py",
   "mimetype": "text/x-python",
   "name": "python",
   "nbconvert_exporter": "python",
   "pygments_lexer": "ipython3",
   "version": "3.9.6"
  }
 },
 "nbformat": 4,
 "nbformat_minor": 5
}
