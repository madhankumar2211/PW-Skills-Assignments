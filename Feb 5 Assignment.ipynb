{
 "cells": [
  {
   "cell_type": "markdown",
   "id": "c14fb3f8",
   "metadata": {},
   "source": [
    "#### Q1. Explain Class and Object with respect to Object-Oriented Programming. Give a suitable example.\n"
   ]
  },
  {
   "cell_type": "markdown",
   "id": "a6d54ecf",
   "metadata": {},
   "source": [
    "-> Classes are user-defined data types that act as the blueprint for individual objects, attributes and methods.\n",
    "\n",
    "-> Objects are instances of a class created with specifically defined data. Objects can correspond to real-world objects or an abstract entity"
   ]
  },
  {
   "cell_type": "code",
   "execution_count": 1,
   "id": "1bfb10f6",
   "metadata": {},
   "outputs": [
    {
     "name": "stdout",
     "output_type": "stream",
     "text": [
      "variable 3\n",
      "variable 1\n",
      "variable 2\n"
     ]
    }
   ],
   "source": [
    "class sample_class:\n",
    "    attr1 = \"variable 1\"\n",
    "    attr2 = \"variable 2\"\n",
    "    attr3 = \"variable 3\"\n",
    "    \n",
    "    def sample_func(self):\n",
    "        print(self.attr1)\n",
    "        print(self.attr2)\n",
    "\n",
    "\n",
    "Rodger = sample_class()\n",
    "print(Rodger.attr3)\n",
    "Rodger.sample_func()\n"
   ]
  },
  {
   "cell_type": "markdown",
   "id": "44277f24",
   "metadata": {},
   "source": [
    "# ---------------------------------------------------------"
   ]
  },
  {
   "cell_type": "markdown",
   "id": "8003d12e",
   "metadata": {},
   "source": [
    "#### Q2. Name the four pillars of OOPs."
   ]
  },
  {
   "cell_type": "markdown",
   "id": "58e9b19b",
   "metadata": {},
   "source": [
    "-> The four pillars are Inheritance, Polymorphism, Encapsulation and Abstraction"
   ]
  },
  {
   "cell_type": "markdown",
   "id": "ad7c4ae3",
   "metadata": {},
   "source": [
    "# ---------------------------------------------------------"
   ]
  },
  {
   "cell_type": "markdown",
   "id": "673ed318",
   "metadata": {},
   "source": [
    "#### Q3. Explain why the __init__() function is used. Give a suitable example."
   ]
  },
  {
   "cell_type": "markdown",
   "id": "52fca6da",
   "metadata": {},
   "source": [
    "-> All classes have a function called __init__(), which is always executed when the class is being initiated.\n",
    "\n",
    "-> Use the __init__() function to assign values to object properties, or other operations that are necessary to do when the object is being created"
   ]
  },
  {
   "cell_type": "code",
   "execution_count": 2,
   "id": "ce3dcb2d",
   "metadata": {},
   "outputs": [
    {
     "name": "stdout",
     "output_type": "stream",
     "text": [
      "Madhan\n",
      "26\n"
     ]
    }
   ],
   "source": [
    "class Person:\n",
    "    def __init__(self, name, age):\n",
    "        self.name = name\n",
    "        self.age = age\n",
    "\n",
    "p1 = Person(\"Madhan\", 26)\n",
    "\n",
    "print(p1.name)\n",
    "print(p1.age)"
   ]
  },
  {
   "cell_type": "markdown",
   "id": "c5461b6f",
   "metadata": {},
   "source": [
    "# ----------------------------------------------------------"
   ]
  },
  {
   "cell_type": "markdown",
   "id": "e2782a72",
   "metadata": {},
   "source": [
    "#### Q4. Why self is used in OOPs?"
   ]
  },
  {
   "cell_type": "markdown",
   "id": "2bdc3ff4",
   "metadata": {},
   "source": [
    "-> The self parameter is a reference to the current instance of the class, and is used to access variables that belongs to the class."
   ]
  },
  {
   "cell_type": "markdown",
   "id": "63989173",
   "metadata": {},
   "source": [
    "# ----------------------------------------------------------"
   ]
  },
  {
   "cell_type": "markdown",
   "id": "d1bef0e4",
   "metadata": {},
   "source": [
    "#### Q5. What is inheritance? Give an example for each type of inheritance."
   ]
  },
  {
   "cell_type": "markdown",
   "id": "3b0ec211",
   "metadata": {},
   "source": [
    "-> Inheritance allows us to define a class that inherits all the methods and properties from another class.\n",
    "\n",
    "-> Parent class is the class being inherited from, also called base class.\n",
    "\n",
    "-> Child class is the class that inherits from another class, also called derived class."
   ]
  },
  {
   "cell_type": "code",
   "execution_count": 3,
   "id": "a39f0ba0",
   "metadata": {},
   "outputs": [
    {
     "name": "stdout",
     "output_type": "stream",
     "text": [
      "This function is defined inside the parent class.\n",
      "This function is defined inside the child class.\n"
     ]
    }
   ],
   "source": [
    "# Single Inheritance\n",
    "class Parent1:\n",
    "    def func_1(self):\n",
    "        print (\"This function is defined inside the parent class.\")\n",
    "        \n",
    "class Child1(Parent1):  \n",
    "    def func_2(self):  \n",
    "        print (\"This function is defined inside the child class.\")\n",
    "        \n",
    "object = Child1()  \n",
    "object.func_1()  \n",
    "object.func_2()"
   ]
  },
  {
   "cell_type": "code",
   "execution_count": 4,
   "id": "cf7c6702",
   "metadata": {},
   "outputs": [
    {
     "name": "stdout",
     "output_type": "stream",
     "text": [
      "Father name is : Madhankumar\n",
      "Mother name is : Priya\n"
     ]
    }
   ],
   "source": [
    "# Multiple Inheritance\n",
    "class Mother:  \n",
    "    mothername = \"\"  \n",
    "    def mother(self):  \n",
    "        print(self.mothername)  \n",
    "        \n",
    "class Father:  \n",
    "    fathername = \"Madhankumar\"  \n",
    "    def father(self):  \n",
    "        print(self.fathername)  \n",
    "        \n",
    "class Son(Mother, Father):  \n",
    "    def parents(self):  \n",
    "        print (\"Father name is :\", self.fathername)  \n",
    "        print (\"Mother name is :\", self.mothername)  \n",
    "        \n",
    "s = Son()\n",
    "s.mothername = \"Priya\"\n",
    "s.parents() "
   ]
  },
  {
   "cell_type": "code",
   "execution_count": 5,
   "id": "94ff20c8",
   "metadata": {},
   "outputs": [
    {
     "name": "stdout",
     "output_type": "stream",
     "text": [
      "Grandfather name is : Priyan\n",
      "Father name is : Madhan\n",
      "Son name is : Ezhil\n"
     ]
    }
   ],
   "source": [
    "# Multilevel inheritance\n",
    "class Grandfather1:  \n",
    "    def __init__(self, grandfather_name):  \n",
    "        self.grandfather_name = grandfather_name  \n",
    "\n",
    "class Father1(Grandfather1):  \n",
    "    def __init__(self, father_name, grandfather_name):  \n",
    "        self.father_name = father_name  \n",
    "        Grandfather1.__init__(self, grandfather_name)  \n",
    "\n",
    "class Son1(Father1):  \n",
    "    def __init__(self,son_name, father_name, grandfather_name):  \n",
    "        self.son_name = son_name  \n",
    "        Father1.__init__(self, father_name, grandfather_name)  \n",
    "  \n",
    "    def print_name(self):  \n",
    "        print('Grandfather name is :', self.grandfather_name)  \n",
    "        print(\"Father name is :\", self.father_name)  \n",
    "        print(\"Son name is :\", self.son_name)  \n",
    "\n",
    "s1 = Son1('Ezhil', 'Madhan', 'Priyan')  \n",
    "s1.print_name()  "
   ]
  },
  {
   "cell_type": "code",
   "execution_count": 6,
   "id": "95be6f01",
   "metadata": {},
   "outputs": [
    {
     "name": "stdout",
     "output_type": "stream",
     "text": [
      "This function is defined inside the parent class.\n",
      "This function is defined inside the child 1.\n",
      "This function is defined inside the parent class.\n",
      "This function is defined inside the child 2.\n"
     ]
    }
   ],
   "source": [
    "# Hierarchical Inheritance\n",
    "class Parent:  \n",
    "    def func_1(self):  \n",
    "        print (\"This function is defined inside the parent class.\")  \n",
    "\n",
    "class Child_1(Parent):  \n",
    "    def func_2(self):  \n",
    "        print (\"This function is defined inside the child 1.\")  \n",
    "\n",
    "class Child_2(Parent):  \n",
    "    def func_3(self):  \n",
    "        print (\"This function is defined inside the child 2.\")  \n",
    "\n",
    "object1 = Child_1()  \n",
    "object2 = Child_2()  \n",
    "object1.func_1()  \n",
    "object1.func_2()  \n",
    "object2.func_1()  \n",
    "object2.func_3() "
   ]
  },
  {
   "cell_type": "code",
   "execution_count": null,
   "id": "0795bdf0",
   "metadata": {},
   "outputs": [],
   "source": []
  },
  {
   "cell_type": "code",
   "execution_count": null,
   "id": "1f8df953",
   "metadata": {},
   "outputs": [],
   "source": []
  }
 ],
 "metadata": {
  "kernelspec": {
   "display_name": "Python 3 (ipykernel)",
   "language": "python",
   "name": "python3"
  },
  "language_info": {
   "codemirror_mode": {
    "name": "ipython",
    "version": 3
   },
   "file_extension": ".py",
   "mimetype": "text/x-python",
   "name": "python",
   "nbconvert_exporter": "python",
   "pygments_lexer": "ipython3",
   "version": "3.9.6"
  }
 },
 "nbformat": 4,
 "nbformat_minor": 5
}
