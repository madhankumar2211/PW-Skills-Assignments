{
 "cells": [
  {
   "cell_type": "markdown",
   "id": "3c06c9c3",
   "metadata": {},
   "source": [
    "#### Q1. What is MongoDB? Explain non-relational databases in short. In which scenarios it is preferred to use MongoDB over SQL databases?"
   ]
  },
  {
   "cell_type": "markdown",
   "id": "9cf52fae",
   "metadata": {},
   "source": [
    "* **MongoDB** is a popular document-oriented NoSQL database management system that is designed to store and manage large volumes of unstructured data. Unlike traditional relational databases that use tables with a fixed schema to store data, MongoDB stores data as flexible JSON-like documents with dynamic schemas that can be easily updated or modified.\n",
    "---\n",
    "* **Non-relational databases**, also known as NoSQL databases, are databases that do not follow the traditional relational database model based on tables with fixed schemas. Instead, non-relational databases use a variety of data models to store data in a more flexible, scalable, and efficient manner. These models include document-oriented databases, key-value stores, graph databases, and more.\n",
    "---\n",
    "* MongoDB is preferred over SQL databases in scenarios where you need to store and manage large volumes of unstructured or semi-structured data, such as social media data, user-generated content, or sensor data. It is also a good choice for applications that require high scalability, availability, and performance. MongoDB provides features such as automatic sharding and replication, which help to distribute data across multiple nodes and ensure high availability and performance. Additionally, MongoDB's flexible document-oriented data model makes it easier to store and query complex data structures and handle frequent schema changes. However, if your application requires complex transactions or joins, a traditional SQL database may be a better choice."
   ]
  },
  {
   "cell_type": "markdown",
   "id": "cbd4331b",
   "metadata": {},
   "source": [
    "# --------------------------------------------------"
   ]
  },
  {
   "cell_type": "markdown",
   "id": "541df678",
   "metadata": {},
   "source": [
    "#### Q2. State and Explain the features of MongoDB."
   ]
  },
  {
   "cell_type": "markdown",
   "id": "90445be8",
   "metadata": {},
   "source": [
    "* MongoDB is a popular NoSQL database management system that offers a variety of features that make it a popular choice for storing and managing large volumes of unstructured or semi-structured data. Some of the key features of MongoDB include:\n",
    "\n",
    "    * **Document-Oriented Data Model:** MongoDB uses a document-oriented data model, which allows it to store and manage data in a more flexible and scalable manner. This data model stores data as documents, which are JSON-like data structures that can contain a wide variety of data types and structures.\n",
    "\n",
    "    * **High Scalability:** MongoDB is designed to be highly scalable, and can easily handle large volumes of data and high traffic loads. MongoDB supports automatic sharding, which allows data to be distributed across multiple nodes in a cluster, enabling horizontal scaling.\n",
    "\n",
    "    * **Flexible Schema:** Unlike traditional SQL databases that require a fixed schema to be defined before data can be stored, MongoDB has a flexible schema that allows data to be added or modified as needed. This makes it easier to store and manage unstructured or semi-structured data.\n",
    "\n",
    "    * **Indexing and Querying:** MongoDB provides powerful indexing and querying capabilities, which allow you to search and retrieve data quickly and efficiently. MongoDB supports a variety of query types, including range queries, text searches, and geospatial queries.\n",
    "\n",
    "    * **Replication and High Availability:** MongoDB supports automatic replication, which allows data to be replicated across multiple nodes in a cluster, providing high availability and fault tolerance.\n",
    "\n",
    "    * **Aggregation:** MongoDB provides a powerful aggregation framework, which allows you to perform complex data analysis and processing tasks on large datasets. This includes grouping, filtering, and manipulating data using a variety of operators and functions.\n",
    "\n",
    "    * **Rich ecosystem:** MongoDB has a rich ecosystem of tools and libraries that make it easy to work with MongoDB, including drivers for a wide variety of programming languages, as well as powerful GUI and command-line tools for managing and monitoring MongoDB instances."
   ]
  },
  {
   "cell_type": "markdown",
   "id": "e2f971ef",
   "metadata": {},
   "source": [
    "# --------------------------------------------------"
   ]
  },
  {
   "cell_type": "markdown",
   "id": "690c1f13",
   "metadata": {},
   "source": [
    "#### Q3. Write a code to connect MongoDB to Python. Also, create a database and a collection in MongoDB."
   ]
  },
  {
   "cell_type": "code",
   "execution_count": 1,
   "id": "847336e3",
   "metadata": {},
   "outputs": [],
   "source": [
    "import pymongo\n",
    "\n",
    "client = pymongo.MongoClient(\"mongodb://localhost:27017/\")\n",
    "\n",
    "db = client[\"testdb\"]\n",
    "\n",
    "collection = db[\"testcollection\"]\n"
   ]
  },
  {
   "cell_type": "markdown",
   "id": "0aca51af",
   "metadata": {},
   "source": [
    "# ----------------------------------------------------------"
   ]
  },
  {
   "cell_type": "markdown",
   "id": "953b1fa6",
   "metadata": {},
   "source": [
    "#### Q4. Using the database and the collection created in question number 3, write a code to insert one record, and insert many records. Use the find() and find_one() methods to print the inserted record."
   ]
  },
  {
   "cell_type": "code",
   "execution_count": 2,
   "id": "e4755eb4",
   "metadata": {},
   "outputs": [
    {
     "name": "stdout",
     "output_type": "stream",
     "text": [
      "Inserted record with ID: 6227bb417a3c1aa3fb3ea38c\n",
      "---------------------------------------\n",
      "Inserted 3 records.\n",
      "---------------------------------------\n",
      "Found one record: {'_id': ObjectId('6227bb417a3c1aa3fb3ea38c'), 'name': 'Madhan', 'email': 'madhan@example.com', 'age': 25}\n",
      "---------------------------------------\n",
      "All records...\n",
      "{'_id': ObjectId('6227bb417a3c1aa3fb3ea38c'), 'name': 'Madhan', 'email': 'madhan@example.com', 'age': 25}\n",
      "{'_id': ObjectId('6227bb417a3c1aa3fb3ea38d'), 'name': 'Priya', 'email': 'priya@example.com', 'age': 18}\n",
      "{'_id': ObjectId('6227bb527a3c1aa3fb3ea38e'), 'name': 'Elakiya', 'email': 'elakiya@example.com', 'age': 21}\n",
      "{'_id': ObjectId('6227bb527a3c1aa3fb3ea38f'), 'name': 'Nancy', 'email': 'nancy@example.com', 'age': 25}\n",
      "---------------------------------------\n"
     ]
    }
   ],
   "source": [
    "# Insert one record\n",
    "mydict = {\"name\": \"Madhan\", \"email\": \"madhan@example.com\", \"age\": 25}\n",
    "x = collection.insert_one(mydict)\n",
    "print(\"Inserted record with ID:\", x.inserted_id)\n",
    "print(\"---------------------------------------\")\n",
    "\n",
    "# Insert many records\n",
    "mylist = [\n",
    "  {\"name\": \"Priya\", \"email\": \"priya@example.com\", \"age\": 18},\n",
    "  {\"name\": \"Elakiya\", \"email\": \"elakiya@example.com\", \"age\": 21},\n",
    "  {\"name\": \"Nancy\", \"email\": \"nancy@example.com\", \"age\": 25}\n",
    "]\n",
    "x = collection.insert_many(mylist)\n",
    "print(\"Inserted\", len(x.inserted_ids), \"records.\")\n",
    "print(\"---------------------------------------\")\n",
    "\n",
    "# Find one record\n",
    "result = collection.find_one({\"name\": \"Madhan\"})\n",
    "print(\"Found one record:\", result)\n",
    "print(\"---------------------------------------\")\n",
    "\n",
    "# Find all records\n",
    "print(\"All records...\")\n",
    "result = collection.find({})\n",
    "for record in result:\n",
    "    print(record)\n",
    "print(\"---------------------------------------\")"
   ]
  },
  {
   "cell_type": "markdown",
   "id": "306f5eb5",
   "metadata": {},
   "source": [
    "# ----------------------------------------------------"
   ]
  },
  {
   "cell_type": "markdown",
   "id": "3ec30e38",
   "metadata": {},
   "source": [
    "#### Q5. Explain how you can use the find() method to query the MongoDB database. Write a simple code to demonstrate this."
   ]
  },
  {
   "cell_type": "markdown",
   "id": "a6e55fc3",
   "metadata": {},
   "source": [
    "* The **find()** method is used to query the MongoDB database and retrieve documents from a specified collection. The find() method returns a cursor object that can be used to iterate over the documents that match the query criteria."
   ]
  },
  {
   "cell_type": "code",
   "execution_count": 3,
   "id": "f561f634",
   "metadata": {},
   "outputs": [
    {
     "name": "stdout",
     "output_type": "stream",
     "text": [
      "{'_id': ObjectId('6227bb417a3c1aa3fb3ea38c'), 'name': 'Madhan', 'email': 'madhan@example.com', 'age': 25}\n"
     ]
    }
   ],
   "source": [
    "## using the same db and collection from the question #3\n",
    "\n",
    "query = { \"name\": \"Madhan\" }\n",
    "\n",
    "result = collection.find(query)\n",
    "\n",
    "for record in result:\n",
    "    print(record)\n"
   ]
  },
  {
   "cell_type": "markdown",
   "id": "e462efc9",
   "metadata": {},
   "source": [
    "# -----------------------------------------------------"
   ]
  },
  {
   "cell_type": "markdown",
   "id": "6232575e",
   "metadata": {},
   "source": [
    "#### Q6. Explain the sort() method. Give an example to demonstrate sorting in MongoDB."
   ]
  },
  {
   "cell_type": "markdown",
   "id": "fa89a6d9",
   "metadata": {},
   "source": [
    "* The **sort()** method is used to sort the results of a MongoDB query in either ascending or descending order. This method takes one or more key-value pairs that specify the fields to sort by and the order in which to sort them."
   ]
  },
  {
   "cell_type": "code",
   "execution_count": 6,
   "id": "3fd73f7d",
   "metadata": {},
   "outputs": [
    {
     "name": "stdout",
     "output_type": "stream",
     "text": [
      "{'_id': ObjectId('6227bb527a3c1aa3fb3ea38e'), 'name': 'Elakiya', 'email': 'elakiya@example.com', 'age': 21}\n",
      "{'_id': ObjectId('6227bb417a3c1aa3fb3ea38c'), 'name': 'Madhan', 'email': 'madhan@example.com', 'age': 25}\n",
      "{'_id': ObjectId('6227bb527a3c1aa3fb3ea38f'), 'name': 'Nancy', 'email': 'nancy@example.com', 'age': 25}\n",
      "{'_id': ObjectId('6227bb417a3c1aa3fb3ea38d'), 'name': 'Priya', 'email': 'priya@example.com', 'age': 18}\n"
     ]
    }
   ],
   "source": [
    "## using the same db and collection from the question #3\n",
    "\n",
    "results = collection.find({}).sort(\"name\", pymongo.ASCENDING)\n",
    "\n",
    "for result in results:\n",
    "    print(result)\n"
   ]
  },
  {
   "cell_type": "markdown",
   "id": "5c5633a8",
   "metadata": {},
   "source": [
    "# -------------------------------------------------"
   ]
  },
  {
   "cell_type": "markdown",
   "id": "04ab8228",
   "metadata": {},
   "source": [
    "#### Q7. Explain why delete_one(), delete_many(), and drop() is used."
   ]
  },
  {
   "cell_type": "markdown",
   "id": "39d5f1a9",
   "metadata": {},
   "source": [
    "* **delete_one()** is used to remove a single document from a collection that matches a **specified filter**. This method is useful when you want to delete a specific document from a collection without affecting any other documents.\n",
    "---\n",
    "* **delete_many()** is used to remove multiple documents from a collection that match a **specified filter**. This method is useful when you want to delete multiple documents from a collection at once.\n",
    "---\n",
    "* **drop()** is used to remove an entire collection from a database. This method is useful when you want to remove a collection and all of its documents at once."
   ]
  },
  {
   "cell_type": "code",
   "execution_count": null,
   "id": "7a8a06db",
   "metadata": {},
   "outputs": [],
   "source": []
  }
 ],
 "metadata": {
  "kernelspec": {
   "display_name": "Python 3 (ipykernel)",
   "language": "python",
   "name": "python3"
  },
  "language_info": {
   "codemirror_mode": {
    "name": "ipython",
    "version": 3
   },
   "file_extension": ".py",
   "mimetype": "text/x-python",
   "name": "python",
   "nbconvert_exporter": "python",
   "pygments_lexer": "ipython3",
   "version": "3.9.6"
  }
 },
 "nbformat": 4,
 "nbformat_minor": 5
}
