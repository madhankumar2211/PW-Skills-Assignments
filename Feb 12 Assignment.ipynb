{
 "cells": [
  {
   "cell_type": "markdown",
   "id": "c7e11400",
   "metadata": {},
   "source": [
    "#### Q1. What is an Exception in python? Write the difference between Exceptions and Syntax errors."
   ]
  },
  {
   "cell_type": "markdown",
   "id": "7bab1c26",
   "metadata": {},
   "source": [
    "- An exception is an event, which occurs during the execution of a program that disrupts the normal flow of the program's instructions\n",
    "\n",
    "**Difference :**\n",
    "- **Exceptions:** When in the runtime an error that occurs after passing the syntax test is called exception.\n",
    "- **Syntax errors:** When the proper syntax of the language is not followed then a syntax error is thrown."
   ]
  },
  {
   "cell_type": "markdown",
   "id": "33543e02",
   "metadata": {},
   "source": [
    "# -------------------------------------------------"
   ]
  },
  {
   "cell_type": "markdown",
   "id": "32e6a43a",
   "metadata": {},
   "source": [
    "#### Q2. What happens when an exception is not handled? Explain with an example.\n"
   ]
  },
  {
   "cell_type": "markdown",
   "id": "68d23f29",
   "metadata": {},
   "source": [
    "- If an exception is not caught (with a except block), the runtime system will abort the program (i.e. crash) and an exception message will print to the console.\n",
    "\n",
    "**Example:**\n",
    "   - In the following example the exception is not caught so the exception message will print."
   ]
  },
  {
   "cell_type": "code",
   "execution_count": 2,
   "id": "99baf1b6",
   "metadata": {
    "scrolled": true
   },
   "outputs": [
    {
     "ename": "ZeroDivisionError",
     "evalue": "division by zero",
     "output_type": "error",
     "traceback": [
      "\u001b[1;31m---------------------------------------------------------------------------\u001b[0m",
      "\u001b[1;31mZeroDivisionError\u001b[0m                         Traceback (most recent call last)",
      "\u001b[1;32m~\\AppData\\Local\\Temp/ipykernel_125176/2325084573.py\u001b[0m in \u001b[0;36m<module>\u001b[1;34m\u001b[0m\n\u001b[0;32m      2\u001b[0m \u001b[0ma\u001b[0m \u001b[1;33m=\u001b[0m \u001b[1;36m1\u001b[0m\u001b[1;33m\u001b[0m\u001b[1;33m\u001b[0m\u001b[0m\n\u001b[0;32m      3\u001b[0m \u001b[0mb\u001b[0m \u001b[1;33m=\u001b[0m \u001b[1;36m0\u001b[0m\u001b[1;33m\u001b[0m\u001b[1;33m\u001b[0m\u001b[0m\n\u001b[1;32m----> 4\u001b[1;33m \u001b[0mprint\u001b[0m\u001b[1;33m(\u001b[0m\u001b[0ma\u001b[0m\u001b[1;33m/\u001b[0m\u001b[0mb\u001b[0m\u001b[1;33m)\u001b[0m\u001b[1;33m\u001b[0m\u001b[1;33m\u001b[0m\u001b[0m\n\u001b[0m",
      "\u001b[1;31mZeroDivisionError\u001b[0m: division by zero"
     ]
    }
   ],
   "source": [
    "# Without try-except\n",
    "a = 1\n",
    "b = 0\n",
    "print(a/b)"
   ]
  },
  {
   "cell_type": "markdown",
   "id": "671d5e5a",
   "metadata": {},
   "source": [
    "# -----------------------------------------------"
   ]
  },
  {
   "cell_type": "markdown",
   "id": "747ca1c8",
   "metadata": {},
   "source": [
    "#### Q3. Which Python statements are used to catch and handle exceptions? Explain with an example.\n"
   ]
  },
  {
   "cell_type": "markdown",
   "id": "2fdc419c",
   "metadata": {},
   "source": [
    "- We catch exceptions and handle them using try and except code blocks. The try clause contains the code that can raise an exception, while the except clause contains the code lines that handle the exception."
   ]
  },
  {
   "cell_type": "code",
   "execution_count": 3,
   "id": "410485b6",
   "metadata": {},
   "outputs": [
    {
     "name": "stdout",
     "output_type": "stream",
     "text": [
      "division by zero\n"
     ]
    }
   ],
   "source": [
    "# With try-except\n",
    "try:\n",
    "    a = 1\n",
    "    b = 0\n",
    "    print(a/b)\n",
    "except Exception as e:\n",
    "    print(e)"
   ]
  },
  {
   "cell_type": "markdown",
   "id": "08c0d5f8",
   "metadata": {},
   "source": [
    "# -----------------------------------------------"
   ]
  },
  {
   "cell_type": "markdown",
   "id": "e2f1e6f7",
   "metadata": {},
   "source": [
    "#### Q4. Explain with an example:\n",
    "###### a. try and else\n",
    "###### b. finally\n",
    "###### c. raise"
   ]
  },
  {
   "cell_type": "code",
   "execution_count": 4,
   "id": "4fddb859",
   "metadata": {},
   "outputs": [
    {
     "name": "stdout",
     "output_type": "stream",
     "text": [
      "Yeah ! Your answer is : 1.5\n",
      "Sorry ! You are dividing by zero \n"
     ]
    }
   ],
   "source": [
    "# A. try and else\n",
    "# The code enters the else block only if the try clause does not raise an exception.\n",
    "def divide(x, y):\n",
    "    try:\n",
    "        result = x / y\n",
    "    except ZeroDivisionError:\n",
    "        print(\"Sorry ! You are dividing by zero \")\n",
    "    else:\n",
    "        print(\"Yeah ! Your answer is :\", result)\n",
    "\n",
    "divide(3, 2)\n",
    "divide(3, 0)\n"
   ]
  },
  {
   "cell_type": "code",
   "execution_count": 5,
   "id": "2c5dbcb4",
   "metadata": {},
   "outputs": [
    {
     "name": "stdout",
     "output_type": "stream",
     "text": [
      "Yeah ! Your answer is : 5\n",
      "Finally, this is always executed\n",
      "------------------------------------\n",
      "Sorry ! You are dividing by zero \n",
      "Finally, this is always executed\n",
      "------------------------------------\n"
     ]
    }
   ],
   "source": [
    "# B. finally\n",
    "# Finally block always gets executed either exception is generated or not.\n",
    "\n",
    "def divide(x, y):\n",
    "    try:\n",
    "        result = x // y\n",
    "    except ZeroDivisionError:\n",
    "        print(\"Sorry ! You are dividing by zero \")\n",
    "    else:\n",
    "        print(\"Yeah ! Your answer is :\", result)\n",
    "    finally:\n",
    "        print('Finally, this is always executed')\n",
    "    print(\"------------------------------------\")\n",
    "\n",
    "# Look at parameters and note the working of Program\n",
    "divide(10, 2)\n",
    "divide(3, 0)\n"
   ]
  },
  {
   "cell_type": "code",
   "execution_count": 6,
   "id": "902ea341",
   "metadata": {},
   "outputs": [
    {
     "name": "stdout",
     "output_type": "stream",
     "text": [
      "A is smaller than B\n",
      "-------------------------------\n",
      "a - b =  5\n",
      "-------------------------------\n"
     ]
    }
   ],
   "source": [
    "# C. raise\n",
    "## The raise keyword is used to raise an exception.\n",
    "def raise_exception(a,b):\n",
    "    try:\n",
    "        if a < b:\n",
    "            raise Exception(\"A is smaller than B\")\n",
    "        else:\n",
    "            print(\"a - b = \",a-b)\n",
    "    except Exception as e:\n",
    "        print(e)\n",
    "    print(\"-------------------------------\")\n",
    "        \n",
    "raise_exception(5,10)\n",
    "raise_exception(15,10)\n"
   ]
  },
  {
   "cell_type": "markdown",
   "id": "774ab81a",
   "metadata": {},
   "source": [
    "# --------------------------------------------"
   ]
  },
  {
   "cell_type": "markdown",
   "id": "822c45e7",
   "metadata": {},
   "source": [
    "#### Q5. What are Custom Exceptions in python? Why do we need Custom Exceptions? Explain with an example.\n"
   ]
  },
  {
   "cell_type": "markdown",
   "id": "59222a71",
   "metadata": {},
   "source": [
    "- We can define custom exceptions by creating a new class that is derived from the built-in Exception class.\n",
    "- Custom exceptions will add information about project-related problems and built-in exceptions offer information about Python-related problems."
   ]
  },
  {
   "cell_type": "code",
   "execution_count": 7,
   "id": "2cfb77cb",
   "metadata": {},
   "outputs": [
    {
     "name": "stdout",
     "output_type": "stream",
     "text": [
      "Please pass a integer argument\n",
      "-------------------------------\n",
      "The integer value is :  15\n",
      "-------------------------------\n"
     ]
    }
   ],
   "source": [
    "def custom_exception(a):\n",
    "    try:\n",
    "        if type(a) != int:\n",
    "            raise Exception(\"Please pass a integer argument\")\n",
    "        else:\n",
    "            print(\"The integer value is : \",a)\n",
    "    except Exception as e:\n",
    "        print(e)\n",
    "    print(\"-------------------------------\")\n",
    "        \n",
    "custom_exception(\"5\")\n",
    "custom_exception(15)"
   ]
  },
  {
   "cell_type": "markdown",
   "id": "ba0c9f69",
   "metadata": {},
   "source": [
    "# ----------------------------------------"
   ]
  },
  {
   "cell_type": "markdown",
   "id": "c810d944",
   "metadata": {},
   "source": [
    "#### Q6. Create a custom exception class. Use this class to handle an exception.\n"
   ]
  },
  {
   "cell_type": "code",
   "execution_count": 8,
   "id": "8b3cbf65",
   "metadata": {},
   "outputs": [],
   "source": [
    "class validateprice(Exception):\n",
    "    def __init__(self,msg):\n",
    "        self.msg = msg"
   ]
  },
  {
   "cell_type": "code",
   "execution_count": 9,
   "id": "34492bd4",
   "metadata": {},
   "outputs": [],
   "source": [
    "def validate_price(price):\n",
    "    if price > 2000:\n",
    "        raise validateprice(\"The price should be less than or equal to 2000.\")\n",
    "    else:\n",
    "        print(\"The price given : \",price)\n",
    "    print(\"-----------------------------------------------\")\n",
    "    "
   ]
  },
  {
   "cell_type": "code",
   "execution_count": 10,
   "id": "ddf7d206",
   "metadata": {},
   "outputs": [
    {
     "name": "stdout",
     "output_type": "stream",
     "text": [
      "Enter the price : 1500\n",
      "The price given :  1500\n",
      "-----------------------------------------------\n"
     ]
    }
   ],
   "source": [
    "try:\n",
    "    price = int(input(\"Enter the price : \"))\n",
    "    validate_price(price)\n",
    "except Exception as e:\n",
    "    print(e)"
   ]
  },
  {
   "cell_type": "code",
   "execution_count": 12,
   "id": "ca35a6c9",
   "metadata": {},
   "outputs": [
    {
     "name": "stdout",
     "output_type": "stream",
     "text": [
      "Enter the price : 3000\n",
      "The price should be less than or equal to 2000.\n"
     ]
    }
   ],
   "source": [
    "try:\n",
    "    price = int(input(\"Enter the price : \"))\n",
    "    validate_price(price)\n",
    "except Exception as e:\n",
    "    print(e)"
   ]
  },
  {
   "cell_type": "code",
   "execution_count": null,
   "id": "3f6a1b32",
   "metadata": {},
   "outputs": [],
   "source": []
  }
 ],
 "metadata": {
  "kernelspec": {
   "display_name": "Python 3 (ipykernel)",
   "language": "python",
   "name": "python3"
  },
  "language_info": {
   "codemirror_mode": {
    "name": "ipython",
    "version": 3
   },
   "file_extension": ".py",
   "mimetype": "text/x-python",
   "name": "python",
   "nbconvert_exporter": "python",
   "pygments_lexer": "ipython3",
   "version": "3.9.6"
  }
 },
 "nbformat": 4,
 "nbformat_minor": 5
}
