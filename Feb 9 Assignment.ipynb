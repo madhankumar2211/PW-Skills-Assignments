{
 "cells": [
  {
   "cell_type": "markdown",
   "id": "aef75b95",
   "metadata": {},
   "source": [
    "#### Q1, Create a vehicle class with an init method having instance variables as name_of_vehicle, max_speed and average_of_vehicle."
   ]
  },
  {
   "cell_type": "code",
   "execution_count": 1,
   "id": "08f12859",
   "metadata": {},
   "outputs": [],
   "source": [
    "class vehicle:\n",
    "    def __init__(self, name_of_vehicle, max_speed, average_of_vehicle):\n",
    "        self.name_of_vehicle = name_of_vehicle\n",
    "        self.max_speed = max_speed\n",
    "        self.average_of_vehicle = average_of_vehicle\n",
    "        "
   ]
  },
  {
   "cell_type": "markdown",
   "id": "a5a65888",
   "metadata": {},
   "source": [
    "# ----------------------------------------------------------------"
   ]
  },
  {
   "cell_type": "markdown",
   "id": "0a21876d",
   "metadata": {},
   "source": [
    "#### Q2. Create a child class car from the vehicle class created in Que 1, which will inherit the vehicle class. Create a method named seating_capacity which takes capacity as an argument and returns the name of the vehicle and its seating capacity."
   ]
  },
  {
   "cell_type": "code",
   "execution_count": 2,
   "id": "757e7442",
   "metadata": {},
   "outputs": [],
   "source": [
    "class car(vehicle):\n",
    "    def seating_capacity(self,capacity):\n",
    "        return self.name_of_vehicle,capacity"
   ]
  },
  {
   "cell_type": "code",
   "execution_count": 3,
   "id": "d7a3aeef",
   "metadata": {},
   "outputs": [
    {
     "name": "stdout",
     "output_type": "stream",
     "text": [
      "Name of the vehicle is : Volvo A/C Bus\n",
      "Seating capacity is : 30\n"
     ]
    }
   ],
   "source": [
    "v1 = car(\"Volvo A/C Bus\",150,90)\n",
    "vehicle_name,vehicle_capacity = v1.seating_capacity(30)\n",
    "\n",
    "print(\"Name of the vehicle is : \"+vehicle_name)\n",
    "print(\"Seating capacity is : \"+str(vehicle_capacity))"
   ]
  },
  {
   "cell_type": "markdown",
   "id": "dadc0a0f",
   "metadata": {},
   "source": [
    "# ---------------------------------------------------------------"
   ]
  },
  {
   "cell_type": "markdown",
   "id": "b9c65e08",
   "metadata": {},
   "source": [
    "#### Q3. What is multiple inheritance? Write a python code to demonstrate multiple inheritance."
   ]
  },
  {
   "cell_type": "markdown",
   "id": "d57a3f07",
   "metadata": {},
   "source": [
    "#### Multiple inheritances:\n",
    "When a child class inherits from multiple parent classes, it is called multiple inheritances. "
   ]
  },
  {
   "cell_type": "code",
   "execution_count": 4,
   "id": "58c481ef",
   "metadata": {},
   "outputs": [
    {
     "name": "stdout",
     "output_type": "stream",
     "text": [
      "8\n",
      "2\n",
      "15\n"
     ]
    }
   ],
   "source": [
    "class Base1:\n",
    "    def base1_add(self,a,b):\n",
    "        return a+b\n",
    "    \n",
    "class Base2:\n",
    "    def base2_sub(self,a,b):\n",
    "        return a-b\n",
    "    \n",
    "class Derived(Base1, Base2):\n",
    "    def derived_mul(self,a,b):\n",
    "        return a*b\n",
    "\n",
    "d = Derived()\n",
    "print(d.base1_add(5,3))\n",
    "print(d.base2_sub(5,3))\n",
    "print(d.derived_mul(5,3))"
   ]
  },
  {
   "cell_type": "markdown",
   "id": "81a30424",
   "metadata": {},
   "source": [
    "# -----------------------------------------------------------------"
   ]
  },
  {
   "cell_type": "markdown",
   "id": "dc14dd43",
   "metadata": {},
   "source": [
    "#### Q4. What are getter and setter in python? Create a class and create a getter and a setter method in this class."
   ]
  },
  {
   "cell_type": "markdown",
   "id": "a4e6a540",
   "metadata": {},
   "source": [
    "- Getters are the methods which help access the private attributes or get the value of the private attributes.\n",
    "- Setters are the methods which help change or set the value of private attributes."
   ]
  },
  {
   "cell_type": "code",
   "execution_count": 5,
   "id": "f88b6818",
   "metadata": {},
   "outputs": [],
   "source": [
    "class my_info:\n",
    "    def __init__(self,name,age):\n",
    "        self.name = name\n",
    "        self.__age = age\n",
    "        \n",
    "    @property  \n",
    "    def get_age(self):\n",
    "        return self.__age\n",
    "    \n",
    "    @get_age.setter\n",
    "    def set_age(self,new_age):\n",
    "        self.__age = new_age\n"
   ]
  },
  {
   "cell_type": "code",
   "execution_count": 6,
   "id": "56b5c007",
   "metadata": {},
   "outputs": [],
   "source": [
    "m = my_info(\"Madhankumar\",26)"
   ]
  },
  {
   "cell_type": "code",
   "execution_count": 7,
   "id": "36f09417",
   "metadata": {},
   "outputs": [
    {
     "data": {
      "text/plain": [
       "'Madhankumar'"
      ]
     },
     "execution_count": 7,
     "metadata": {},
     "output_type": "execute_result"
    }
   ],
   "source": [
    "m.name"
   ]
  },
  {
   "cell_type": "code",
   "execution_count": 8,
   "id": "ea5315ea",
   "metadata": {},
   "outputs": [
    {
     "data": {
      "text/plain": [
       "26"
      ]
     },
     "execution_count": 8,
     "metadata": {},
     "output_type": "execute_result"
    }
   ],
   "source": [
    "m.get_age"
   ]
  },
  {
   "cell_type": "code",
   "execution_count": 9,
   "id": "1b54c6b4",
   "metadata": {},
   "outputs": [],
   "source": [
    "m.set_age = 25"
   ]
  },
  {
   "cell_type": "code",
   "execution_count": 10,
   "id": "53b9028e",
   "metadata": {},
   "outputs": [
    {
     "data": {
      "text/plain": [
       "25"
      ]
     },
     "execution_count": 10,
     "metadata": {},
     "output_type": "execute_result"
    }
   ],
   "source": [
    "m.get_age"
   ]
  },
  {
   "cell_type": "markdown",
   "id": "50051543",
   "metadata": {},
   "source": [
    "# -----------------------------------------------------------------"
   ]
  },
  {
   "cell_type": "markdown",
   "id": "0ca47ec4",
   "metadata": {},
   "source": [
    "#### Q5.What is method overriding in python? Write a python code to demonstrate method overriding."
   ]
  },
  {
   "cell_type": "markdown",
   "id": "bc9cf371",
   "metadata": {},
   "source": [
    "- A feature of object-oriented programming languages called method overriding enables a subclass or child class to offer a particular implementation of a method that is already supplied by one of its super-classes or parent classes.\n",
    "- The term \"override\" refers to a method in a subclass that replaces a method in a superclass when both methods share the same name, same parameters, same signature, and same return type."
   ]
  },
  {
   "cell_type": "code",
   "execution_count": 11,
   "id": "d04e6af0",
   "metadata": {},
   "outputs": [],
   "source": [
    "class parent1:\n",
    "    def show_name(self):\n",
    "        return \"This is from parent class....\"\n",
    "        \n",
    "class child1(parent1):\n",
    "    def show_name(self):\n",
    "        return \"This is override message from child class....\""
   ]
  },
  {
   "cell_type": "code",
   "execution_count": 12,
   "id": "7f5bdc90",
   "metadata": {},
   "outputs": [
    {
     "data": {
      "text/plain": [
       "'This is from parent class....'"
      ]
     },
     "execution_count": 12,
     "metadata": {},
     "output_type": "execute_result"
    }
   ],
   "source": [
    "p = parent1()\n",
    "p.show_name()"
   ]
  },
  {
   "cell_type": "code",
   "execution_count": 13,
   "id": "f4107b20",
   "metadata": {},
   "outputs": [
    {
     "data": {
      "text/plain": [
       "'This is override message from child class....'"
      ]
     },
     "execution_count": 13,
     "metadata": {},
     "output_type": "execute_result"
    }
   ],
   "source": [
    "c = child1()\n",
    "c.show_name()"
   ]
  },
  {
   "cell_type": "code",
   "execution_count": null,
   "id": "17f1a0c6",
   "metadata": {},
   "outputs": [],
   "source": []
  }
 ],
 "metadata": {
  "kernelspec": {
   "display_name": "Python 3 (ipykernel)",
   "language": "python",
   "name": "python3"
  },
  "language_info": {
   "codemirror_mode": {
    "name": "ipython",
    "version": 3
   },
   "file_extension": ".py",
   "mimetype": "text/x-python",
   "name": "python",
   "nbconvert_exporter": "python",
   "pygments_lexer": "ipython3",
   "version": "3.9.6"
  }
 },
 "nbformat": 4,
 "nbformat_minor": 5
}
