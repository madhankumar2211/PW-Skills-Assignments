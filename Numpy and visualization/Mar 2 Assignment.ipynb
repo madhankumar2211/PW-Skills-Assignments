{
 "cells": [
  {
   "cell_type": "markdown",
   "id": "308359b7",
   "metadata": {},
   "source": [
    "#### Q1: What is Matplotlib? Why is it used? Name five plots that can be plotted using the Pyplot module of Matplotlib."
   ]
  },
  {
   "cell_type": "markdown",
   "id": "fac89610",
   "metadata": {},
   "source": [
    "* Matplotlib is an amazing visualization library in Python\n",
    "* Matplotlib is a multi-platform data visualization library built on NumPy arrays and designed to work with the broader SciPy stack.\n",
    "* It was introduced by John Hunter in the year 2002.\n",
    "---\n",
    "* Key plots that are used for data visualization.\n",
    "\n",
    "    * Line plot\n",
    "    * Bar Graph\n",
    "    * Scatter Plot\n",
    "    * Area Plot\n",
    "    * Pie Plot\n",
    "    * Histogram"
   ]
  },
  {
   "cell_type": "markdown",
   "id": "e495e3c9",
   "metadata": {},
   "source": [
    "# ---------------------------------------------------"
   ]
  },
  {
   "cell_type": "markdown",
   "id": "66c87808",
   "metadata": {},
   "source": [
    "#### Q2: What is a scatter plot? Use the following code to generate data for x and y. Using this generated data plot a scatter plot."
   ]
  },
  {
   "cell_type": "code",
   "execution_count": 1,
   "id": "baa9b9c0",
   "metadata": {},
   "outputs": [],
   "source": [
    "import numpy as np\n",
    "np.random.seed(3)\n",
    "x = 3 + np.random.normal(0, 2, 50)\n",
    "y = 3 + np.random.normal(0, 2, len(x))"
   ]
  },
  {
   "cell_type": "code",
   "execution_count": 2,
   "id": "1d200829",
   "metadata": {},
   "outputs": [],
   "source": [
    "import matplotlib.pyplot as plt"
   ]
  },
  {
   "cell_type": "code",
   "execution_count": 3,
   "id": "c5e2e572",
   "metadata": {},
   "outputs": [
    {
     "data": {
      "text/plain": [
       "Text(0, 0.5, 'This is Y axis')"
      ]
     },
     "execution_count": 3,
     "metadata": {},
     "output_type": "execute_result"
    },
    {
     "data": {
      "image/png": "[encoded data removed]",
      "text/plain": [
       "<Figure size 432x288 with 1 Axes>"
      ]
     },
     "metadata": {
      "needs_background": "light"
     },
     "output_type": "display_data"
    }
   ],
   "source": [
    "plt.scatter(x,y)\n",
    "plt.title(\"Sample plot\")\n",
    "plt.xlabel(\"This is X axis\")\n",
    "plt.ylabel(\"This is Y axis\")"
   ]
  },
  {
   "cell_type": "markdown",
   "id": "38107523",
   "metadata": {},
   "source": [
    "# ------------------------------------------------------"
   ]
  },
  {
   "cell_type": "markdown",
   "id": "0968aa20",
   "metadata": {},
   "source": [
    "#### Q3: Why is the subplot() function used? Draw four line plots using the subplot() function. Use the following data:"
   ]
  },
  {
   "cell_type": "markdown",
   "id": "fcb093d6",
   "metadata": {},
   "source": [
    "* subplot() function adds subplot to a current figure at the specified grid position.\n",
    "* It is similar to the subplots() function however unlike subplots() it adds one subplot at a time.\n",
    "* So to create multiple plots you will need several lines of code with the subplot() function."
   ]
  },
  {
   "cell_type": "code",
   "execution_count": 4,
   "id": "749dfe3f",
   "metadata": {},
   "outputs": [],
   "source": [
    "import numpy as np\n",
    "x1 = np.array([0, 1, 2, 3, 4, 5])\n",
    "y1 = np.array([0, 100, 200, 300, 400, 500])\n",
    "x2 = np.array([0, 1, 2, 3, 4, 5])\n",
    "y2 = np.array([50, 20, 40, 20, 60, 70])\n",
    "x3 = np.array([0, 1, 2, 3, 4, 5])\n",
    "y3 = np.array([10, 20, 30, 40, 50, 60])\n",
    "x4 = np.array([0, 1, 2, 3, 4, 5])\n",
    "y4 = np.array([200, 350, 250, 550, 450, 150])"
   ]
  },
  {
   "cell_type": "code",
   "execution_count": 5,
   "id": "adbee693",
   "metadata": {},
   "outputs": [],
   "source": [
    "import matplotlib.pyplot as plt"
   ]
  },
  {
   "cell_type": "code",
   "execution_count": 6,
   "id": "cd57a743",
   "metadata": {},
   "outputs": [
    {
     "data": {
      "image/png": "[encoded data removed]",
      "text/plain": [
       "<Figure size 432x288 with 1 Axes>"
      ]
     },
     "metadata": {
      "needs_background": "light"
     },
     "output_type": "display_data"
    }
   ],
   "source": [
    "sb_plot = plt.subplot(1,1,1)\n",
    "sb_plot.plot(x1,y1)\n",
    "sb_plot.plot(x2,y2)\n",
    "sb_plot.plot(x3,y3)\n",
    "sb_plot.plot(x4,y4)\n",
    "plt.show()"
   ]
  },
  {
   "cell_type": "markdown",
   "id": "3fdf0d2d",
   "metadata": {},
   "source": [
    "# ------------------------------------------------------"
   ]
  },
  {
   "cell_type": "markdown",
   "id": "c3bde0a1",
   "metadata": {},
   "source": [
    "#### Q4: What is a bar plot? Why is it used? Using the following data plot a bar plot and a horizontal bar plot."
   ]
  },
  {
   "cell_type": "markdown",
   "id": "3cf27a57",
   "metadata": {},
   "source": [
    "* Bar plots are a type of data visualization used to represent data in the form of rectangular bars. The height of each bar represents the value of a data point, and the width of each bar represents the category of the data."
   ]
  },
  {
   "cell_type": "code",
   "execution_count": 7,
   "id": "c4c8d2ef",
   "metadata": {},
   "outputs": [],
   "source": [
    "import numpy as np\n",
    "company = np.array([\"Apple\", \"Microsoft\", \"Google\", \"AMD\"])\n",
    "profit = np.array([3000, 8000, 1000, 10000])"
   ]
  },
  {
   "cell_type": "code",
   "execution_count": 8,
   "id": "e4f04087",
   "metadata": {},
   "outputs": [
    {
     "data": {
      "text/plain": [
       "Text(0.5, 1.0, 'Company vs Profit')"
      ]
     },
     "execution_count": 8,
     "metadata": {},
     "output_type": "execute_result"
    },
    {
     "data": {
      "image/png": "[encoded data removed]",
      "text/plain": [
       "<Figure size 432x288 with 1 Axes>"
      ]
     },
     "metadata": {
      "needs_background": "light"
     },
     "output_type": "display_data"
    }
   ],
   "source": [
    "import matplotlib.pyplot as plt\n",
    "plt.bar(company,profit)\n",
    "plt.xlabel(\"Company\")\n",
    "plt.ylabel(\"Profit\")\n",
    "plt.title(\"Company vs Profit\")"
   ]
  },
  {
   "cell_type": "markdown",
   "id": "0bdb0a86",
   "metadata": {},
   "source": [
    "# --------------------------------------------"
   ]
  },
  {
   "cell_type": "markdown",
   "id": "08c3a27e",
   "metadata": {},
   "source": [
    "#### Q5: What is a box plot? Why is it used? Using the following data plot a box plot."
   ]
  },
  {
   "cell_type": "markdown",
   "id": "2ae227de",
   "metadata": {},
   "source": [
    "* A Box Plot is also known as Whisker plot is created to display the summary of the set of data values having properties like minimum, first quartile, median, third quartile and maximum.\n",
    "\n",
    "* Box plots are used to show distributions of numeric data values, especially when you want to compare them between multiple groups. They are built to provide high-level information at a glance, offering general information about a group of data's symmetry, skew, variance, and outliers."
   ]
  },
  {
   "cell_type": "code",
   "execution_count": 9,
   "id": "ed33d122",
   "metadata": {},
   "outputs": [],
   "source": [
    "box1 = np.random.normal(100, 10, 200)\n",
    "box2 = np.random.normal(90, 20, 200)"
   ]
  },
  {
   "cell_type": "code",
   "execution_count": 10,
   "id": "72258b80",
   "metadata": {},
   "outputs": [
    {
     "data": {
      "image/png": "[encoded data removed]",
      "text/plain": [
       "<Figure size 432x288 with 1 Axes>"
      ]
     },
     "metadata": {
      "needs_background": "light"
     },
     "output_type": "display_data"
    }
   ],
   "source": [
    "import matplotlib.pyplot as plt\n",
    "plt.boxplot([box1,box2])\n",
    "plt.show()"
   ]
  },
  {
   "cell_type": "code",
   "execution_count": null,
   "id": "5ae73c21",
   "metadata": {},
   "outputs": [],
   "source": []
  }
 ],
 "metadata": {
  "kernelspec": {
   "display_name": "Python 3 (ipykernel)",
   "language": "python",
   "name": "python3"
  },
  "language_info": {
   "codemirror_mode": {
    "name": "ipython",
    "version": 3
   },
   "file_extension": ".py",
   "mimetype": "text/x-python",
   "name": "python",
   "nbconvert_exporter": "python",
   "pygments_lexer": "ipython3",
   "version": "3.9.6"
  }
 },
 "nbformat": 4,
 "nbformat_minor": 5
}
