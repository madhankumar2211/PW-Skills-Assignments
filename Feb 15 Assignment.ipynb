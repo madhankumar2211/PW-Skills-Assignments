{
 "cells": [
  {
   "cell_type": "markdown",
   "id": "7cfaa2fe",
   "metadata": {},
   "source": [
    "#### Q1. What is multiprocessing in python? Why is it useful?"
   ]
  },
  {
   "cell_type": "markdown",
   "id": "3964a92b",
   "metadata": {},
   "source": [
    "* Multiprocessing in Python refers to the ability to run multiple processes or tasks concurrently, using multiple CPU cores. It is a way to achieve parallelism and speed up the execution of certain tasks by dividing them into multiple smaller tasks that can be executed in parallel.\n",
    "---\n",
    "* Python's multiprocessing module provides a way to create and manage multiple processes in Python. It allows developers to write code that can take advantage of the available resources in a system, such as multiple CPUs, to execute tasks in parallel.\n",
    "---\n",
    "* Multiprocessing can be particularly useful when working with CPU-bound tasks, such as scientific computations, machine learning, or data analysis, where a single process can take a long time to complete. By splitting the task into multiple smaller tasks and running them concurrently on multiple CPU cores, multiprocessing can significantly reduce the time it takes to complete the task.\n",
    "---\n",
    "* Overall, multiprocessing in Python is a powerful tool for improving the performance and reliability of Python programs that require parallel execution of multiple tasks.\n"
   ]
  },
  {
   "cell_type": "markdown",
   "id": "08a55e7e",
   "metadata": {},
   "source": [
    "# ----------------------------------------------"
   ]
  },
  {
   "cell_type": "markdown",
   "id": "a8965220",
   "metadata": {},
   "source": [
    "#### Q2. What are the differences between multiprocessing and multithreading?"
   ]
  },
  {
   "cell_type": "markdown",
   "id": "454d457a",
   "metadata": {},
   "source": [
    "* In Python, multiprocessing and multithreading are both mechanisms to achieve concurrency, but they have some differences in terms of implementation and performance.\n",
    "\n",
    "| --- | Multiprocessing | Multithreading |\n",
    "| --- | --- | --- |\n",
    "| **Implementation** | The multiprocessing module in Python creates new processes to execute the code, which allows for true parallelism since each process runs on a separate CPU core. This module requires pickling of arguments and results because each process runs in its own memory space. | The threading module in Python uses threads within a single process to achieve concurrency. Each thread shares the same memory space, which means that variables and data structures can be shared between threads. However, due to the Global Interpreter Lock (GIL), only one thread can execute Python bytecode at a time, so true parallelism is not possible. |\n",
    "| **Performance** | Multiprocessing is better suited for CPU-bound tasks because it allows for true parallelism, which can result in significant speedup. However, creating and managing processes has more overhead and can be slower than multithreading for simple tasks. | Multithreading is better suited for I/O-bound tasks because threads can perform I/O operations while other threads are blocked. However, due to the GIL, multithreading may not provide significant speedup for CPU-bound tasks. |\n",
    "| **Scalability** | Multiprocessing can scale well with multiple CPUs or cores since each process can run on a separate core.| Multithreading may not scale well with multiple CPUs or cores because of the GIL, which limits the parallelism between threads. |"
   ]
  },
  {
   "cell_type": "markdown",
   "id": "7b19f3a4",
   "metadata": {},
   "source": [
    "# -----------------------------------------------------------"
   ]
  },
  {
   "cell_type": "markdown",
   "id": "3f6f5a78",
   "metadata": {},
   "source": [
    "#### Q3. Write a python code to create a process using the multiprocessing module."
   ]
  },
  {
   "cell_type": "code",
   "execution_count": 1,
   "id": "9eddc07c",
   "metadata": {},
   "outputs": [
    {
     "name": "stdout",
     "output_type": "stream",
     "text": [
      "Child process running with arg: Test Case 1\n"
     ]
    }
   ],
   "source": [
    "from multiprocessing import Process\n",
    "\n",
    "def my_func(arg):\n",
    "    print(f\"Child process running with arg: {arg}\")\n",
    "\n",
    "if __name__ == '__main__':\n",
    "    p = Process(target=my_func, args=('Test Case 1',))\n",
    "    p.start()\n",
    "    p.join()\n"
   ]
  },
  {
   "cell_type": "markdown",
   "id": "940ffc77",
   "metadata": {},
   "source": [
    "# --------------------------------------------------------"
   ]
  },
  {
   "cell_type": "markdown",
   "id": "bd345707",
   "metadata": {},
   "source": [
    "#### Q4. What is a multiprocessing pool in python? Why is it used?"
   ]
  },
  {
   "cell_type": "markdown",
   "id": "1d3727a1",
   "metadata": {},
   "source": [
    "* A multiprocessing pool in Python is a way of creating a group of worker processes that can execute a set of tasks in parallel. It is part of the multiprocessing module in Python.\n",
    "---\n",
    "* A pool can be created using the multiprocessing.Pool class, and you can specify the number of worker processes to create. Once the pool is created, you can submit tasks to it using the apply() or map() methods. The apply() method is used to execute a single function call with arguments, while the map() method is used to apply a function to an iterable of arguments in parallel.\n",
    "---\n",
    "* The main advantage of using a multiprocessing pool is that it can significantly speed up the execution of CPU-bound tasks that can be parallelized. By distributing the work among multiple processes, you can take advantage of multiple CPU cores to perform the computations faster."
   ]
  },
  {
   "cell_type": "markdown",
   "id": "3f204c53",
   "metadata": {},
   "source": [
    "# --------------------------------------------------"
   ]
  },
  {
   "cell_type": "markdown",
   "id": "7dd57985",
   "metadata": {},
   "source": [
    "#### Q5. How can we create a pool of worker processes in python using the multiprocessing module?"
   ]
  },
  {
   "cell_type": "markdown",
   "id": "d9dbf713",
   "metadata": {},
   "source": [
    "* To create a pool of worker processes in Python using the multiprocessing module, we can use the Pool class."
   ]
  },
  {
   "cell_type": "code",
   "execution_count": 2,
   "id": "46e27aad",
   "metadata": {},
   "outputs": [
    {
     "name": "stdout",
     "output_type": "stream",
     "text": [
      "[0, 1, 4, 9, 16, 25, 36, 49, 64, 81]\n"
     ]
    }
   ],
   "source": [
    "# Example\n",
    "from multiprocessing import Pool\n",
    "\n",
    "def square(x):\n",
    "    return x * x\n",
    "\n",
    "if __name__ == '__main__':\n",
    "    with Pool(4) as pool:\n",
    "        result = pool.map(square, range(10))\n",
    "    print(result)\n"
   ]
  },
  {
   "cell_type": "markdown",
   "id": "1893b2e7",
   "metadata": {},
   "source": [
    "# ---------------------------------------------------------------"
   ]
  },
  {
   "cell_type": "markdown",
   "id": "870da447",
   "metadata": {},
   "source": [
    "#### Q6. Write a python program to create 4 processes, each process should print a different number using the multiprocessing module in python."
   ]
  },
  {
   "cell_type": "code",
   "execution_count": 3,
   "id": "b0456422",
   "metadata": {},
   "outputs": [
    {
     "name": "stdout",
     "output_type": "stream",
     "text": [
      "Number: 356\n",
      "Number: 638\n",
      "Number: 211\n",
      "Number: 290\n"
     ]
    }
   ],
   "source": [
    "from multiprocessing import Process\n",
    "import random\n",
    "def print_number(number):\n",
    "    print(f\"Number: {number}\")\n",
    "\n",
    "if __name__ == '__main__':\n",
    "    processes = []\n",
    "    for i in range(4):\n",
    "        rand_number = random.randint(1,1000)\n",
    "        process = Process(target=print_number, args=(rand_number,))\n",
    "        processes.append(process)\n",
    "        process.start()\n",
    "    \n",
    "    for process in processes:\n",
    "        process.join()"
   ]
  },
  {
   "cell_type": "markdown",
   "id": "c960b7fc",
   "metadata": {},
   "source": [
    "# -------------------------------------------------------"
   ]
  },
  {
   "cell_type": "code",
   "execution_count": null,
   "id": "a61772cf",
   "metadata": {},
   "outputs": [],
   "source": []
  }
 ],
 "metadata": {
  "kernelspec": {
   "display_name": "Python 3 (ipykernel)",
   "language": "python",
   "name": "python3"
  },
  "language_info": {
   "codemirror_mode": {
    "name": "ipython",
    "version": 3
   },
   "file_extension": ".py",
   "mimetype": "text/x-python",
   "name": "python",
   "nbconvert_exporter": "python",
   "pygments_lexer": "ipython3",
   "version": "3.9.6"
  }
 },
 "nbformat": 4,
 "nbformat_minor": 5
}
