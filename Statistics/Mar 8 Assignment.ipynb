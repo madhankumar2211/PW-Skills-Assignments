{
 "cells": [
  {
   "cell_type": "markdown",
   "id": "f45f50ca",
   "metadata": {},
   "source": [
    "#### Q1. What is the Probability density function?"
   ]
  },
  {
   "cell_type": "markdown",
   "id": "7a85b7d4",
   "metadata": {},
   "source": [
    "* The Probability Density Function (PDF) is a function used in statistics to describe the relative likelihood of a random variable taking on a certain value. In other words, it is a function that describes the probability distribution of a continuous random variable.\n",
    "\n",
    "* The PDF is denoted by f(x) and is defined as the derivative of the cumulative distribution function (CDF) of the random variable X.\n",
    "\n",
    "* The PDF has several important properties, including:\n",
    "\n",
    "    * **Non-negativity**: f(x) is always non-negative, meaning that the probability of X taking on any value cannot be negative.\n",
    "    * **Normalization:** The area under the curve of f(x) must be equal to 1, since the probability of X taking on any value must be 1.\n",
    "    * **Integration:** The probability of X taking on a value within a certain range is given by the area under the curve of f(x) over that range.\n",
    "* The PDF is an important concept in statistics and probability theory, as it allows us to model and understand the behavior of random variables in a variety of contexts."
   ]
  },
  {
   "cell_type": "markdown",
   "id": "24acd771",
   "metadata": {},
   "source": [
    "# -----------------------------------------------"
   ]
  },
  {
   "cell_type": "markdown",
   "id": "45b1836f",
   "metadata": {},
   "source": [
    "#### Q2. What are the types of Probability distribution?"
   ]
  },
  {
   "cell_type": "markdown",
   "id": "f84bf927",
   "metadata": {},
   "source": [
    "* There are many types of probability distributions, but some of the most commonly used distributions are:\n",
    "\n",
    "    * **Normal Distribution:** The normal distribution is a bell-shaped, continuous distribution that is often used to model naturally occurring phenomena, such as height or weight. It is characterized by its mean (μ) and standard deviation (σ), which determine the shape and location of the distribution.\n",
    "\n",
    "    * **Binomial Distribution:** The binomial distribution is a discrete probability distribution that models the number of successes in a fixed number of independent trials. It is characterized by two parameters: the probability of success (p) and the number of trials (n).\n",
    "\n",
    "    * **Poisson Distribution:** The Poisson distribution is a discrete probability distribution that models the number of events that occur in a fixed interval of time or space. It is characterized by one parameter, λ, which represents the average number of events that occur in the interval.\n",
    "\n",
    "    * **Uniform Distribution:** The uniform distribution is a continuous probability distribution that models outcomes that are equally likely to occur within a given range. It is characterized by two parameters: the minimum and maximum values of the range."
   ]
  },
  {
   "cell_type": "markdown",
   "id": "4fd5e4e2",
   "metadata": {},
   "source": [
    "# ------------------------------------------------"
   ]
  },
  {
   "cell_type": "markdown",
   "id": "ef76180e",
   "metadata": {},
   "source": [
    "#### Q3. Write a Python function to calculate the probability density function of a normal distribution with given mean and standard deviation at a given point."
   ]
  },
  {
   "cell_type": "code",
   "execution_count": 7,
   "id": "0daf4a13",
   "metadata": {},
   "outputs": [
    {
     "data": {
      "text/plain": [
       "Text(0, 0.5, 'Probability Density')"
      ]
     },
     "execution_count": 7,
     "metadata": {},
     "output_type": "execute_result"
    },
    {
     "data": {
      "image/png": "[encoded data removed]",
      "text/plain": [
       "<Figure size 640x480 with 1 Axes>"
      ]
     },
     "metadata": {},
     "output_type": "display_data"
    }
   ],
   "source": [
    "import numpy as np\n",
    "import matplotlib.pyplot as plt\n",
    " \n",
    "# Creating a series of data in range of 1-50.\n",
    "x = np.linspace(1,500,200)\n",
    "\n",
    "#Creating a Function.\n",
    "def normal_dist(x , mean , sd):\n",
    "    prob_density = (np.pi*sd) * np.exp(-0.5*((x-mean)/sd)**2)\n",
    "    return prob_density\n",
    " \n",
    "#Calculate mean and Standard deviation.\n",
    "mean = np.mean(x)\n",
    "sd = np.std(x)\n",
    " \n",
    "#Apply function to the data.\n",
    "pdf = normal_dist(x,mean,sd)\n",
    " \n",
    "#Plotting the Results\n",
    "plt.plot(x,pdf , color = 'blue')\n",
    "plt.xlabel('Data points')\n",
    "plt.ylabel('Probability Density')"
   ]
  },
  {
   "cell_type": "markdown",
   "id": "2a69268b",
   "metadata": {},
   "source": [
    "# -------------------------------------------------"
   ]
  },
  {
   "cell_type": "markdown",
   "id": "677e7205",
   "metadata": {},
   "source": [
    "#### Q4. What are the properties of Binomial distribution? Give two examples of events where binomial distribution can be applied."
   ]
  },
  {
   "cell_type": "markdown",
   "id": "325bc6b5",
   "metadata": {},
   "source": [
    "* The binomial distribution is a discrete probability distribution that describes the number of successes in a fixed number of independent trials, where each trial has only two possible outcomes (success or failure), and the probability of success is constant for each trial.\n",
    "\n",
    "* **Properties:**\n",
    "\n",
    "    * There are a fixed number of trials (n).\n",
    "    * Each trial has only two possible outcomes (success or failure).\n",
    "    * The trials are independent of each other.\n",
    "    * The probability of success (p) is constant for each trial.\n",
    "    * The probability of success and failure are complementary (q = 1 - p).\n",
    "    * The random variable X, which represents the number of successes in n trials, has a binomial distribution.\n",
    "    ***\n",
    "* **Examples:**\n",
    "\n",
    "    * **Flipping a coin:**\n",
    "        > If you flip a fair coin (with an equal probability of heads or tails) 10 times, you can use the binomial distribution to calculate the probability of getting a certain number of heads (or tails) out of those 10 flips.\n",
    "\n",
    "    * **Quality control:**\n",
    "        > A company produces light bulbs, and they want to know the probability that a batch of 100 bulbs will have more than 10 defective bulbs. They can use the binomial distribution to model the probability of each bulb being defective, and then use that to calculate the probability of getting more than 10 defective bulbs in the batch."
   ]
  },
  {
   "cell_type": "markdown",
   "id": "f30d2912",
   "metadata": {},
   "source": [
    "# --------------------------------------------------"
   ]
  },
  {
   "cell_type": "markdown",
   "id": "c1333bc1",
   "metadata": {},
   "source": [
    "#### Q5. Generate a random sample of size 1000 from a binomial distribution with probability of success 0.4 and plot a histogram of the results using matplotlib."
   ]
  },
  {
   "cell_type": "code",
   "execution_count": 13,
   "id": "a2ac5ce3",
   "metadata": {},
   "outputs": [
    {
     "data": {
      "image/png": "[encoded data removed]",
      "text/plain": [
       "<Figure size 640x480 with 1 Axes>"
      ]
     },
     "metadata": {},
     "output_type": "display_data"
    }
   ],
   "source": [
    "from scipy.stats import binom\n",
    "import matplotlib.pyplot as plt\n",
    "# setting the values\n",
    "# of n and p\n",
    "n = 1000\n",
    "p = 0.4\n",
    "# defining list of r values\n",
    "r_values = list(range(n + 1))\n",
    "# list of pmf values\n",
    "dist = [binom.pmf(r, n, p) for r in r_values ]\n",
    "# plotting the graph \n",
    "plt.bar(r_values,dist)\n",
    "plt.show()"
   ]
  },
  {
   "cell_type": "markdown",
   "id": "b3af3590",
   "metadata": {},
   "source": [
    "# ----------------------------------------------------"
   ]
  },
  {
   "cell_type": "markdown",
   "id": "2ed0b67c",
   "metadata": {},
   "source": [
    "#### Q6. Write a Python function to calculate the cumulative distribution function of a Poisson distribution with given mean at a given point."
   ]
  },
  {
   "cell_type": "code",
   "execution_count": 17,
   "id": "9eb074ae",
   "metadata": {},
   "outputs": [
    {
     "name": "stdout",
     "output_type": "stream",
     "text": [
      "0.9961970079383241\n"
     ]
    }
   ],
   "source": [
    "import math\n",
    "\n",
    "def poisson_cdf(mu, k):\n",
    "    \"\"\"Calculate the cumulative distribution function of a Poisson distribution with mean mu at a given point k\"\"\"\n",
    "    cdf = 0\n",
    "    for i in range(k + 1):\n",
    "        cdf += math.exp(-mu) * mu**i / math.factorial(i)\n",
    "    return cdf\n",
    "\n",
    "cdf = poisson_cdf(mu=3, k=8)\n",
    "print(cdf)"
   ]
  },
  {
   "cell_type": "markdown",
   "id": "321aadef",
   "metadata": {},
   "source": [
    "# -------------------------------------------------"
   ]
  },
  {
   "cell_type": "markdown",
   "id": "9b65a690",
   "metadata": {},
   "source": [
    "#### Q7. How Binomial distribution different from Poisson distribution?"
   ]
  },
  {
   "cell_type": "markdown",
   "id": "2c7a96d9",
   "metadata": {},
   "source": [
    "* The key differences between the two distributions are:\n",
    "\n",
    "    **Nature of the events:** In the Binomial distribution, the events are discrete and have a binary outcome (success or failure), whereas in the Poisson distribution, the events are rare occurrences that can be considered continuous.\n",
    "\n",
    "    **Number of trials/samples:** The Binomial distribution models the number of successes in a fixed number of trials or samples, whereas the Poisson distribution models the number of rare events that occur in a fixed interval or sample size.\n",
    "\n",
    "    **Probability of success/rate of occurrence:** In the Binomial distribution, the probability of success is constant across trials or samples, whereas in the Poisson distribution, the rate of occurrence is constant over time or space.\n",
    "\n",
    "    **Assumptions:** The Binomial distribution assumes that the trials are independent and identically distributed, whereas the Poisson distribution assumes that the rare events occur independently of each other and that the rate of occurrence is constant over time or space."
   ]
  },
  {
   "cell_type": "markdown",
   "id": "e875e9ff",
   "metadata": {},
   "source": [
    "# -----------------------------------------"
   ]
  },
  {
   "cell_type": "markdown",
   "id": "08ee5fbc",
   "metadata": {},
   "source": [
    "#### Q8. Generate a random sample of size 1000 from a Poisson distribution with mean 5 and calculate the sample mean and variance."
   ]
  },
  {
   "cell_type": "code",
   "execution_count": 18,
   "id": "a0b5c9cf",
   "metadata": {},
   "outputs": [
    {
     "name": "stdout",
     "output_type": "stream",
     "text": [
      "Sample mean: 4.95\n",
      "Sample variance: 5.098598598598598\n"
     ]
    }
   ],
   "source": [
    "from scipy.stats import poisson\n",
    "import numpy as np\n",
    "\n",
    "sample = poisson.rvs(mu=5, size=1000)\n",
    "\n",
    "#calculate the sample mean and variance\n",
    "sample_mean = np.mean(sample)\n",
    "sample_var = np.var(sample, ddof=1)\n",
    "\n",
    "print(\"Sample mean:\", sample_mean)\n",
    "print(\"Sample variance:\", sample_var)"
   ]
  },
  {
   "cell_type": "markdown",
   "id": "31e11702",
   "metadata": {},
   "source": [
    "# ----------------------------------------"
   ]
  },
  {
   "cell_type": "markdown",
   "id": "81ea5864",
   "metadata": {},
   "source": [
    "#### Q9. How mean and variance are related in Binomial distribution and Poisson distribution?"
   ]
  },
  {
   "cell_type": "markdown",
   "id": "93727cc0",
   "metadata": {},
   "source": [
    "In a **binomial distribution**, the mean (or expected value) and variance are related by the following formula:\n",
    "\n",
    "> mean = np variance = np(1-p)\n",
    "\n",
    "where n is the number of trials and p is the probability of success in each trial.\n",
    "\n",
    "In a **Poisson distribution**, the mean and variance are equal and are given by:\n",
    "\n",
    "> mean = variance = λ\n",
    "\n",
    "where λ is the rate parameter of the Poisson distribution.\n",
    "\n",
    "The relationship between mean and variance in these distributions reflects the nature of the underlying processes they model.\n",
    "\n",
    "In a **binomial distribution**, the variance increases as the probability of success (p) moves away from 0.5, indicating that the spread of the distribution increases as the probability of success becomes more extreme.\n",
    "\n",
    "In a **Poisson distribution**, the variance is equal to the mean because the distribution models events that occur randomly and independently with a constant rate, such as the number of arrivals in a fixed period of time. The constant rate λ determines both the mean and the variance, and the distribution has no underlying variability beyond what is explained by the rate parameter."
   ]
  },
  {
   "cell_type": "markdown",
   "id": "c49247c6",
   "metadata": {},
   "source": [
    "# -----------------------------------------"
   ]
  },
  {
   "cell_type": "markdown",
   "id": "51e461ae",
   "metadata": {},
   "source": [
    "#### Q10. In normal distribution with respect to mean position, where does the least frequent data appear?"
   ]
  },
  {
   "cell_type": "markdown",
   "id": "0a50705b",
   "metadata": {},
   "source": [
    "* In a normal distribution, the least frequent data points are located in the tails of the distribution, which are the regions farthest away from the mean. The probability of observing a data point in the tails decreases rapidly as the distance from the mean increases."
   ]
  },
  {
   "cell_type": "markdown",
   "id": "c3866a7b",
   "metadata": {},
   "source": [
    "# ---------------------------------------"
   ]
  },
  {
   "cell_type": "code",
   "execution_count": null,
   "id": "c558d2e9",
   "metadata": {},
   "outputs": [],
   "source": []
  }
 ],
 "metadata": {
  "kernelspec": {
   "display_name": "Python 3 (ipykernel)",
   "language": "python",
   "name": "python3"
  },
  "language_info": {
   "codemirror_mode": {
    "name": "ipython",
    "version": 3
   },
   "file_extension": ".py",
   "mimetype": "text/x-python",
   "name": "python",
   "nbconvert_exporter": "python",
   "pygments_lexer": "ipython3",
   "version": "3.10.10"
  }
 },
 "nbformat": 4,
 "nbformat_minor": 5
}
