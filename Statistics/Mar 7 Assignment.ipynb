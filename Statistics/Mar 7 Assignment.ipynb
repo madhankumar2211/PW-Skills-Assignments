{
 "cells": [
  {
   "cell_type": "markdown",
   "id": "3bb1b303",
   "metadata": {},
   "source": [
    "#### Q1. What are the three measures of central tendency?"
   ]
  },
  {
   "cell_type": "markdown",
   "id": "3a94db5a",
   "metadata": {},
   "source": [
    "* The three measures of central tendency are:\n",
    "\n",
    "    * **Mean:** The mean is the arithmetic average of a set of numbers. It is calculated by adding up all the numbers in the set and then dividing the total by the number of items in the set.\n",
    "\n",
    "    * **Median:** The median is the middle value in a set of numbers that are arranged in order. To find the median, you need to sort the numbers in ascending or descending order and then find the middle value. If there are an even number of values, the median is the average of the two middle values.\n",
    "\n",
    "    * **Mode:** The mode is the value that occurs most frequently in a set of numbers. A set of numbers can have one mode, more than one mode (if two or more values occur with the same highest frequency), or no mode (if no value occurs more frequently than any other value in the set)."
   ]
  },
  {
   "cell_type": "markdown",
   "id": "ec38bd30",
   "metadata": {},
   "source": [
    "# ---------------------------------------------"
   ]
  },
  {
   "cell_type": "markdown",
   "id": "df2b0e7a",
   "metadata": {},
   "source": [
    "#### Q2. What is the difference between the mean, median, and mode? How are they used to measure the central tendency of a dataset?"
   ]
  },
  {
   "cell_type": "markdown",
   "id": "cdd50129",
   "metadata": {},
   "source": [
    "* The mean, median, and mode are all measures of central tendency used to describe the typical or central value in a dataset. However, they differ in the way they are calculated and in their interpretation.\n",
    "\n",
    "    * The **mean** is the sum of all the values in the dataset divided by the total number of values. It is affected by extreme values, or outliers, in the dataset and may not be a good representation of the central tendency if the dataset has a skewed distribution.\n",
    "\n",
    "    * The **median** is the middle value in the dataset, such that half of the values are greater than or equal to the median, and the other half are less than or equal to the median. The median is less sensitive to outliers than the mean and is a better measure of central tendency for skewed distributions.\n",
    "\n",
    "    * The **mode** is the value that occurs most frequently in the dataset. It is not affected by extreme values, but it may not exist or may not be unique if there are multiple values with the same frequency.\n",
    "\n",
    "    * In practice, the choice of the measure of central tendency depends on the characteristics of the dataset and the research question. For example, the mean is often used when the dataset has a normal distribution, while the median is preferred when the dataset is skewed. The mode is often used when describing categorical data or when looking for the most typical value in a dataset.\n",
    "\n",
    "    * Overall, the mean, median, and mode are all useful measures of central tendency and should be used in conjunction with other statistical methods to fully describe a dataset."
   ]
  },
  {
   "cell_type": "markdown",
   "id": "bb846f3e",
   "metadata": {},
   "source": [
    "# ---------------------------------------------"
   ]
  },
  {
   "cell_type": "markdown",
   "id": "23529d62",
   "metadata": {},
   "source": [
    "#### Q3. Measure the three measures of central tendency for the given height data:\n",
    "   [178,177,176,177,178.2,178,175,179,180,175,178.9,176.2,177,172.5,178,176.5]"
   ]
  },
  {
   "cell_type": "markdown",
   "id": "3f356b21",
   "metadata": {},
   "source": [
    "To find the three measures of central tendency for the given height data, we can use the following formulas:\n",
    "\n",
    "**Mean = (sum of all values) / (number of values)**\n",
    "\n",
    "**Median = middle value in the sorted dataset**\n",
    "\n",
    "**Mode = value that appears most frequently in the dataset**\n",
    "\n",
    "    * First, we need to sort the dataset in ascending order:\n",
    "\n",
    "        [172.5, 175, 175, 176, 176.2, 176.5, 177, 177, 178, 178, 178, 178.2, 178.9, 179, 180]\n",
    "\n",
    "    * Next, we can use the formulas to calculate the measures of central tendency:\n",
    "\n",
    "    * Mean = (172.5 + 175 + 175 + 176 + 176.2 + 176.5 + 177 + 177 + 178 + 178 + 178 + 178.2 + 178.9 + 179 + 180) / 15\n",
    "\n",
    "    * Mean = 176.97\n",
    "\n",
    "    * Median = 177\n",
    "\n",
    "    * Mode = 177\n",
    "\n",
    "**Therefore, the mean height of the dataset is approximately 176.97 cm, the median height is 177 cm, and the mode is 177 cm.**"
   ]
  },
  {
   "cell_type": "code",
   "execution_count": 8,
   "id": "2edcd2fa",
   "metadata": {},
   "outputs": [
    {
     "name": "stdout",
     "output_type": "stream",
     "text": [
      "177.01875\n",
      "177.0\n",
      "ModeResult(mode=array([177.]), count=array([3]))\n"
     ]
    }
   ],
   "source": [
    "## By using numpy and scipy\n",
    "import numpy as np\n",
    "from scipy import stats\n",
    "lst = [178,177,176,177,178.2,178,175,179,180,175,178.9,176.2,177,172.5,178,176.5]\n",
    "print(np.mean(lst))\n",
    "print(np.median(lst))\n",
    "print(stats.mode(lst))"
   ]
  },
  {
   "cell_type": "markdown",
   "id": "bee6dfe9",
   "metadata": {},
   "source": [
    "# ------------------------------------------------"
   ]
  },
  {
   "cell_type": "markdown",
   "id": "3edab417",
   "metadata": {},
   "source": [
    "#### Q4. Find the standard deviation for the given data:\n",
    "[178,177,176,177,178.2,178,175,179,180,175,178.9,176.2,177,172.5,178,176.5]"
   ]
  },
  {
   "cell_type": "code",
   "execution_count": 11,
   "id": "287f1e13",
   "metadata": {},
   "outputs": [
    {
     "data": {
      "text/plain": [
       "1.7885814036548633"
      ]
     },
     "execution_count": 11,
     "metadata": {},
     "output_type": "execute_result"
    }
   ],
   "source": [
    "lst = [178,177,176,177,178.2,178,175,179,180,175,178.9,176.2,177,172.5,178,176.5]\n",
    "import numpy as np\n",
    "np.std(lst)\n"
   ]
  },
  {
   "cell_type": "markdown",
   "id": "97e00ea7",
   "metadata": {},
   "source": [
    "# --------------------------------------------"
   ]
  },
  {
   "cell_type": "markdown",
   "id": "ba9d025d",
   "metadata": {},
   "source": [
    "#### Q5. How are measures of dispersion such as range, variance, and standard deviation used to describe the spread of a dataset? Provide an example."
   ]
  },
  {
   "cell_type": "markdown",
   "id": "019b3b34",
   "metadata": {},
   "source": [
    "* Measures of dispersion such as range, variance, and standard deviation are used to describe the spread of a dataset by indicating how spread out or tightly clustered the data points are around the central tendency (mean, median, or mode).\n",
    "\n",
    "* The range is the simplest measure of dispersion and is defined as the difference between the largest and smallest values in the dataset. It provides a rough estimate of how much the data points vary from one another.\n",
    "\n",
    "* The variance and standard deviation are more precise measures of dispersion that take into account the distance of each data point from the mean. The variance is calculated as the average of the squared deviations from the mean, while the standard deviation is the square root of the variance. A higher variance or standard deviation indicates that the data points are more spread out from the mean, while a lower variance or standard deviation indicates that the data points are more tightly clustered around the mean.\n",
    "\n",
    "* For example, consider two datasets of student scores on a test:\n",
    "\n",
    "* Dataset 1: [70, 75, 80, 85, 90] Dataset 2: [60, 70, 80, 90, 100]\n",
    "\n",
    "* Both datasets have the same mean score of 80, but they have different spreads of scores. The range of Dataset 1 is 20 (90-70), while the range of Dataset 2 is 40 (100-60), indicating that the scores in Dataset 2 are more spread out. The variance of Dataset 1 is 62.5, and the standard deviation is 7.91, while the variance of Dataset 2 is 200 and the standard deviation is 14.14, again indicating that the scores in Dataset 2 are more spread out. Therefore, measures of dispersion such as range, variance, and standard deviation can provide valuable information about the spread of a dataset and help us better understand the distribution of data points."
   ]
  },
  {
   "cell_type": "markdown",
   "id": "b7835d70",
   "metadata": {},
   "source": [
    "# --------------------------------------------------"
   ]
  },
  {
   "cell_type": "markdown",
   "id": "884071e2",
   "metadata": {},
   "source": [
    "#### Q6. What is a Venn diagram?"
   ]
  },
  {
   "cell_type": "markdown",
   "id": "062e706c",
   "metadata": {},
   "source": [
    "* Measures of dispersion such as range, variance, and standard deviation are used to describe the spread of a dataset by indicating how spread out or tightly clustered the data points are around the central tendency (mean, median, or mode).\n",
    "\n",
    "* The range is the simplest measure of dispersion and is defined as the difference between the largest and smallest values in the dataset. It provides a rough estimate of how much the data points vary from one another.\n",
    "\n",
    "* The variance and standard deviation are more precise measures of dispersion that take into account the distance of each data point from the mean. The variance is calculated as the average of the squared deviations from the mean, while the standard deviation is the square root of the variance. A higher variance or standard deviation indicates that the data points are more spread out from the mean, while a lower variance or standard deviation indicates that the data points are more tightly clustered around the mean."
   ]
  },
  {
   "cell_type": "markdown",
   "id": "a124380b",
   "metadata": {},
   "source": [
    "# ------------------------------------------------"
   ]
  },
  {
   "cell_type": "markdown",
   "id": "9cbc53cc",
   "metadata": {},
   "source": [
    "#### Q7. For the two given sets A = (2,3,4,5,6,7) & B = (0,2,6,8,10). Find:\n",
    "    * (i) A n B\n",
    "    * (ii) A ⋃ B"
   ]
  },
  {
   "cell_type": "markdown",
   "id": "033c44b2",
   "metadata": {},
   "source": [
    "* A B represents the set of elements that are common to both sets A and B. To find A B, we need to identify the elements that appear in both sets. From the given sets, we see that the common element between A and B is 6. \n",
    "    * Therefore, **A B = {6}**\n",
    "\n",
    "* A ⋃ B represents the union of sets A and B, which includes all the elements that are in either set A or set B, or both. To find A ⋃ B, we need to combine the elements from both sets and remove any duplicates.\n",
    "    * Therefore, **A ⋃ B = {0, 2, 3, 4, 5, 6, 7, 8, 10}**"
   ]
  },
  {
   "cell_type": "markdown",
   "id": "a089aec1",
   "metadata": {},
   "source": [
    "# -----------------------------------------------"
   ]
  },
  {
   "cell_type": "markdown",
   "id": "d9434e0e",
   "metadata": {},
   "source": [
    "#### Q8. What do you understand about skewness in data?"
   ]
  },
  {
   "cell_type": "markdown",
   "id": "5c7772db",
   "metadata": {},
   "source": [
    "* Skewness is a measure of the asymmetry or lack of symmetry in a dataset. It indicates the degree to which the data is skewed or distorted from a normal distribution.\n",
    "\n",
    "* In a normal distribution, the data is symmetrical, with an equal number of data points on either side of the mean. However, in a skewed distribution, the data is not evenly distributed, with one tail of the distribution being longer or stretched out than the other.\n",
    "\n",
    "* There are two types of skewness:\n",
    "\n",
    "    * Positive skewness: In a positively skewed distribution, the tail of the distribution extends to the right, with most of the data concentrated on the left side of the distribution. This is also called right-skewed or right-tailed distribution.\n",
    "\n",
    "    * Negative skewness: In a negatively skewed distribution, the tail of the distribution extends to the left, with most of the data concentrated on the right side of the distribution. This is also called left-skewed or left-tailed distribution.\n",
    "\n",
    "* Skewness can have an impact on statistical analysis, as it can affect the central tendency of the data (mean, median, and mode) and the accuracy of some statistical tests. It is important to identify the presence and degree of skewness in a dataset before making any conclusions or decisions based on the data.\n",
    "\n",
    " \n",
    " "
   ]
  },
  {
   "cell_type": "markdown",
   "id": "2b2eb3bf",
   "metadata": {},
   "source": [
    "# ----------------------------------------------"
   ]
  },
  {
   "cell_type": "markdown",
   "id": "28b8f8a0",
   "metadata": {},
   "source": [
    "#### Q9. If a data is right skewed then what will be the position of median with respect to mean?"
   ]
  },
  {
   "cell_type": "markdown",
   "id": "c452a40a",
   "metadata": {},
   "source": [
    "* If a data is right skewed, the median will be less than the mean. This is because in a right-skewed distribution, the tail of the distribution is on the right side, which means there are some extreme values on the right side that pull the mean towards the right, making it higher than the median. The median, on the other hand, is not affected by extreme values and is only influenced by the values in the middle of the distribution. As a result, the median is typically less than the mean in a right-skewed distribution."
   ]
  },
  {
   "cell_type": "markdown",
   "id": "a1a5e04d",
   "metadata": {},
   "source": [
    "# --------------------------------------------"
   ]
  },
  {
   "cell_type": "markdown",
   "id": "b8e3f828",
   "metadata": {},
   "source": [
    "#### Q10. Explain the difference between covariance and correlation. How are these measures used in statistical analysis?"
   ]
  },
  {
   "cell_type": "markdown",
   "id": "4a9930dd",
   "metadata": {},
   "source": [
    "* Covariance and correlation are both measures of the relationship between two variables in a dataset. However, there are some key differences between these two measures:\n",
    "\n",
    "    * **Definition:** Covariance measures the degree to which two variables in a dataset vary together, while correlation measures the strength and direction of the linear relationship between two variables.\n",
    "\n",
    "    * **Range of values:** Covariance can take on any value between negative infinity and positive infinity, while correlation is limited to values between -1 and 1.\n",
    "\n",
    "    * **Interpretation:** A positive covariance indicates that two variables tend to increase or decrease together, while a negative covariance indicates that one variable tends to increase while the other decreases. However, the magnitude of covariance is difficult to interpret. On the other hand, correlation provides a clear indication of the strength and direction of the relationship between two variables. A positive correlation means that as one variable increases, the other variable tends to increase, and vice versa. A negative correlation means that as one variable increases, the other variable tends to decrease, and vice versa.\n",
    "\n",
    "    * **Units:** Covariance is expressed in the units of the variables being measured, while correlation is unitless, as it measures the relationship between variables relative to their standard deviations.\n",
    "\n",
    "* In statistical analysis, covariance and correlation are both used to determine the relationship between two variables. Covariance is used to measure the strength of the linear relationship between two variables, while correlation is used to quantify both the strength and direction of the relationship. Correlation is considered to be a more useful measure than covariance because it is standardized and provides more meaningful results. Correlation is also used to identify relationships between variables in regression analysis, while covariance is used in portfolio analysis to calculate the risk and return of multiple assets"
   ]
  },
  {
   "cell_type": "markdown",
   "id": "d1ec21cb",
   "metadata": {},
   "source": [
    "# ---------------------------------------------------"
   ]
  },
  {
   "cell_type": "markdown",
   "id": "53f3035e",
   "metadata": {},
   "source": [
    "#### Q11. What is the formula for calculating the sample mean? Provide an example calculation for a dataset."
   ]
  },
  {
   "cell_type": "markdown",
   "id": "4b069434",
   "metadata": {},
   "source": [
    "The formula for calculating the sample mean (also known as the arithmetic mean) is:\n",
    "\n",
    "**sample mean = (sum of all values in the dataset) / (number of values in the dataset)**\n",
    "\n",
    "For example, consider the following dataset:\n",
    "\n",
    "4, 8, 6, 10, 12\n",
    "\n",
    "To find the sample mean of this dataset, we first need to add up all the values:\n",
    "\n",
    "4 + 8 + 6 + 10 + 12 = 40\n",
    "\n",
    "Next, we divide the sum by the number of values in the dataset, which is 5:\n",
    "\n",
    "sample mean = 40 / 5 = 8\n",
    "\n",
    "Therefore, the sample mean of this dataset is 8."
   ]
  },
  {
   "cell_type": "markdown",
   "id": "83626591",
   "metadata": {},
   "source": [
    "# ---------------------------------------------"
   ]
  },
  {
   "cell_type": "markdown",
   "id": "d76428fc",
   "metadata": {},
   "source": [
    "#### Q12. For a normal distribution data what is the relationship between its measure of central tendency?"
   ]
  },
  {
   "cell_type": "markdown",
   "id": "589d4ae5",
   "metadata": {},
   "source": [
    "* For a normal distribution, the mean, median, and mode are all equal. In other words, the measure of central tendency is the same, and they are located at the center of the distribution. This is because a normal distribution is symmetric around its mean, so the middle value (median) is the same as the average value (mean), which is also the most frequent value (mode).\n",
    "\n",
    "* This relationship between the mean, median, and mode is a key characteristic of a normal distribution and can be used to identify if a dataset is approximately normally distributed."
   ]
  },
  {
   "cell_type": "markdown",
   "id": "035aacb5",
   "metadata": {},
   "source": [
    "# -------------------------------------------------"
   ]
  },
  {
   "cell_type": "markdown",
   "id": "5d6177a0",
   "metadata": {},
   "source": [
    "#### Q13. How is covariance different from correlation?"
   ]
  },
  {
   "cell_type": "markdown",
   "id": "ba5416e1",
   "metadata": {},
   "source": [
    "* Covariance and correlation are two different measures of the relationship between two variables in a dataset:\n",
    "\n",
    "    * **Definition:** Covariance measures the degree to which two variables in a dataset vary together, while correlation measures the strength and direction of the linear relationship between two variables.\n",
    "\n",
    "    * **Range of values:** Covariance can take on any value between negative infinity and positive infinity, while correlation is limited to values between -1 and 1.\n",
    "\n",
    "    * **Interpretation:** A positive covariance indicates that two variables tend to increase or decrease together, while a negative covariance indicates that one variable tends to increase while the other decreases. However, the magnitude of covariance is difficult to interpret. On the other hand, correlation provides a clear indication of the strength and direction of the relationship between two variables. A positive correlation means that as one variable increases, the other variable tends to increase, and vice versa. A negative correlation means that as one variable increases, the other variable tends to decrease, and vice versa.\n",
    "\n",
    "    * **Units:** Covariance is expressed in the units of the variables being measured, while correlation is unitless, as it measures the relationship between variables relative to their standard deviations.\n",
    "\n",
    "In summary, covariance and correlation are both measures of the relationship between two variables, but correlation is considered a more useful measure than covariance because it is standardized, provides more meaningful results, and is easier to interpret."
   ]
  },
  {
   "cell_type": "markdown",
   "id": "7e5b90f4",
   "metadata": {},
   "source": [
    "# ------------------------------------------------"
   ]
  },
  {
   "cell_type": "markdown",
   "id": "42633d5a",
   "metadata": {},
   "source": [
    "#### Q14. How do outliers affect measures of central tendency and dispersion? Provide an example."
   ]
  },
  {
   "cell_type": "markdown",
   "id": "c64c0188",
   "metadata": {},
   "source": [
    "* Outliers are extreme values that differ significantly from the other values in a dataset. They can have a significant impact on measures of central tendency and dispersion:\n",
    "\n",
    "* Measures of central tendency: Outliers can greatly affect the mean, but have little effect on the median and mode. This is because the mean is sensitive to extreme values, and outliers can pull it towards the extreme end of the distribution. For example, consider a dataset of salaries for a company that looks like this:\n",
    "\n",
    "* Here's an example:\n",
    "\n",
    "    - Suppose we have a dataset representing the salaries of employees in a company:\n",
    "\n",
    "    - {50, 60, 65, 70, 75, 80, 85, 90, 95, 100}\n",
    "\n",
    "    - If we add an outlier to the dataset:\n",
    "\n",
    "    - {50, 60, 65, 70, 75, 80, 85, 90, 95, 100, 1000}\n",
    "\n",
    "* The mean increases from 78.18 to 143.82, which is significantly higher than the typical salary in the dataset. The median, however, only increases from 77.5 to 80, which is less affected by the outlier. The standard deviation also increases from 20.07 to 225.56, reflecting the increased spread of the data around the mean due to the outlier.\n",
    "\n",
    "* In summary, outliers can have a significant impact on measures of central tendency and dispersion and should be carefully considered and dealt with when analyzing data."
   ]
  },
  {
   "cell_type": "code",
   "execution_count": null,
   "id": "4e832590",
   "metadata": {},
   "outputs": [],
   "source": []
  }
 ],
 "metadata": {
  "kernelspec": {
   "display_name": "Python 3 (ipykernel)",
   "language": "python",
   "name": "python3"
  },
  "language_info": {
   "codemirror_mode": {
    "name": "ipython",
    "version": 3
   },
   "file_extension": ".py",
   "mimetype": "text/x-python",
   "name": "python",
   "nbconvert_exporter": "python",
   "pygments_lexer": "ipython3",
   "version": "3.9.6"
  }
 },
 "nbformat": 4,
 "nbformat_minor": 5
}
