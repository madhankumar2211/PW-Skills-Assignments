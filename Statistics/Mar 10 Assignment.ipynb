{
 "cells": [
  {
   "cell_type": "markdown",
   "id": "92d62393",
   "metadata": {},
   "source": [
    "#### Q1: What is Estimation Statistics? Explain point estimate and interval estimate."
   ]
  },
  {
   "cell_type": "markdown",
   "id": "19013334",
   "metadata": {},
   "source": [
    "* Estimation statistics is a branch of inferential statistics that deals with the estimation of population parameters based on sample statistics. It involves using sample data to make inferences about the population.\n",
    "\n",
    "\n",
    "* There are two main types of estimation: \n",
    "    * Point estimation \n",
    "    * Interval estimation.\n",
    "\n",
    "\n",
    "* **Point estimation** involves using a single value, called the point estimate, to estimate the population parameter of interest. The point estimate is usually calculated from the sample data and is used as a best guess for the true value of the parameter. Common point estimates include the sample mean, sample proportion, and sample variance.\n",
    "\n",
    "\n",
    "* **Interval estimation** involves using a range of values, called the confidence interval, to estimate the population parameter of interest. A confidence interval is constructed from the sample data and is used to provide a range of values within which the true value of the population parameter is likely to fall. The confidence interval is usually expressed as a range of values with an associated level of confidence. For example, a 95% confidence interval for the population mean would be a range of values within which we are 95% confident that the true value of the population mean falls.\n",
    "\n",
    "\n",
    "* In general, interval estimation provides more information about the population parameter of interest than point estimation, as it provides a range of plausible values for the parameter rather than just a single estimate. However, interval estimation is generally more complex and computationally intensive than point estimation."
   ]
  },
  {
   "cell_type": "markdown",
   "id": "78b691ae",
   "metadata": {},
   "source": [
    "# -------------------------------------------"
   ]
  },
  {
   "cell_type": "markdown",
   "id": "cb79d3e7",
   "metadata": {},
   "source": [
    "#### Q2. Write a Python function to estimate the population mean using a sample mean and standard deviation."
   ]
  },
  {
   "cell_type": "code",
   "execution_count": 1,
   "id": "99183111",
   "metadata": {},
   "outputs": [],
   "source": [
    "def estimate_population_mean(sample_mean, sample_std, sample_size):\n",
    "    \"\"\"\n",
    "    Calculates an estimate of the population mean given the sample mean, standard deviation, and sample size.\n",
    "    \"\"\"\n",
    "    standard_error = sample_std / (sample_size ** 0.5)\n",
    "    z_score = 1.96 # z-score for 95% confidence interval\n",
    "    margin_of_error = z_score * standard_error\n",
    "    lower_bound = sample_mean - margin_of_error\n",
    "    upper_bound = sample_mean + margin_of_error\n",
    "    return (lower_bound, upper_bound)"
   ]
  },
  {
   "cell_type": "markdown",
   "id": "b5c456bb",
   "metadata": {},
   "source": [
    "# -------------------------------------------"
   ]
  },
  {
   "cell_type": "markdown",
   "id": "6ef14f38",
   "metadata": {},
   "source": [
    "#### Q3: What is Hypothesis testing? Why is it used? State the importance of Hypothesis testing."
   ]
  },
  {
   "cell_type": "markdown",
   "id": "44f6da4e",
   "metadata": {},
   "source": [
    "* **Hypothesis testing** is a statistical method used to determine if there is enough evidence to reject or fail to reject a proposed explanation or hypothesis about a population based on a sample of data. It involves setting up a null hypothesis, which assumes that there is no significant difference between the observed data and the expected population parameter, and an alternative hypothesis, which assumes that there is a significant difference between the observed data and the expected population parameter. The null hypothesis is tested using a statistical test, and the results are used to determine whether the null hypothesis can be rejected in favor of the alternative hypothesis.\n",
    "\n",
    "\n",
    "* **Hypothesis testing is used** in many areas of research and business to make decisions based on data. For example, a pharmaceutical company might use hypothesis testing to determine whether a new drug is more effective than an existing drug, or a marketing company might use hypothesis testing to determine whether a new advertising campaign is more effective than an old one.\n",
    "\n",
    "\n",
    "* **The importance of hypothesis** testing lies in its ability to provide a structured and objective way to evaluate evidence and draw conclusions based on data. By using hypothesis testing, researchers and analysts can avoid making decisions based on anecdotal evidence or personal biases and can make more informed decisions based on rigorous statistical analysis. Hypothesis testing also provides a framework for making decisions based on uncertainty, which is essential in many areas of research and business where decisions must be made based on incomplete or imperfect information."
   ]
  },
  {
   "cell_type": "markdown",
   "id": "03bf297d",
   "metadata": {},
   "source": [
    "# -------------------------------------------"
   ]
  },
  {
   "cell_type": "markdown",
   "id": "ef0bfac7",
   "metadata": {},
   "source": [
    "#### Q4. Create a hypothesis that states whether the average weight of male college students is greater than the average weight of female college students."
   ]
  },
  {
   "cell_type": "markdown",
   "id": "4fc04b4c",
   "metadata": {},
   "source": [
    "* **Hypothesis:** The average weight of male college students is greater than the average weight of female college students.\n",
    "\n",
    "\n",
    "* **Null Hypothesis (H0):** The average weight of male college students is not greater than the average weight of female college students. Alternative Hypothesis (HA): The average weight of male college students is greater than the average weight of female college students.\n",
    "\n",
    "\n",
    "* We can test this hypothesis by collecting a random sample of male and female college students and calculating the mean weight for each group. We can then use a statistical test, such as a t-test, to determine whether the difference in mean weight between the two groups is statistically significant. If the p-value is less than the significance level (e.g. 0.05), we can reject the null hypothesis and conclude that the average weight of male college students is indeed greater than the average weight of female college students. If the p-value is greater than the significance level, we fail to reject the null hypothesis and conclude that there is not enough evidence to support the claim that the average weight of male college students is greater than the average weight of female college students."
   ]
  },
  {
   "cell_type": "markdown",
   "id": "31fe4436",
   "metadata": {},
   "source": [
    "# -------------------------------------------"
   ]
  },
  {
   "cell_type": "markdown",
   "id": "844e4d25",
   "metadata": {},
   "source": [
    "#### Q5. Write a Python script to conduct a hypothesis test on the difference between two population means, given a sample from each population."
   ]
  },
  {
   "cell_type": "code",
   "execution_count": 12,
   "id": "3861e5d5",
   "metadata": {},
   "outputs": [
    {
     "name": "stdout",
     "output_type": "stream",
     "text": [
      "Sample 1 Mean: 9.92\n",
      "Sample 2 Mean: 11.45\n",
      "Pooled STD: 2.09\n",
      "T-Stats: -3.66\n",
      "P-Value: 0.0004\n"
     ]
    }
   ],
   "source": [
    "import numpy as np\n",
    "from scipy.stats import ttest_ind\n",
    "\n",
    "# Generate two random samples from two normal distributions\n",
    "np.random.seed(150)\n",
    "sample1 = np.random.normal(loc=10, scale=2, size=50)\n",
    "sample2 = np.random.normal(loc=12, scale=2, size=50)\n",
    "\n",
    "# Calculate the sample means and standard deviations\n",
    "mean1, mean2 = np.mean(sample1), np.mean(sample2)\n",
    "std1, std2 = np.std(sample1, ddof=1), np.std(sample2, ddof=1)\n",
    "\n",
    "# Calculate the pooled standard deviation\n",
    "pooled_std = np.sqrt(((len(sample1)-1)*(std1**2) + (len(sample2)-1)*(std2**2)) / (len(sample1) + len(sample2) - 2))\n",
    "\n",
    "# Calculate the t-statistic and p-value\n",
    "t_stat, p_val = ttest_ind(sample1, sample2)\n",
    "\n",
    "# Print the results\n",
    "print(\"Sample 1 Mean: {:.2f}\".format(mean1))\n",
    "print(\"Sample 2 Mean: {:.2f}\".format(mean2))\n",
    "print(\"Pooled STD: {:.2f}\".format(pooled_std))\n",
    "print(\"T-Stats: {:.2f}\".format(t_stat))\n",
    "print(\"P-Value: {:.4f}\".format(p_val))"
   ]
  },
  {
   "cell_type": "markdown",
   "id": "028137a3",
   "metadata": {},
   "source": [
    "# -------------------------------------------"
   ]
  },
  {
   "cell_type": "markdown",
   "id": "873aeb83",
   "metadata": {},
   "source": [
    "#### Q6: What is a null and alternative hypothesis? Give some examples."
   ]
  },
  {
   "cell_type": "markdown",
   "id": "fa54a7b7",
   "metadata": {},
   "source": [
    "* In hypothesis testing, a null hypothesis (H0) is a statement that assumes there is no difference or no relationship between the variables under investigation. An alternative hypothesis (Ha) is a statement that contradicts the null hypothesis, suggesting that there is a difference or a relationship between the variables.\n",
    "\n",
    "\n",
    "* Here are some examples:\n",
    "\n",
    "    * The average weight loss of participants in a weight loss program is not different from zero. Alternative hypothesis: The average weight loss of participants in a weight loss program is greater than zero.\n",
    "    \n",
    "    * The mean IQ scores of two groups of students are the same. Alternative hypothesis: The mean IQ scores of the two groups of students are different.\n",
    "\n",
    "    * The rate of defective products produced by a machine is within the acceptable range. Alternative hypothesis: The rate of defective products produced by a machine is outside the acceptable range.\n",
    "\n",
    "    * There is no correlation between exercise and blood pressure. Alternative hypothesis: There is a correlation between exercise and blood pressure."
   ]
  },
  {
   "cell_type": "markdown",
   "id": "64f1fdfc",
   "metadata": {},
   "source": [
    "# -------------------------------------------"
   ]
  },
  {
   "cell_type": "markdown",
   "id": "ed1a019d",
   "metadata": {},
   "source": [
    "#### Q7: Write down the steps involved in hypothesis testing."
   ]
  },
  {
   "cell_type": "markdown",
   "id": "1dbf7f16",
   "metadata": {},
   "source": [
    "* Hypothesis testing involves the following steps:\n",
    "\n",
    "    1. State the null hypothesis (H0) and alternative hypothesis (Ha): The null hypothesis assumes that there is no significant difference between the two groups being compared, while the alternative hypothesis assumes that there is a significant difference.\n",
    "    \n",
    "    2. Determine the level of significance (α): This represents the maximum probability of rejecting the null hypothesis when it is actually true. Typically, the level of significance is set at 0.05 or 0.01.\n",
    "\n",
    "    3. Select an appropriate test statistic: The choice of test statistic depends on the nature of the hypothesis being tested, the type of data being analyzed, and the sample size.\n",
    "\n",
    "    4. Determine the critical region: This is the range of values of the test statistic that would lead to rejection of the null hypothesis at the chosen level of significance. The critical region is determined based on the assumptions of the test and the distribution of the test statistic.\n",
    "\n",
    "    5. Compute the test statistic: The test statistic is computed using the sample data.\n",
    "\n",
    "    6. Compare the test statistic to the critical region: If the test statistic falls within the critical region, the null hypothesis is rejected in favor of the alternative hypothesis.\n",
    "\n",
    "    7. Draw conclusions: Based on the results of the hypothesis test, conclusions can be drawn about the difference or relationship between the groups being compared."
   ]
  },
  {
   "cell_type": "markdown",
   "id": "4ef69095",
   "metadata": {},
   "source": [
    "# -------------------------------------------"
   ]
  },
  {
   "cell_type": "markdown",
   "id": "212ac2cd",
   "metadata": {},
   "source": [
    "#### Q8. Define p-value and explain its significance in hypothesis testing."
   ]
  },
  {
   "cell_type": "markdown",
   "id": "fa26cba3",
   "metadata": {},
   "source": [
    "* In statistical hypothesis testing, the p-value is the probability of observing a test statistic at least as extreme as the one computed from the sample, assuming that the null hypothesis is true. In simpler terms, the p-value is the probability of obtaining a result as extreme as, or more extreme than, the observed result, assuming that the null hypothesis is true.\n",
    "\n",
    "\n",
    "* If the p-value is less than or equal to a chosen significance level (usually 0.05), then we reject the null hypothesis in favor of the alternative hypothesis. This means that the observed result is statistically significant and not just due to chance. On the other hand, if the p-value is greater than the significance level, we fail to reject the null hypothesis. This means that the observed result is not statistically significant, and we do not have enough evidence to reject the null hypothesis.\n",
    "\n",
    "\n",
    "* In summary, the p-value is an important concept in hypothesis testing as it helps us determine the statistical significance of our results and whether they are likely due to chance or not."
   ]
  },
  {
   "cell_type": "markdown",
   "id": "0e7893d7",
   "metadata": {},
   "source": [
    "# -------------------------------------------"
   ]
  },
  {
   "cell_type": "markdown",
   "id": "330dd383",
   "metadata": {},
   "source": [
    "#### Q9. Generate a Student's t-distribution plot using Python's matplotlib library, with the degrees of freedom parameter set to 10."
   ]
  },
  {
   "cell_type": "code",
   "execution_count": 18,
   "id": "b6e1a149",
   "metadata": {},
   "outputs": [
    {
     "data": {
      "image/png": "[encoded data removed]",
      "text/plain": [
       "<Figure size 432x288 with 1 Axes>"
      ]
     },
     "metadata": {
      "needs_background": "light"
     },
     "output_type": "display_data"
    }
   ],
   "source": [
    "import numpy as np\n",
    "import matplotlib.pyplot as plt\n",
    "from scipy.stats import t\n",
    "\n",
    "dof = 10  # degrees of freedom\n",
    "\n",
    "x = np.linspace(-3, 3, 200)\n",
    "y = t.pdf(x, dof)\n",
    "\n",
    "plt.plot(x, y)\n",
    "plt.title(\"Student's t-distribution with 10 degrees of freedom\")\n",
    "plt.xlabel('x')\n",
    "plt.ylabel('pdf(x)')\n",
    "plt.show()"
   ]
  },
  {
   "cell_type": "markdown",
   "id": "682c1547",
   "metadata": {},
   "source": [
    "# -------------------------------------------"
   ]
  },
  {
   "cell_type": "markdown",
   "id": "68d2fad2",
   "metadata": {},
   "source": [
    "#### Q10. Write a Python program to calculate the two-sample t-test for independent samples, given two random samples of equal size and a null hypothesis that the population means are equal."
   ]
  },
  {
   "cell_type": "code",
   "execution_count": 20,
   "id": "25ee7477",
   "metadata": {},
   "outputs": [
    {
     "name": "stdout",
     "output_type": "stream",
     "text": [
      "t-score: -6.133772775856216\n",
      "p-value: 4.580868148491889e-09\n"
     ]
    }
   ],
   "source": [
    "import numpy as np\n",
    "from scipy.stats import ttest_ind\n",
    "\n",
    "# Generate two random samples of equal size\n",
    "sample1 = np.random.normal(loc=10, scale=2, size=100)\n",
    "sample2 = np.random.normal(loc=12, scale=2, size=100)\n",
    "\n",
    "# Calculate the t-test\n",
    "t_stat, p_value = ttest_ind(sample1, sample2)\n",
    "\n",
    "# Print the results\n",
    "print(\"t-score:\", t_stat)\n",
    "print(\"p-value:\", p_value)"
   ]
  },
  {
   "cell_type": "markdown",
   "id": "c9328b71",
   "metadata": {},
   "source": [
    "# -------------------------------------------"
   ]
  },
  {
   "cell_type": "markdown",
   "id": "75234d7f",
   "metadata": {},
   "source": [
    "#### Q11: What is Student’s t distribution? When to use the t-Distribution."
   ]
  },
  {
   "cell_type": "markdown",
   "id": "51cf46d3",
   "metadata": {},
   "source": [
    "* Student's t-distribution is a probability distribution that is used to estimate the population parameters when the sample size is small and the population standard deviation is unknown. It is used in situations where the sample size is less than 30 and the population standard deviation is not known.\n",
    "\n",
    "\n",
    "* The t-distribution is similar to the standard normal distribution, but it has heavier tails, meaning that it is more spread out and has more variability. The t-distribution is characterized by a parameter known as degrees of freedom, which is equal to the sample size minus one.\n",
    "\n",
    "\n",
    "* The t-distribution is used in hypothesis testing, specifically when the sample size is small and the population standard deviation is not known. It is also used to calculate confidence intervals for population parameters, such as the mean or the difference between two means."
   ]
  },
  {
   "cell_type": "markdown",
   "id": "c41c3a6d",
   "metadata": {},
   "source": [
    "# -------------------------------------------"
   ]
  },
  {
   "cell_type": "markdown",
   "id": "48dbc4ab",
   "metadata": {},
   "source": [
    "#### Q12: What is t-statistic? State the formula for t-statistic."
   ]
  },
  {
   "cell_type": "markdown",
   "id": "0c387871",
   "metadata": {},
   "source": [
    "\n",
    "* One of the variants of the t-test is the one-sample t-test. It determines if the sample is significantly different from the population. \n",
    "    * The formula for t-statistic for one-sample t-test:\n",
    "\n",
    "        > **t = ( x̄ – μ) / (s / √n)**\n",
    "    * where  **x̄** = Observed Mean of the Sample, **μ** = Theoretical Mean of the Population, **s** = Standard Deviation of the Sample, **n** = Sample Size.\n",
    "    \n",
    "    \n",
    "* The t-statistic is a measure used to determine if the means of two groups are significantly different from each other when the sample size is small or the population standard deviation is unknown. It is the ratio of the difference between the means of the two groups and the standard error of the difference.\n",
    "\n",
    "    * The formula for t-statistic for two-sample t-test:\n",
    "\n",
    "        > **t = ( $x̄_{1}$ – $x̄_{2}$) / √ [($s^{2}_{1}$ / $n_{1}$ ) + ($s^{2}_{2}$ / $n_{2}$ )]**\n",
    "    * where x̄1 and x̄2 are the sample means of the two groups, s is the pooled standard deviation of the two groups, n1 and n2 are the sample sizes of the two groups, s1 and s2 are Standard Deviation of the two group."
   ]
  },
  {
   "cell_type": "markdown",
   "id": "cf5f621c",
   "metadata": {},
   "source": [
    "# -------------------------------------------"
   ]
  },
  {
   "cell_type": "markdown",
   "id": "167bbacf",
   "metadata": {},
   "source": [
    "#### Q13. A coffee shop owner wants to estimate the average daily revenue for their shop. They take a random sample of 50 days and find the sample mean revenue to be 500 dollar with a standard deviation of 50 dollar. Estimate the population mean revenue with a 95% confidence interval."
   ]
  },
  {
   "cell_type": "markdown",
   "id": "15cce2a0",
   "metadata": {},
   "source": [
    "To estimate the population mean revenue with a 95% confidence interval, we can use the following formula:\n",
    "\n",
    "Confidence Interval = sample mean ± margin of error where, sample mean = $500 margin of error = t-value * standard error t-value = the critical value from the t-distribution table for the given confidence level and degrees of freedom (df = n-1) standard error = standard deviation / sqrt(n)\n",
    "\n",
    "We can assume a 95% confidence level and the degrees of freedom (df) is 49 since the sample size is 50.\n",
    "\n",
    "Using the t-distribution table, we find the t-value for 95% confidence level and df = 49 to be 2.009.\n",
    "\n",
    "Now, we can calculate the margin of error as follows: standard error = 50 / sqrt(50) = 7.071 margin of error = 2.009 * 7.071 = 14.196\n",
    "\n",
    "Therefore, the 95% confidence interval for the population mean revenue is: 500 ± 14.196 = (485.804, 514.196)\n",
    "\n",
    "So, we can say with 95% confidence that the true population mean revenue lies between 485.804 and\n",
    "514.196."
   ]
  },
  {
   "cell_type": "markdown",
   "id": "8b08c02a",
   "metadata": {},
   "source": [
    "# -------------------------------------------"
   ]
  },
  {
   "cell_type": "markdown",
   "id": "001346c8",
   "metadata": {},
   "source": [
    "#### Q14. A researcher hypothesizes that a new drug will decrease blood pressure by 10 mmHg. They conduct a clinical trial with 100 patients and find that the sample mean decrease in blood pressure is 8 mmHg with a standard deviation of 3 mmHg. Test the hypothesis with a significance level of 0.05."
   ]
  },
  {
   "cell_type": "markdown",
   "id": "f614d986",
   "metadata": {},
   "source": [
    "To test the hypothesis, we can use a one-sample t-test with the null hypothesis stating that the true mean decrease in blood pressure is equal to 10 mmHg, and the alternative hypothesis stating that it is less than 10 mmHg. The test statistic is calculated as follows:\n",
    "\n",
    "t = (sample mean - hypothesized mean) / (standard error) where the standard error is calculated as the sample standard deviation divided by the square root of the sample size.\n",
    "\n",
    "So, in this case:\n",
    "\n",
    "    hypothesized mean = 10 mmHg\n",
    "    sample mean = 8 mmHg\n",
    "    sample standard deviation = 3 mmHg\n",
    "    sample size = 100\n",
    "\n",
    "The standard error is therefore:\n",
    "\n",
    "    standard error = 3 / sqrt(100) = 0.3\n",
    "\n",
    "And the test statistic is:\n",
    "\n",
    "    t = (8 - 10) / 0.3 = -6.67\n",
    "\n",
    "We can then compare this to the critical value from a t-distribution with 99 degrees of freedom (since we have 100 observations and are estimating one parameter), and a significance level of 0.05. Using a one-tailed test, the critical value is **-1.66.**\n",
    "\n",
    "Since our test statistic is less than the critical value, we can reject the null hypothesis and conclude that there is evidence to support the claim that the new drug decreases blood pressure by less than 10 mmHg."
   ]
  },
  {
   "cell_type": "markdown",
   "id": "2d3da203",
   "metadata": {},
   "source": [
    "# -------------------------------------------"
   ]
  },
  {
   "cell_type": "markdown",
   "id": "c5a51b29",
   "metadata": {},
   "source": [
    "#### Q15. An electronics company produces a certain type of product with a mean weight of 5 pounds and a standard deviation of 0.5 pounds. A random sample of 25 products is taken, and the sample mean weight is found to be 4.8 pounds. Test the hypothesis that the true mean weight of the products is less than 5 pounds with a significance level of 0.01."
   ]
  },
  {
   "cell_type": "markdown",
   "id": "66d7ac85",
   "metadata": {},
   "source": [
    "Given:\n",
    "\n",
    "    Mean weight of the product = 5 pounds\n",
    "    Standard deviation = 0.5 pounds\n",
    "    Sample size (n) = 25\n",
    "    Sample mean weight = 4.8 pounds\n",
    "    Significance level (alpha) = 0.01\n",
    "    \n",
    "We need to test the hypothesis that the true mean weight of the products is less than 5 pounds.\n",
    "\n",
    "Null hypothesis: The true mean weight of the products is greater than or equal to 5 pounds. Alternate hypothesis: The true mean weight of the products is less than 5 pounds.\n",
    "\n",
    "We can use a one-tailed t-test to test this hypothesis. The test statistic is calculated as follows:\n",
    "\n",
    "    t = (sample_mean - population_mean) / (standard_error / sqrt(n))\n",
    "\n",
    "    standard_error = standard_deviation / sqrt(n)\n",
    "\n",
    "The critical t-value is obtained from the t-distribution table with n-1 degrees of freedom and alpha level of 0.01.\n",
    "\n",
    "Using the above formulas, we get:\n",
    "\n",
    "    standard_error = 0.5 / sqrt(25) = 0.1\n",
    "\n",
    "    t = (4.8 - 5) / (0.1) = -2\n",
    "\n",
    "The critical t-value with 24 degrees of freedom and alpha level of 0.01 is **-2.492.**\n",
    "\n",
    "Since the calculated t-value (-2) is less than the critical t-value (-2.492), we reject the null hypothesis and conclude that the true mean weight of the products is less than 5 pounds at a significance level of 0.01."
   ]
  },
  {
   "cell_type": "markdown",
   "id": "e59c2923",
   "metadata": {},
   "source": [
    "# -------------------------------------------"
   ]
  },
  {
   "cell_type": "markdown",
   "id": "c5156d39",
   "metadata": {},
   "source": [
    "#### Q16. Two groups of students are given different study materials to prepare for a test. The first group (n1 = 30) has a mean score of 80 with a standard deviation of 10, and the second group (n2 = 40) has a mean score of 75 with a standard deviation of 8. Test the hypothesis that the population means for the two groups are equal with a significance level of 0.01."
   ]
  },
  {
   "cell_type": "markdown",
   "id": "e47ce145",
   "metadata": {},
   "source": [
    "To test the hypothesis that the population means for the two groups are equal, we can use a two-sample t-test for independent samples. The null and alternative hypotheses are:\n",
    "\n",
    "Null hypothesis: μ1 = μ2 Alternative hypothesis: μ1 ≠ μ2\n",
    "\n",
    "We will use a significance level of 0.01.\n",
    "\n",
    "First, we can calculate the pooled standard deviation:\n",
    "\n",
    "    Sp = sqrt(((n1 - 1) * s1^2 + (n2 - 1) * s2^2) / (n1 + n2 - 2))\n",
    "\n",
    "where s1 and s2 are the sample standard deviations.\n",
    "\n",
    "Then, we can calculate the t-statistic:\n",
    "\n",
    "    t = (x1 - x2) / (Sp * sqrt(1/n1 + 1/n2))\n",
    "\n",
    "where x1 and x2 are the sample means.\n",
    "\n",
    "Using a t-table or a t-distribution calculator with (n1 + n2 - 2) degrees of freedom and a significance level of 0.01, we find the critical values to be -2.583 and 2.583.\n",
    "\n",
    "If the calculated t-statistic falls outside this range, we reject the null hypothesis and conclude that the population means are different. Otherwise, we fail to reject the null hypothesis.\n",
    "\n",
    "Plugging in the values, we get:\n",
    "\n",
    "    Sp = sqrt(((30 - 1) * 10^2 + (40 - 1) * 8^2) / (30 + 40 - 2)) = 8.671\n",
    "\n",
    "    t = (80 - 75) / (8.671 * sqrt(1/30 + 1/40)) = 2.67\n",
    "\n",
    "Since 2.67 > 2.583, **we reject the null hypothesis** and conclude that the population means are different."
   ]
  },
  {
   "cell_type": "markdown",
   "id": "a292bea0",
   "metadata": {},
   "source": [
    "# -------------------------------------------"
   ]
  },
  {
   "cell_type": "markdown",
   "id": "baeec046",
   "metadata": {},
   "source": [
    "#### Q17. A marketing company wants to estimate the average number of ads watched by viewers during a TV program. They take a random sample of 50 viewers and find that the sample mean is 4 with a standard deviation of 1.5. Estimate the population mean with a 99% confidence interval."
   ]
  },
  {
   "cell_type": "markdown",
   "id": "08ba9d73",
   "metadata": {},
   "source": [
    "To estimate the population mean with a 99% confidence interval, we can use the following formula:\n",
    "\n",
    "Confidence interval = sample mean ± margin of error\n",
    "\n",
    "Where margin of error = critical value x standard error\n",
    "\n",
    "The critical value can be obtained from the t-distribution table with n-1 degrees of freedom and a 99% confidence level. For a sample size of 50 and a 99% confidence level, the critical value is 2.678.\n",
    "\n",
    "The standard error can be calculated as the standard deviation of the sample divided by the square root of the sample size. In this case, the standard error is:\n",
    "\n",
    "    standard error = 1.5 / sqrt(50) = 0.212\n",
    "\n",
    "Therefore, the margin of error is:\n",
    "\n",
    "    margin of error = 2.678 x 0.212 = 0.568\n",
    "\n",
    "Finally, the confidence interval is:\n",
    "\n",
    "    Confidence interval = 4 ± 0.568 = [3.432, 4.568]\n",
    "\n",
    "So, we can say with 99% confidence that the population mean of the number of ads watched by viewers during a TV program is between 3.432 and 4.568."
   ]
  },
  {
   "cell_type": "markdown",
   "id": "9689f91e",
   "metadata": {},
   "source": [
    "# -------------------------------------------"
   ]
  }
 ],
 "metadata": {
  "kernelspec": {
   "display_name": "Python 3 (ipykernel)",
   "language": "python",
   "name": "python3"
  },
  "language_info": {
   "codemirror_mode": {
    "name": "ipython",
    "version": 3
   },
   "file_extension": ".py",
   "mimetype": "text/x-python",
   "name": "python",
   "nbconvert_exporter": "python",
   "pygments_lexer": "ipython3",
   "version": "3.9.6"
  }
 },
 "nbformat": 4,
 "nbformat_minor": 5
}
