{
 "cells": [
  {
   "cell_type": "markdown",
   "id": "fb8ca5b4",
   "metadata": {},
   "source": [
    "#### Q1: What is the difference between a t-test and a z-test? Provide an example scenario where you would use each type of test.\n"
   ]
  },
  {
   "cell_type": "markdown",
   "id": "b4c685d6",
   "metadata": {},
   "source": [
    "* Both t-test and z-test are statistical hypothesis tests used to make inferences about population parameters from sample data. The main difference between the two is that the t-test is used when the sample size is small (typically less than 30) and/or the population standard deviation is unknown, whereas the z-test is used when the sample size is large (typically greater than 30) and/or the population standard deviation is known.\n",
    "\n",
    "\n",
    "* Here is an example scenario where you would use each type of test:\n",
    "\n",
    "    * **T-test:** Suppose you want to test whether a new weight loss program is effective in reducing weight. You randomly select 20 participants and measure their weight before and after the program. You want to test whether the program leads to a significant reduction in weight. In this case, you would use a paired-sample t-test because you are comparing the means of two related groups (the participants' weight before and after the program) and the sample size is relatively small.\n",
    "\n",
    "    * **Z-test:** Suppose you want to test whether the mean height of students in a university is significantly different from the mean height of the general population. You randomly select 100 students and measure their height, and you know from previous studies that the standard deviation of height in the general population is 3 inches. In this case, you would use a one-sample z-test because you are comparing the mean of one sample (the students' height) to a known population mean, and the sample size is relatively large."
   ]
  },
  {
   "cell_type": "markdown",
   "id": "b779b5ff",
   "metadata": {},
   "source": [
    "# -------------------------------------------------"
   ]
  },
  {
   "cell_type": "markdown",
   "id": "6a654da4",
   "metadata": {},
   "source": [
    "#### Q2: Differentiate between one-tailed and two-tailed tests.\n"
   ]
  },
  {
   "cell_type": "markdown",
   "id": "9416d7c0",
   "metadata": {},
   "source": [
    "||One-tailed Test|Two-tailed Test|\n",
    "|--|--|--|\n",
    "|Definition|A statistical test in which the alternative hypothesis specifies the direction of the effect (either positive or negative)|A statistical test in which the alternative hypothesis does not specify the direction of the effect|\n",
    "|Directionality|The alternative hypothesis is formulated in a specific direction|The alternative hypothesis is formulated in both directions|\n",
    "|Hypotheses|Null hypothesis and one-tailed alternative hypothesis|Null hypothesis and two-tailed alternative hypothesis|\n",
    "|Appropriate Use|When there is prior knowledge or a strong theoretical justification for the direction of the effect|When there is no prior knowledge or theoretical justification for the direction of the effect|\n",
    "|Example|Testing whether a new drug increases blood pressure|Testing whether a new drug has any effect on blood pressure, regardless of whether it increases or decreases it|\n"
   ]
  },
  {
   "cell_type": "markdown",
   "id": "b3ba5a23",
   "metadata": {},
   "source": [
    "# -------------------------------------------------"
   ]
  },
  {
   "cell_type": "markdown",
   "id": "01c2af37",
   "metadata": {},
   "source": [
    "#### Q3: Explain the concept of Type 1 and Type 2 errors in hypothesis testing. Provide an example scenario for each type of error.\n"
   ]
  },
  {
   "cell_type": "markdown",
   "id": "f97bfee5",
   "metadata": {},
   "source": [
    "* In hypothesis testing, there are two types of errors that can occur: Type I error and Type II error.\n",
    "\n",
    "\n",
    "* **Type I error** occurs when the null hypothesis is rejected even though it is actually true. This means that the researcher concludes that there is a significant effect or difference between two groups when in reality there is not. The probability of making a Type I error is denoted as alpha (α) and is set by the researcher prior to conducting the test. A smaller alpha level means a lower probability of making a Type I error.\n",
    "\n",
    "\n",
    "* **Type II error**, on the other hand, occurs when the null hypothesis is not rejected even though it is actually false. This means that the researcher concludes that there is no significant effect or difference between two groups when in reality there is. The probability of making a Type II error is denoted as beta (β). The probability of making a Type II error depends on several factors such as the sample size, effect size, and the alpha level.\n",
    "\n",
    "\n",
    "* Here are example scenarios for each type of error:\n",
    "    * **Type I error:** Suppose a company produces a batch of 10,000 pens and claims that the average weight of each pen is 5 grams. A researcher randomly selects a sample of 50 pens and finds that the average weight is 5.2 grams with a standard deviation of 0.5 grams. The researcher conducts a hypothesis test with a significance level of 0.05 and concludes that the average weight of the pens is significantly greater than 5 grams. However, in reality, the average weight of the pens is actually 5 grams, and the researcher has made a Type I error by rejecting the null hypothesis.\n",
    "\n",
    "    * **Type II error:** Consider a clinical trial testing the effectiveness of a new drug for treating a certain disease. The null hypothesis is that the drug has no effect on the disease, while the alternative hypothesis is that the drug does have an effect. If the clinical trial fails to reject the null hypothesis, it could be due to the drug having no effect, or it could be due to a Type II error, where the drug actually does have an effect but it was not detected in the study. In this scenario, a Type II error would occur if the new drug is effective, but the clinical trial fails to detect its effectiveness due to a small sample size or other limitations of the study."
   ]
  },
  {
   "cell_type": "markdown",
   "id": "55a08f4c",
   "metadata": {},
   "source": [
    "# -------------------------------------------------"
   ]
  },
  {
   "cell_type": "markdown",
   "id": "daa74c12",
   "metadata": {},
   "source": [
    "#### Q4: Explain Bayes's theorem with an example.\n"
   ]
  },
  {
   "cell_type": "markdown",
   "id": "df0cb648",
   "metadata": {},
   "source": [
    "* Bayes's theorem is a mathematical formula that provides a way to update the probability of an event occurring based on new information. It is named after Thomas Bayes, an 18th-century British statistician.\n",
    "\n",
    "\n",
    "* Bayes's theorem can be expressed as follows:\n",
    "> **P(A|B) = P(B|A) x P(A) / P(B)**\n",
    "\n",
    "        where:\n",
    "\n",
    "        P(A|B) is the probability of event A occurring given that event B has occurred\n",
    "\n",
    "        P(B|A) is the probability of event B occurring given that event A has occurred\n",
    "\n",
    "        P(A) is the prior probability of event A occurring\n",
    "\n",
    "        P(B) is the prior probability of event B occurring\n",
    "\n",
    "* Here is an example of how Bayes's theorem can be applied:\n",
    "* Suppose there is a medical test for a certain disease that affects 1% of the population. The test has a 95% accuracy rate, meaning that it correctly identifies 95% of people who have the disease and correctly identifies 95% of people who do not have the disease. If a person tests positive for the disease, what is the probability that they actually have the disease?\n",
    "> Using Bayes's theorem, we can calculate the probability as follows:\n",
    "    \n",
    "        Let A be the event that a person has the disease (prior probability = 0.01)\n",
    "\n",
    "        Let B be the event that a person tests positive for the disease \n",
    "        (prior probability = 0.01 x 0.95 + 0.99 x 0.05 = 0.058)\n",
    "\n",
    "        P(A|B) = P(B|A) x P(A) / P(B)\n",
    "\n",
    "        P(A|B) = 0.95 x 0.01 / 0.058\n",
    "\n",
    "        P(A|B) = 0.163\n",
    "\n",
    "* Therefore, the probability that a person who tests positive for the disease actually has the disease is approximately 16.3%. This calculation shows that even though the test has a high accuracy rate, there is still a significant chance of a false positive result, and additional testing or confirmation may be necessary to confirm a diagnosis."
   ]
  },
  {
   "cell_type": "markdown",
   "id": "52880d08",
   "metadata": {},
   "source": [
    "# -------------------------------------------------"
   ]
  },
  {
   "cell_type": "markdown",
   "id": "d0b4c170",
   "metadata": {},
   "source": [
    "#### Q5: What is a confidence interval? How to calculate the confidence interval, explain with an example.\n"
   ]
  },
  {
   "cell_type": "markdown",
   "id": "e12138a2",
   "metadata": {},
   "source": [
    "* A confidence interval is a range of values that is likely to contain a population parameter, such as a mean or proportion, with a certain level of confidence. It is a way of quantifying the uncertainty of an estimate based on a sample of data.\n",
    "* The confidence interval is typically expressed as an interval estimate, such as \"95% confidence interval for the mean is between 3.2 and 5.8\". This means that if we were to repeat the sampling process many times, 95% of the time the true population mean would be within this range.\n",
    "* To calculate a confidence interval, we need to know the sample size, the sample mean, and the standard error of the mean (SEM), which is a measure of the variation in the sample means. The confidence interval is based on the standard normal distribution or t-distribution, depending on the sample size and whether the population standard deviation is known.\n",
    "\n",
    "\n",
    "#### Here is an example of how to calculate a confidence interval:\n",
    "\n",
    "\n",
    "* Suppose we want to estimate the mean weight of a certain population of adults. We take a random sample of 100 people and measure their weights, and find that the sample mean is 72.5 kilograms and the sample standard deviation is 10.3 kilograms. We want to calculate a 99% confidence interval for the population mean weight.\n",
    "* Since the sample size is greater than 30 and the population standard deviation is unknown, we use the t-distribution. The degrees of freedom is n-1, which is 99 in this case.\n",
    "* First, we calculate the standard error of the mean:\n",
    "    * SEM = s / sqrt(n) = 10.3 / sqrt(100) = 1.03\n",
    "\n",
    "    * Next, we find the t-value for a 99% confidence level and 99 degrees of freedom using a t-table or calculator. The value is approximately 2.63.\n",
    "\n",
    "    * The lower and upper bounds of the confidence interval are calculated as:\n",
    "\n",
    "    * Lower bound = sample mean - t-value x SEM = 72.5 - 2.63 x 1.03 = 69.8\n",
    "    * Upper bound = sample mean + t-value x SEM = 72.5 + 2.63 x 1.03 = 75.2\n",
    "* Therefore, the 99% confidence interval for the population mean weight is between 69.8 and 75.2 kilograms. This means that we are 99% confident that the true population mean weight lies within this range."
   ]
  },
  {
   "cell_type": "code",
   "execution_count": 1,
   "id": "01884afe",
   "metadata": {},
   "outputs": [
    {
     "name": "stdout",
     "output_type": "stream",
     "text": [
      "t_value for 100 samples with significance level of 0.01 is : 2.63\n",
      "The 99% confidence interval for population mean is (69.8, 75.2)\n"
     ]
    }
   ],
   "source": [
    "from math import sqrt\n",
    "import scipy.stats as stats\n",
    "\n",
    "sample_mean = 72.5\n",
    "sample_std = 10.3\n",
    "n = 100\n",
    "\n",
    "SEM  = sample_std/sqrt(n)\n",
    "\n",
    "alpha = 0.01\n",
    "\n",
    "t_value = stats.t.ppf(1-alpha/2, df=n-1)\n",
    "print(f't_value for {n} samples with significance level of {alpha} is : {t_value:.2f}')\n",
    "\n",
    "lower_bound = sample_mean - t_value * SEM\n",
    "upper_bound = sample_mean + t_value * SEM\n",
    "\n",
    "print(f\"The 99% confidence interval for population mean is ({lower_bound:.1f}, {upper_bound:.1f})\")"
   ]
  },
  {
   "cell_type": "markdown",
   "id": "9312bf0e",
   "metadata": {},
   "source": [
    "# -------------------------------------------------"
   ]
  },
  {
   "cell_type": "markdown",
   "id": "c90f1c3c",
   "metadata": {},
   "source": [
    "#### Q6. Use Bayes' Theorem to calculate the probability of an event occurring given prior knowledge of the event's probability and new evidence. Provide a sample problem and solution.\n"
   ]
  },
  {
   "cell_type": "markdown",
   "id": "a15aa10d",
   "metadata": {},
   "source": [
    "* Suppose a company manufactures a certain type of product that has a defect rate of 2%. The company uses a quality control process that is 95% effective in catching defective products, and 99% effective in passing non-defective products. If a product passes the quality control process, what is the probability that it is actually defect-free?\n",
    "\n",
    "\n",
    "* To solve this problem using Bayes' theorem, we first define the following events:\n",
    "    * D: the product is defective\n",
    "    * -D: the product is not defective\n",
    "    * P: the product passes the quality control process\n",
    "\n",
    "\n",
    "* Solution\n",
    "\n",
    "    P(-D|P) = P(P|-D) * P(-D) / P(P)\n",
    "    P(P) = P(P|D) * P(D) + P(P|-D) * P(-D)\n",
    "\n",
    "    P(D) = 0.02\n",
    "    P(-D) = 0.98\n",
    "    P(P|D) = 0.05\n",
    "    P(P|-D) = 0.99\n",
    "\n",
    "    P(P) = P(P|D) * P(D) + P(P|-D) * P(-D)\n",
    "         = 0.05 * 0.02 + 0.99 * 0.98\n",
    "         = 0.9756\n",
    "\n",
    "    P(-D|P) = P(P|-D) * P(-D) / P(P)\n",
    "         = 0.99 * 0.98 / 0.9756\n",
    "         = 0.9990\n",
    "* Therefore, the probability that a product is not defective given that it passes the quality control process is approximately 0.9990, or 99.90%. This result indicates that if a product passes the quality control process, it is highly likely to be defect-free. However, it is important to note that no quality control process is perfect, and some defective products may still slip through."
   ]
  },
  {
   "cell_type": "code",
   "execution_count": 7,
   "id": "b7f35e64",
   "metadata": {},
   "outputs": [
    {
     "name": "stdout",
     "output_type": "stream",
     "text": [
      "The probability of the product being defect-free given it passed the quality control process is : \n",
      "0.9989703459637562\n"
     ]
    }
   ],
   "source": [
    "# Define the prior probabilities and conditional probabilities\n",
    "p_defect = 0.02\n",
    "p_pass_given_defect = 0.05\n",
    "p_not_defect = 0.98\n",
    "p_pass_given_not_defect = 0.99\n",
    "\n",
    "# Calculate the total probability of passing the quality control process\n",
    "p_pass = p_pass_given_defect * p_defect + p_pass_given_not_defect * p_not_defect\n",
    "\n",
    "# Calculate the probability of the product being defect-free given it passed the quality control process\n",
    "p_not_defect_given_pass = (p_pass_given_not_defect * p_not_defect) / p_pass\n",
    "\n",
    "# Print the result\n",
    "print(f\"\"\"The probability of the product being defect-free given it passed the quality control process is : \n",
    "{p_not_defect_given_pass}\"\"\")"
   ]
  },
  {
   "cell_type": "markdown",
   "id": "acd1413d",
   "metadata": {},
   "source": [
    "# -------------------------------------------------"
   ]
  },
  {
   "cell_type": "markdown",
   "id": "dce2915c",
   "metadata": {},
   "source": [
    "#### Q7. Calculate the 95% confidence interval for a sample of data with a mean of 50 and a standard deviation of 5. Interpret the results.\n"
   ]
  },
  {
   "cell_type": "code",
   "execution_count": 8,
   "id": "8019cd9e",
   "metadata": {},
   "outputs": [
    {
     "name": "stdout",
     "output_type": "stream",
     "text": [
      "t statistic for significance level 0.05 , sample size of 50 is : 2.01\n",
      "The 95% confidence interval is (48.58, 51.42)\n"
     ]
    }
   ],
   "source": [
    "## Sample Size is not provided in above Question , I am assuming sample size of 50\n",
    "import math\n",
    "import scipy.stats as stats\n",
    "\n",
    "# Define the sample mean, standard deviation, and sample size\n",
    "sample_mean = 50\n",
    "sample_std_dev = 5\n",
    "sample_size = 50\n",
    "\n",
    "# Signficance Level\n",
    "alpha = 0.05\n",
    "\n",
    "# Calculate the critical value for a 95% confidence interval\n",
    "t_crit = stats.t.ppf(1-alpha/2, df=sample_size-1)\n",
    "print(f't statistic for significance level {alpha} , sample size of {sample_size} is : {t_crit:.2f}')\n",
    "\n",
    "# Calculate the standard error\n",
    "std_error = sample_std_dev / math.sqrt(sample_size)\n",
    "\n",
    "# Calculate the lower and upper bounds of the confidence interval\n",
    "lower_bound = sample_mean - t_crit * std_error\n",
    "upper_bound = sample_mean + t_crit * std_error\n",
    "\n",
    "# Print the results\n",
    "print(f\"The 95% confidence interval is ({lower_bound:.2f}, {upper_bound:.2f})\")"
   ]
  },
  {
   "cell_type": "markdown",
   "id": "7424245e",
   "metadata": {},
   "source": [
    "# -------------------------------------------------"
   ]
  },
  {
   "cell_type": "markdown",
   "id": "3e917584",
   "metadata": {},
   "source": [
    "#### Q8. What is the margin of error in a confidence interval? How does sample size affect the margin of error? Provide an example of a scenario where a larger sample size would result in a smaller margin of error.\n"
   ]
  },
  {
   "cell_type": "markdown",
   "id": "728ca6b6",
   "metadata": {},
   "source": [
    "* The margin of error in a confidence interval is the range of values around the sample statistic (such as the sample mean) within which we expect the true population parameter (such as the population mean) to lie with a certain level of confidence. The margin of error is affected by the sample size, level of confidence, and standard deviation of the population.\n",
    "\n",
    "\n",
    "* As the sample size increases, the margin of error decreases because larger samples provide more information about the population, and hence the sample statistics are more likely to be representative of the population. The decrease in margin of error with an increase in sample size follows the square root law, which states that the margin of error decreases by the square root of the sample size.\n",
    "\n",
    "\n",
    "* For example, suppose we want to estimate the average height of all students in a university using a random sample of students. We take a sample of 50 students and calculate their average height to be 170 cm with a standard deviation of 5 cm. We want to calculate a 95% confidence interval for the true population mean height.\n",
    "    * Using the formula for the margin of error for a confidence interval, we get:\n",
    "    * Margin of error = z * (standard deviation / sqrt(sample size))\n",
    "    * For a 95% confidence interval, the critical z-value is 1.96. So, plugging in the values, we get:\n",
    "    * Margin of error = 1.96 * (5 / sqrt(50)) = 1.38 cm\n",
    "    * This means that we are 95% confident that the true population mean height is within 1.38 cm of our sample mean of 170 cm. If we had taken a larger sample size of 200 students, the margin of error would have been:\n",
    "    * Margin of error = 1.96 * (5 / sqrt(200)) = 0.98 cm\n",
    "    \n",
    "    \n",
    "* So, a larger sample size would result in a smaller margin of error, making our estimate of the true population mean height more precise."
   ]
  },
  {
   "cell_type": "markdown",
   "id": "f95edfe2",
   "metadata": {},
   "source": [
    "# -------------------------------------------------"
   ]
  },
  {
   "cell_type": "markdown",
   "id": "d2fcb58b",
   "metadata": {},
   "source": [
    "#### Q9. Calculate the z-score for a data point with a value of 75, a population mean of 70, and a population standard deviation of 5. Interpret the results.\n"
   ]
  },
  {
   "cell_type": "code",
   "execution_count": 9,
   "id": "3c636950",
   "metadata": {},
   "outputs": [
    {
     "name": "stdout",
     "output_type": "stream",
     "text": [
      "The z-score is: 1.0\n"
     ]
    }
   ],
   "source": [
    "# Define the values\n",
    "x = 75  # Data point value\n",
    "mu = 70  # Population mean\n",
    "sigma = 5  # Population standard deviation\n",
    "\n",
    "# Calculate the z-score\n",
    "z = (x - mu) / sigma\n",
    "\n",
    "print(f\"The z-score is: {z}\")"
   ]
  },
  {
   "cell_type": "code",
   "execution_count": 13,
   "id": "9944c3be",
   "metadata": {},
   "outputs": [
    {
     "name": "stdout",
     "output_type": "stream",
     "text": [
      "The percentage of values below a z-score of 1 is: 84.13%\n",
      "A z-score of 1 corresponds to approximately 84.13% of values being below this value in a standard normal distribution.\n"
     ]
    }
   ],
   "source": [
    "## This means that the data point is 1 standard deviation above the population mean. \n",
    "## A positive z-score indicates that the data point is above the mean, \n",
    "## while a negative z-score indicates that it is below the mean. \n",
    "## The magnitude of the z-score tells us how far away the data point is from the mean in terms of standard deviations.\n",
    "from scipy.stats import norm\n",
    "\n",
    "# Calculate the percentage of values below a z-score of 1\n",
    "percent_below = norm.cdf(z) * 100\n",
    "\n",
    "print(f\"The percentage of values below a z-score of 1 is: {percent_below:.2f}%\")\n",
    "print(f\"A z-score of 1 corresponds to approximately {percent_below:.2f}% of values being below this value in a standard normal distribution.\")"
   ]
  },
  {
   "cell_type": "markdown",
   "id": "f873f98c",
   "metadata": {},
   "source": [
    "# -------------------------------------------------"
   ]
  },
  {
   "cell_type": "markdown",
   "id": "905e48a5",
   "metadata": {},
   "source": [
    "#### Q10. In a study of the effectiveness of a new weight loss drug, a sample of 50 participants lost an average of 6 pounds with a standard deviation of 2.5 pounds. Conduct a hypothesis test to determine if the drug is significantly effective at a 95% confidence level using a t-test.\n"
   ]
  },
  {
   "cell_type": "code",
   "execution_count": 15,
   "id": "d2ce548a",
   "metadata": {},
   "outputs": [
    {
     "name": "stdout",
     "output_type": "stream",
     "text": [
      "t-statistic: 16.9706\n",
      "p-value: 0.0\n",
      "Reject the null hypothesis. the drug is effective.\n"
     ]
    }
   ],
   "source": [
    "import numpy as np\n",
    "from scipy.stats import t\n",
    "\n",
    "# Null hypothesis: the drug is not significantly effective\n",
    "# Alternative hypothesis: the drug is significantly effective\n",
    "alpha = 0.05  # significance level\n",
    "null_hypothesis = \"the drug is not effective\"\n",
    "alternative_hypothesis = \"the drug is effective\"\n",
    "\n",
    "mu = 0\n",
    "sample_mean = 6\n",
    "sample_std = 2.5\n",
    "n = 50\n",
    "df = n - 1  # degrees of freedom\n",
    "\n",
    "# Calculate the t-score and p-value\n",
    "t_score = (sample_mean - mu) / (sample_std / np.sqrt(n))\n",
    "p_value = 2 * (1 - t.cdf(abs(t_score), df))\n",
    "\n",
    "# Compare p-value with alpha and make a conclusion\n",
    "print(f\"t-statistic: {t_score:.4f}\")\n",
    "print(f\"p-value: {p_value}\")\n",
    "if p_value < alpha:\n",
    "    print(f\"Reject the null hypothesis. {alternative_hypothesis}.\")\n",
    "else:\n",
    "    print(f\"Fail to reject the null hypothesis. {null_hypothesis}.\")"
   ]
  },
  {
   "cell_type": "markdown",
   "id": "9c5babb2",
   "metadata": {},
   "source": [
    "# -------------------------------------------------"
   ]
  },
  {
   "cell_type": "markdown",
   "id": "5ff79093",
   "metadata": {},
   "source": [
    "#### Q11. In a survey of 500 people, 65% reported being satisfied with their current job. Calculate the 95% confidence interval for the true proportion of people who are satisfied with their job.\n"
   ]
  },
  {
   "cell_type": "code",
   "execution_count": 21,
   "id": "44cb18bf",
   "metadata": {},
   "outputs": [
    {
     "name": "stdout",
     "output_type": "stream",
     "text": [
      "The 95% confidence interval for the proportion of people who are satisfied with their job is:\n",
      "(60.82%,60.82%)\n"
     ]
    }
   ],
   "source": [
    "import math\n",
    "\n",
    "p = 0.65  # sample proportion\n",
    "n = 500  # sample size\n",
    "z_alpha = 1.96  # z-score for 95% confidence level\n",
    "\n",
    "# Calculate the standard error\n",
    "se = math.sqrt((p * (1 - p)) / n)\n",
    "\n",
    "# Calculate the margin of error\n",
    "me = z_alpha * se\n",
    "\n",
    "# Calculate the confidence interval\n",
    "lower_bound = p - me\n",
    "upper_bound = p + me\n",
    "\n",
    "# Print the results\n",
    "print(f\"\"\"The 95% confidence interval for the proportion of people who are satisfied with their job is:\n",
    "({lower_bound*100:.2f}%,{lower_bound*100:.2f}%)\"\"\")"
   ]
  },
  {
   "cell_type": "markdown",
   "id": "bc68da88",
   "metadata": {},
   "source": [
    "# -------------------------------------------------"
   ]
  },
  {
   "cell_type": "markdown",
   "id": "afcda842",
   "metadata": {},
   "source": [
    "#### Q12. A researcher is testing the effectiveness of two different teaching methods on student performance. Sample A has a mean score of 85 with a standard deviation of 6, while sample B has a mean score of 82 with a standard deviation of 5. Conduct a hypothesis test to determine if the two teaching methods have a significant difference in student performance using a t-test with a significance level of 0.01.\n"
   ]
  },
  {
   "cell_type": "code",
   "execution_count": 26,
   "id": "1eed3248",
   "metadata": {},
   "outputs": [
    {
     "name": "stdout",
     "output_type": "stream",
     "text": [
      "t-statistic: 2.104\n",
      "Degrees of freedom: 58\n",
      "Critical t-value: 2.663\n",
      "p-value: 0.040\n",
      "Fail to reject null hypothesis.\n",
      "mu1 = mu2 (the means are equal)\n"
     ]
    }
   ],
   "source": [
    "import numpy as np\n",
    "from scipy.stats import t\n",
    "\n",
    "# Sample A\n",
    "x1 = 85\n",
    "s1 = 6\n",
    "n1 = 30\n",
    "\n",
    "# Sample B\n",
    "x2 = 82\n",
    "s2 = 5\n",
    "n2 = 30\n",
    "\n",
    "# Set up null and alternative hypotheses\n",
    "# H0: mu1 = mu2 (the means are equal)\n",
    "# Ha: mu1 != mu2 (the means are not equal)\n",
    "alpha = 0.01\n",
    "null_hypothesis = \"mu1 = mu2 (the means are equal)\"\n",
    "alternative_hypothesis = \"mu1 != mu2 (the means are not equal)\"\n",
    "\n",
    "# Calculate pooled standard deviation\n",
    "sp = np.sqrt(((n1 - 1) * s1 ** 2 + (n2 - 1) * s2 ** 2) / (n1 + n2 - 2))\n",
    "\n",
    "# Calculate t-statistic\n",
    "t_stat = (x1 - x2) / (sp * np.sqrt(1 / n1 + 1 / n2))\n",
    "\n",
    "# Calculate degrees of freedom\n",
    "df = n1 + n2 - 2\n",
    "\n",
    "# Calculate critical t-value\n",
    "t_crit = t.ppf(1-alpha / 2, df)\n",
    "\n",
    "# Calculate p-value\n",
    "p_value = 2 * (1 - t.cdf(abs(t_stat), df))\n",
    "\n",
    "# Print results\n",
    "print(f\"t-statistic: {t_stat:.3f}\")\n",
    "print(f\"Degrees of freedom: {df}\")\n",
    "print(f\"Critical t-value: {t_crit:.3f}\")\n",
    "print(f\"p-value: {p_value:.3f}\")\n",
    "\n",
    "if abs(t_stat) > t_crit:\n",
    "    print(\"Reject null hypothesis.\")\n",
    "    print(alternative_hypothesis)\n",
    "else:\n",
    "    print(\"Fail to reject null hypothesis.\")\n",
    "    print(null_hypothesis)"
   ]
  },
  {
   "cell_type": "markdown",
   "id": "c5799818",
   "metadata": {},
   "source": [
    "# -------------------------------------------------"
   ]
  },
  {
   "cell_type": "markdown",
   "id": "a0838dfd",
   "metadata": {},
   "source": [
    "#### Q13. A population has a mean of 60 and a standard deviation of 8. A sample of 50 observations has a mean of 65. Calculate the 90% confidence interval for the true population mean.\n"
   ]
  },
  {
   "cell_type": "code",
   "execution_count": 28,
   "id": "e1d11872",
   "metadata": {},
   "outputs": [
    {
     "name": "stdout",
     "output_type": "stream",
     "text": [
      "t-statistic for 50 samples with 90% confidence is : 1.6766\n",
      "The 90% confidence interval for the true population mean is:\n",
      "(63.103, 66.897)\n"
     ]
    }
   ],
   "source": [
    "import math\n",
    "from scipy.stats import t\n",
    "\n",
    "pop_mean = 60\n",
    "pop_std = 8\n",
    "n = 50\n",
    "sample_mean = 65\n",
    "confidence_level = 0.90\n",
    "\n",
    "# Calculate the t-score\n",
    "t_score = (sample_mean - pop_mean) / (pop_std / math.sqrt(n))\n",
    "\n",
    "# Find the critical t-value\n",
    "df = n - 1\n",
    "t_crit = t.ppf((1+confidence_level)/2, df)\n",
    "print(f't-statistic for {n} samples with {confidence_level*100:.0f}% confidence is : {t_crit:.4f}')\n",
    "\n",
    "# Calculate the margin of error\n",
    "margin_of_error = t_crit * (pop_std / math.sqrt(n))\n",
    "\n",
    "# Calculate the confidence interval\n",
    "lower_bound = sample_mean - margin_of_error\n",
    "upper_bound = sample_mean + margin_of_error\n",
    "\n",
    "# Print the results\n",
    "print(f\"\"\"The {confidence_level*100:.0f}% confidence interval for the true population mean is:\n",
    "({lower_bound:.3f}, {upper_bound:.3f})\"\"\")"
   ]
  },
  {
   "cell_type": "markdown",
   "id": "60575fd8",
   "metadata": {},
   "source": [
    "# -------------------------------------------------"
   ]
  },
  {
   "cell_type": "markdown",
   "id": "0b5998d6",
   "metadata": {},
   "source": [
    "#### Q14. In a study of the effects of caffeine on reaction time, a sample of 30 participants had an average reaction time of 0.25 seconds with a standard deviation of 0.05 seconds. Conduct a hypothesis test to determine if the caffeine has a significant effect on reaction time at a 90% confidence level using a t-test."
   ]
  },
  {
   "cell_type": "code",
   "execution_count": 29,
   "id": "b091e928",
   "metadata": {},
   "outputs": [
    {
     "name": "stdout",
     "output_type": "stream",
     "text": [
      "t-statistic: -5.477\n",
      "t-critical value: 1.699\n",
      "90% Confidence Interval: (0.234, 0.266)\n",
      "Reject the null hypothesis\n",
      "Caffeine has a significant effect on reaction time\n"
     ]
    }
   ],
   "source": [
    "## Assumed the population mean as 300ms or 0.3 seconds\n",
    "import math\n",
    "import scipy.stats as stats\n",
    "\n",
    "# Null Hypothesis: Caffeine has no significant effect on reaction time\n",
    "# Alternative Hypothesis: Caffeine has a significant effect on reaction time\n",
    "null_hypothesis = \"Caffeine has no significant effect on reaction time\"\n",
    "alternative_hypothesis = \"Caffeine has a significant effect on reaction time\"\n",
    "\n",
    "sample_mean = 0.25  # sample mean\n",
    "sample_std_dev = 0.05  # sample standard deviation\n",
    "n = 30  # sample size\n",
    "pop_mean = 0.3  # population mean under null hypothesis\n",
    "alpha = 0.1  # significance level\n",
    "\n",
    "# Calculate the t-statistic\n",
    "t_stat = (sample_mean - pop_mean) / (sample_std_dev / math.sqrt(n))\n",
    "\n",
    "# Calculate the critical t-value\n",
    "t_crit = stats.t.ppf(1-alpha/2, n-1)\n",
    "\n",
    "# Calculate the confidence interval\n",
    "margin_of_error = t_crit * (sample_std_dev / math.sqrt(n))\n",
    "lower_ci = sample_mean - margin_of_error\n",
    "upper_ci = sample_mean + margin_of_error\n",
    "\n",
    "# Print the results\n",
    "print(f\"t-statistic: {t_stat:.3f}\")\n",
    "print(f\"t-critical value: {t_crit:.3f}\")\n",
    "print(f\"90% Confidence Interval: ({lower_ci:.3f}, {upper_ci:.3f})\")\n",
    "\n",
    "# Determine if the null hypothesis should be rejected or not\n",
    "if abs(t_stat) > t_crit:\n",
    "    print(\"Reject the null hypothesis\")\n",
    "    print(alternative_hypothesis)\n",
    "else:\n",
    "    print(\"Fail to reject the null hypothesis\")\n",
    "    print(null_hypothesis)"
   ]
  },
  {
   "cell_type": "markdown",
   "id": "6e59e74b",
   "metadata": {},
   "source": [
    "# -------------------------------------------------"
   ]
  }
 ],
 "metadata": {
  "kernelspec": {
   "display_name": "Python 3 (ipykernel)",
   "language": "python",
   "name": "python3"
  },
  "language_info": {
   "codemirror_mode": {
    "name": "ipython",
    "version": 3
   },
   "file_extension": ".py",
   "mimetype": "text/x-python",
   "name": "python",
   "nbconvert_exporter": "python",
   "pygments_lexer": "ipython3",
   "version": "3.9.6"
  }
 },
 "nbformat": 4,
 "nbformat_minor": 5
}
