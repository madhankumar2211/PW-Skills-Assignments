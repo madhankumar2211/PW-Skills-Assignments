{
 "cells": [
  {
   "cell_type": "markdown",
   "id": "d4317d16",
   "metadata": {},
   "source": [
    "### Q1. Calculate the 95% confidence interval for a sample of data with a mean of 50 and a standard deviation of 5 using Python. Interpret the results.\n"
   ]
  },
  {
   "cell_type": "code",
   "execution_count": 1,
   "id": "e0ae4b27",
   "metadata": {},
   "outputs": [
    {
     "name": "stdout",
     "output_type": "stream",
     "text": [
      "Critical t statistic for 95.00% for 50 samples : 2.0096\n",
      "Margin of error is : 1.42\n",
      "Point Estimate of mean is : 50\n",
      "Mean Estimate with 95% Confidence Interval: (48.58, 51.42)\n"
     ]
    }
   ],
   "source": [
    "import scipy.stats as stats\n",
    "\n",
    "sample_mean = 50\n",
    "sample_std_dev = 5\n",
    "sample_size = 50 # assuming a sample size of 50\n",
    "\n",
    "# calculate the standard error of the mean\n",
    "std_error_mean = sample_std_dev / (sample_size ** 0.5)\n",
    "\n",
    "# Confidence Level\n",
    "confidence_level = 0.95\n",
    "\n",
    "# significance level\n",
    "alpha = 1 -  confidence_level\n",
    "\n",
    "# calculate the t-value for a 95% confidence interval with 49 degrees of freedom\n",
    "t_value = stats.t.ppf(1-alpha/2, df=sample_size-1)\n",
    "\n",
    "# Print critical t-value \n",
    "print(f'Critical t statistic for {confidence_level*100:.2f}% for {sample_size} samples : {t_value:.4f}')\n",
    "\n",
    "# calculate the margin of error\n",
    "margin_of_error = t_value * std_error_mean\n",
    "print(f'Margin of error is : {margin_of_error:.2f}')\n",
    "print(f'Point Estimate of mean is : {sample_mean}')\n",
    "\n",
    "# calculate the lower and upper bounds of the confidence interval\n",
    "lower_bound = sample_mean - margin_of_error\n",
    "upper_bound = sample_mean + margin_of_error\n",
    "\n",
    "print(f\"Mean Estimate with 95% Confidence Interval: ({lower_bound:.2f}, {upper_bound:.2f})\")"
   ]
  },
  {
   "cell_type": "markdown",
   "id": "e57e8d47",
   "metadata": {},
   "source": [
    "# -------------------------------------------"
   ]
  },
  {
   "cell_type": "markdown",
   "id": "6088aef0",
   "metadata": {},
   "source": [
    "### Q2. Conduct a chi-square goodness of fit test to determine if the distribution of colors of M&Ms in a bag matches the expected distribution of 20% blue, 20% orange, 20% green, 10% yellow, 10% red, and 20% brown. Use Python to perform the test with a significance level of 0.05.\n"
   ]
  },
  {
   "cell_type": "code",
   "execution_count": 2,
   "id": "b8438573",
   "metadata": {},
   "outputs": [
    {
     "name": "stdout",
     "output_type": "stream",
     "text": [
      "Test Chi2 statistic: 5.0\n",
      "p-value: 0.4158801869955079\n",
      "Critical Chi Square value for 0.05 significance level for 5 degrees of freedom is : 11.0705\n",
      "Fail to reject null hypothesis\n",
      "Conclusion : The distribution of colors of M&Ms in the bag matches the expected distribution.\n"
     ]
    }
   ],
   "source": [
    "import numpy as np\n",
    "from scipy.stats import chisquare\n",
    "from scipy.stats import chi2\n",
    "\n",
    "# observed frequencies\n",
    "obs_freq = np.array([10, 20, 15, 5, 5, 15])\n",
    "\n",
    "# expected frequencies\n",
    "exp_freq = np.array([0.2, 0.2, 0.2, 0.1, 0.1, 0.2]) * np.sum(obs_freq)\n",
    "\n",
    "# Null and alternate hypothesis\n",
    "null_hypothesis = \"The distribution of colors of M&Ms in the bag matches the expected distribution.\"\n",
    "alternate_hypothesis = \"The distribution of colors of M&Ms in the bag does not match the expected distribution.\"\n",
    "\n",
    "# perform chi-square goodness of fit test\n",
    "test_statistic, p_value = chisquare(obs_freq, exp_freq)\n",
    "\n",
    "# print results\n",
    "print(\"Test Chi2 statistic:\", test_statistic)\n",
    "print(\"p-value:\", p_value)\n",
    "\n",
    "# Critical chi2 value\n",
    "df = len(obs_freq)-1\n",
    "alpha = 0.05\n",
    "chi2_crit = chi2.ppf(1-alpha,df)\n",
    "print(f\"Critical Chi Square value for {alpha} significance level for {df} degrees of freedom is : {chi2_crit:.4f}\")\n",
    "\n",
    "# compare p-value with significance level\n",
    "alpha = 0.05\n",
    "if p_value < alpha:\n",
    "    print(\"Reject null hypothesis\")\n",
    "    print(f\"Conculsion : {alternate_hypothesis}\")\n",
    "else:\n",
    "    print(\"Fail to reject null hypothesis\")\n",
    "    print(f\"Conclusion : {null_hypothesis}\")"
   ]
  },
  {
   "cell_type": "markdown",
   "id": "a602517c",
   "metadata": {},
   "source": [
    "# -------------------------------------------"
   ]
  },
  {
   "cell_type": "markdown",
   "id": "213ed05d",
   "metadata": {},
   "source": [
    "### Q3. Use Python to calculate the chi-square statistic and p-value for a contingency table with the following\n",
    "\n",
    "##### Data:\n",
    "\n",
    "|--|Group A|Group B|\n",
    "|--|--|--|\n",
    "|Outcome 1| 20| 15|\n",
    "|Outcome 2| 10| 25|\n",
    "|Outcome 3| 15| 20|\n",
    "\n",
    "##### Interpret the results of the test.\n"
   ]
  },
  {
   "cell_type": "code",
   "execution_count": 4,
   "id": "c2097930",
   "metadata": {},
   "outputs": [
    {
     "name": "stdout",
     "output_type": "stream",
     "text": [
      "Expected Values Dataframe Below :\n",
      "\n",
      "           Group A  Group B\n",
      "Outcome 1     15.0     20.0\n",
      "Outcome 2     15.0     20.0\n",
      "Outcome 3     15.0     20.0\n",
      "\n",
      "Chi-square statistic: 5.8333\n",
      "p-value: 0.0541\n",
      "Failed to reject the Null Hypothesis\n",
      "Conclusion : The outcomes are independent of the groups.\n"
     ]
    }
   ],
   "source": [
    "from scipy.stats import chi2_contingency\n",
    "import pandas as pd\n",
    "\n",
    "# Defining the observed contingency table in pandas\n",
    "obs_df = pd.DataFrame({'Group A':[20,10,15],'Group B':[15,25,20]})\n",
    "obs_df.index = ['Outcome 1','Outcome 2','Outcome 3']\n",
    "\n",
    "# Null and Alternate Hypothesis\n",
    "null_hypothesis = \"The outcomes are independent of the groups.\"\n",
    "alternate_hypothesis = \"The outcomes are Dependent on the groups.\"\n",
    "\n",
    "# Calculate the chi-square statistic and p-value\n",
    "stat, p, dof, expected = chi2_contingency(obs_df)\n",
    "\n",
    "# Print Expected DataFrame\n",
    "expected_df = pd.DataFrame(expected)\n",
    "expected_df.columns = ['Group A','Group B']\n",
    "expected_df.index = ['Outcome 1','Outcome 2','Outcome 3']\n",
    "print(\"Expected Values Dataframe Below :\\n\")\n",
    "print(expected_df)\n",
    "\n",
    "# Print the results\n",
    "print(\"\\nChi-square statistic:\", round(stat,4))\n",
    "print(\"p-value:\", round(p,4))\n",
    "\n",
    "# Significance \n",
    "alpha = 0.05 \n",
    "\n",
    "if p < alpha :\n",
    "    print(\"Reject the Null Hypothesis\")\n",
    "    print(f\"Conclusion : {alternate_hypothesis}\")\n",
    "else:\n",
    "    print(\"Failed to reject the Null Hypothesis\")\n",
    "    print(f\"Conclusion : {null_hypothesis}\")"
   ]
  },
  {
   "cell_type": "markdown",
   "id": "9aa86221",
   "metadata": {},
   "source": [
    "# -------------------------------------------"
   ]
  },
  {
   "cell_type": "markdown",
   "id": "9d501db4",
   "metadata": {},
   "source": [
    "### Q4. A study of the prevalence of smoking in a population of 500 individuals found that 60 individuals smoked. Use Python to calculate the 95% confidence interval for the true proportion of individuals in the population who smoke.\n"
   ]
  },
  {
   "cell_type": "code",
   "execution_count": 5,
   "id": "78aa3db2",
   "metadata": {},
   "outputs": [
    {
     "name": "stdout",
     "output_type": "stream",
     "text": [
      "Critical Z statistic for 95.0% is 1.9600\n",
      "95% confidence interval : (9.15%, 14.85%)\n"
     ]
    }
   ],
   "source": [
    "import scipy.stats as stats\n",
    "import math\n",
    "\n",
    "# Sample size\n",
    "n = 500\n",
    "\n",
    "# Number of individuals who smoke in the sample\n",
    "x = 60\n",
    "\n",
    "# Proportion of individuals who smoke in the sample\n",
    "p = x/n\n",
    "\n",
    "# Confidence Level\n",
    "confidence_level = 0.95\n",
    "alpha = 1 - confidence_level\n",
    "\n",
    "# Z-value for 95% confidence interval\n",
    "z = stats.norm.ppf(1-alpha/2)\n",
    "\n",
    "# Print critical z value \n",
    "print(f'Critical Z statistic for {confidence_level*100}% is {z:.4f}')\n",
    "\n",
    "# Standard error of proportion\n",
    "se = math.sqrt((p*(1-p))/n)\n",
    "\n",
    "# Calculate confidence interval\n",
    "lower_ci = p - z*se\n",
    "upper_ci = p + z*se\n",
    "\n",
    "print(\"95% confidence interval : ({:.2f}%, {:.2f}%)\".format(lower_ci*100, upper_ci*100))"
   ]
  },
  {
   "cell_type": "markdown",
   "id": "6c52416e",
   "metadata": {},
   "source": [
    "# -------------------------------------------"
   ]
  },
  {
   "cell_type": "markdown",
   "id": "be12bc60",
   "metadata": {},
   "source": [
    "### Q5. Calculate the 90% confidence interval for a sample of data with a mean of 75 and a standard deviation of 12 using Python. Interpret the results.\n"
   ]
  },
  {
   "cell_type": "code",
   "execution_count": 7,
   "id": "ea86ee5c",
   "metadata": {},
   "outputs": [
    {
     "name": "stdout",
     "output_type": "stream",
     "text": [
      "t_critical for 100 samples with 90.0% confidence is : 1.6604\n",
      "90% confidence interval: (73.008, 76.992)\n"
     ]
    }
   ],
   "source": [
    "import scipy.stats as stats\n",
    "import math\n",
    "\n",
    "# Given data\n",
    "x_bar = 75\n",
    "sigma = 12\n",
    "n = 100 # Assumed sample size 100\n",
    "\n",
    "# Degrees of freedom\n",
    "df = n - 1\n",
    "\n",
    "# Confidence level \n",
    "confidence_level = 0.90\n",
    "alpha = 1 -  confidence_level\n",
    "\n",
    "# Critical value for 90% confidence interval\n",
    "t_critical = stats.t.ppf(1 - alpha/2, df)\n",
    "print(f't_critical for {n} samples with {confidence_level*100}% confidence is : {t_critical:.4f}')\n",
    "\n",
    "# Calculate standard error of the mean\n",
    "sem = sigma / math.sqrt(n)\n",
    "\n",
    "# Calculate confidence interval\n",
    "lower_ci = x_bar - t_critical * sem\n",
    "upper_ci = x_bar + t_critical * sem\n",
    "\n",
    "print(\"90% confidence interval: ({:.3f}, {:.3f})\".format(lower_ci, upper_ci))"
   ]
  },
  {
   "cell_type": "markdown",
   "id": "d7c74c93",
   "metadata": {},
   "source": [
    "# -------------------------------------------"
   ]
  },
  {
   "cell_type": "markdown",
   "id": "c916aa8b",
   "metadata": {},
   "source": [
    "### Q6. Use Python to plot the chi-square distribution with 10 degrees of freedom. Label the axes and shade the area corresponding to a chi-square statistic of 15.\n"
   ]
  },
  {
   "cell_type": "code",
   "execution_count": 9,
   "id": "748dc73e",
   "metadata": {},
   "outputs": [
    {
     "data": {
      "image/png": "[encoded data removed]",
      "text/plain": [
       "<Figure size 576x360 with 1 Axes>"
      ]
     },
     "metadata": {
      "needs_background": "light"
     },
     "output_type": "display_data"
    }
   ],
   "source": [
    "import numpy as np\n",
    "import scipy.stats as stats\n",
    "import matplotlib.pyplot as plt\n",
    "\n",
    "# Set degrees of freedom\n",
    "df = 10\n",
    "\n",
    "# Define range of x-values for plotting\n",
    "x = np.linspace(stats.chi2.ppf(0.0001, df), stats.chi2.ppf(0.999, df), 100)\n",
    "\n",
    "# Create plot\n",
    "fig, ax = plt.subplots(figsize=(8, 5))\n",
    "\n",
    "# Plot chi-square distribution\n",
    "ax.plot(x, stats.chi2.pdf(x, df), 'k-', lw=2, label='Chi-square PDF')\n",
    "\n",
    "# Calculating area under curve \n",
    "area = stats.chi2.cdf(15,df)\n",
    "\n",
    "# Shade area under the curve\n",
    "x_fill = np.linspace(stats.chi2.ppf(0.0001, df), 15, 100)\n",
    "ax.fill_between(x_fill, stats.chi2.pdf(x_fill, df), color='blue', alpha=0.5,label = f'Area under shaded region = {area:.4f}')\n",
    "\n",
    "# Add legend and labels\n",
    "ax.legend(loc='best', frameon=False)\n",
    "ax.set_xlabel('X')\n",
    "ax.set_ylabel('PDF(X)')\n",
    "ax.set_title('Chi-square Distribution with 10 Degrees of Freedom')\n",
    "\n",
    "plt.show()"
   ]
  },
  {
   "cell_type": "markdown",
   "id": "39d9460c",
   "metadata": {},
   "source": [
    "# -------------------------------------------"
   ]
  },
  {
   "cell_type": "markdown",
   "id": "d6b5cf8f",
   "metadata": {},
   "source": [
    "### Q7. A random sample of 1000 people was asked if they preferred Coke or Pepsi. Of the sample, 520 preferred Coke. Calculate a 99% confidence interval for the true proportion of people in the population who prefer Coke.\n"
   ]
  },
  {
   "cell_type": "code",
   "execution_count": 15,
   "id": "e2316789",
   "metadata": {},
   "outputs": [
    {
     "name": "stdout",
     "output_type": "stream",
     "text": [
      "99% Confidence Interval: (47.93%, 56.07%)\n"
     ]
    }
   ],
   "source": [
    "import math\n",
    "\n",
    "# sample size\n",
    "n = 1000\n",
    "\n",
    "# number of individuals who prefer Coke\n",
    "x = 520\n",
    "\n",
    "# sample proportion\n",
    "p = x/n\n",
    "\n",
    "# critical value for 99% confidence level\n",
    "z = 2.576\n",
    "\n",
    "# calculate standard error\n",
    "se = math.sqrt(p*(1-p)/n)\n",
    "\n",
    "# calculate confidence interval\n",
    "lower = p - z*se\n",
    "upper = p + z*se\n",
    "\n",
    "print(\"99% Confidence Interval: ({:.2f}%, {:.2f}%)\".format(lower*100, upper*100))"
   ]
  },
  {
   "cell_type": "markdown",
   "id": "199d960f",
   "metadata": {},
   "source": [
    "# -------------------------------------------"
   ]
  },
  {
   "cell_type": "markdown",
   "id": "ca6fd50b",
   "metadata": {},
   "source": [
    "### Q8. A researcher hypothesizes that a coin is biased towards tails. They flip the coin 100 times and observe 45 tails. Conduct a chi-square goodness of fit test to determine if the observed frequencies match the expected frequencies of a fair coin. Use a significance level of 0.05.\n"
   ]
  },
  {
   "cell_type": "code",
   "execution_count": 16,
   "id": "4f318ce4",
   "metadata": {},
   "outputs": [
    {
     "name": "stdout",
     "output_type": "stream",
     "text": [
      "Fail to reject the null hypothesis. The coin is fair.\n"
     ]
    }
   ],
   "source": [
    "import scipy.stats as stats\n",
    "\n",
    "# Define null hypothesis, alternative hypothesis, and significance level\n",
    "null_hypothesis = \"The coin is fair.\"\n",
    "alternative_hypothesis = \"The coin is biased towards tails.\"\n",
    "significance_level = 0.05\n",
    "\n",
    "# Define observed values and expected values\n",
    "observed_values = [45, 55]  # 45 tails, 55 heads\n",
    "expected_values = [50, 50]  # assuming a fair coin\n",
    "\n",
    "# Calculate the chi-square statistic and p-value\n",
    "chi_square_statistic, p_value = stats.chisquare(observed_values, expected_values)\n",
    "\n",
    "# Compare p-value to significance level to determine whether to reject null hypothesis\n",
    "if p_value < significance_level:\n",
    "    print(f\"Reject the null hypothesis. {alternative_hypothesis}\")\n",
    "else:\n",
    "    print(f\"Fail to reject the null hypothesis. {null_hypothesis}\")"
   ]
  },
  {
   "cell_type": "markdown",
   "id": "0f561d9c",
   "metadata": {},
   "source": [
    "# -------------------------------------------"
   ]
  },
  {
   "cell_type": "markdown",
   "id": "af74bbc3",
   "metadata": {},
   "source": [
    "### Q9. A study was conducted to determine if there is an association between smoking status (smoker or non-smoker) and lung cancer diagnosis (yes or no). The results are shown in the contingency table below. Conduct a chi-square test for independence to determine if there is a significant association between smoking status and lung cancer diagnosis.\n",
    "\n",
    "|--|Lung Cancer: Yes|Lung Cancer: No|\n",
    "|--|--|--|\n",
    "|Smoker| 60| 140|\n",
    "|Non-smoker| 30| 170|\n",
    "\n",
    "### Use a significance level of 0.05."
   ]
  },
  {
   "cell_type": "code",
   "execution_count": 17,
   "id": "fdda7c78",
   "metadata": {},
   "outputs": [
    {
     "name": "stdout",
     "output_type": "stream",
     "text": [
      "Expected Data :\n",
      "            Lung Cancer:Yes  Lung Cancer:No\n",
      "Smoker                 45.0           155.0\n",
      "Non Smoker             45.0           155.0\n",
      "\n",
      "Chi-Square Test Statistic: 12.0573\n",
      "P-value: 0.0005\n",
      "Reject the null hypothesis.\n",
      "Conclusion : There is a SIGNIFICANT association between smoking status and lung cancer diagnosis.\n"
     ]
    }
   ],
   "source": [
    "import pandas as pd\n",
    "import scipy.stats as stats\n",
    "\n",
    "# Set up the contingency table\n",
    "observed_df = pd.DataFrame({'Lung Cancer:Yes':[60,30], 'Lung Cancer:No':[140,170]})\n",
    "observed_df.index = ['Smoker','Non Smoker']\n",
    "\n",
    "# Null Hypothesis and Alternate Hypothesis\n",
    "null_hypothesis = \"There is NO significant association between smoking status and lung cancer diagnosis.\"\n",
    "alternate_hypothesis = \"There is a SIGNIFICANT association between smoking status and lung cancer diagnosis.\"\n",
    "\n",
    "# Compute the chi-square test statistic and p-value\n",
    "test_statistic, p_value, dof, expected = stats.chi2_contingency(observed_df)\n",
    "\n",
    "# Print expected df\n",
    "expected_df = pd.DataFrame(expected)\n",
    "expected_df.columns = observed_df.columns\n",
    "expected_df.index = observed_df.index\n",
    "print('Expected Data :')\n",
    "print(expected_df)\n",
    "\n",
    "# Print the results\n",
    "print(\"\\nChi-Square Test Statistic: {:.4f}\".format(test_statistic))\n",
    "print(\"P-value: {:.4f}\".format(p_value))\n",
    "\n",
    "# Significance value\n",
    "alpha = 0.05\n",
    "\n",
    "# Compare the p-value to the significance level\n",
    "if p_value < alpha:\n",
    "    print(f\"Reject the null hypothesis.\\nConclusion : {alternate_hypothesis}\")\n",
    "else:\n",
    "    print(f\"Fail to reject the null hypothesis.\\nConculsion : {null_hypothesis}\")"
   ]
  },
  {
   "cell_type": "markdown",
   "id": "b0344a7a",
   "metadata": {},
   "source": [
    "# -------------------------------------------"
   ]
  },
  {
   "cell_type": "markdown",
   "id": "050ea85d",
   "metadata": {},
   "source": [
    "### Q10. A study was conducted to determine if the proportion of people who prefer milk chocolate, dark chocolate, or white chocolate is different in the U.S. versus the U.K. A random sample of 500 people from the U.S. and a random sample of 500 people from the U.K. were surveyed. The results are shown in the contingency table below. Conduct a chi-square test for independence to determine if there is a significant association between chocolate preference and country of origin.\n",
    "\n",
    "|--|Milk Chocolate| Dark Chocolate| White Chocolate|\n",
    "|--|--|--|--|\n",
    "|U.S. (n=500)| 200| 150| 150|\n",
    "|U.K. (n=500)| 225| 175| 100|\n",
    "\n",
    "### Use a significance level of 0.01.\n"
   ]
  },
  {
   "cell_type": "code",
   "execution_count": 18,
   "id": "8604ee75",
   "metadata": {},
   "outputs": [
    {
     "name": "stdout",
     "output_type": "stream",
     "text": [
      "Expected Data :\n",
      "              Milk Chocolate  Dark Chocolate  White Chocolate\n",
      "U.S. (n=500)           212.5           162.5            125.0\n",
      "U.K. (n=500)           212.5           162.5            125.0\n",
      "\n",
      "Chi-Square Test Statistic: 13.3937\n",
      "P-value: 0.0012\n",
      "Reject the null hypothesis.\n",
      "Conclusion : There is a SIGNIFICANT association between Country and Chocolate type preffered.\n"
     ]
    }
   ],
   "source": [
    "import pandas as pd\n",
    "import scipy.stats as stats\n",
    "\n",
    "# Set up the contingency table\n",
    "observed_df = pd.DataFrame({'Milk Chocolate':[200,225], 'Dark Chocolate':[150,175], 'White Chocolate':[150,100]})\n",
    "observed_df.index = ['U.S. (n=500)','U.K. (n=500)']\n",
    "\n",
    "# Null Hypothesis and Alternate Hypothesis\n",
    "null_hypothesis = \"There is NO significant association between Country and Chocolate type preffered.\"\n",
    "alternate_hypothesis = \"There is a SIGNIFICANT association between Country and Chocolate type preffered.\"\n",
    "\n",
    "\n",
    "# Compute the chi-square test statistic and p-value\n",
    "test_statistic, p_value, dof, expected = stats.chi2_contingency(observed_df)\n",
    "\n",
    "# Print expected df\n",
    "expected_df = pd.DataFrame(expected)\n",
    "expected_df.columns = observed_df.columns\n",
    "expected_df.index = observed_df.index\n",
    "print('Expected Data :')\n",
    "print(expected_df)\n",
    "\n",
    "# Print the results\n",
    "print(\"\\nChi-Square Test Statistic: {:.4f}\".format(test_statistic))\n",
    "print(\"P-value: {:.4f}\".format(p_value))\n",
    "\n",
    "# Significance value\n",
    "alpha = 0.01\n",
    "\n",
    "# Compare the p-value to the significance level\n",
    "if p_value < alpha:\n",
    "    print(f\"Reject the null hypothesis.\\nConclusion : {alternate_hypothesis}\")\n",
    "else:\n",
    "    print(f\"Fail to reject the null hypothesis.\\nConculsion : {null_hypothesis}\")"
   ]
  },
  {
   "cell_type": "markdown",
   "id": "a4b8f317",
   "metadata": {},
   "source": [
    "# -------------------------------------------"
   ]
  },
  {
   "cell_type": "markdown",
   "id": "05c18080",
   "metadata": {},
   "source": [
    "### Q11. A random sample of 30 people was selected from a population with an unknown mean and standard deviation. The sample mean was found to be 72 and the sample standard deviation was found to be 10. Conduct a hypothesis test to determine if the population mean is significantly different from 70. Use a significance level of 0.05."
   ]
  },
  {
   "cell_type": "code",
   "execution_count": 19,
   "id": "6b7cebc3",
   "metadata": {},
   "outputs": [
    {
     "name": "stdout",
     "output_type": "stream",
     "text": [
      "Chi Square statistic : 0.0571\n",
      "Fail to reject the null hypothesis. The population mean is equal to 70. (p-value=1.0000)\n"
     ]
    }
   ],
   "source": [
    "import numpy as np\n",
    "from scipy.stats import chi2\n",
    "\n",
    "# Sample data\n",
    "sample_mean = 72\n",
    "sample_std = 10\n",
    "sample_size = 30\n",
    "\n",
    "# Hypotheses\n",
    "null_hypothesis = \"The population mean is equal to 70.\"\n",
    "alternative_hypothesis = \"The population mean is significantly different from 70.\"\n",
    "\n",
    "# Significance level\n",
    "alpha = 0.05\n",
    "\n",
    "# Degrees of freedom\n",
    "df = sample_size - 1\n",
    "\n",
    "# Expected mean\n",
    "expected_mean = 70\n",
    "\n",
    "# Calculate the chi-square statistic\n",
    "chi_sq_stat = ((sample_mean - expected_mean)**2)/expected_mean\n",
    "print(f'Chi Square statistic : {chi_sq_stat:.4f}')\n",
    "\n",
    "# Calculate the p-value\n",
    "p_value = 1 - chi2.cdf(chi_sq_stat, df)\n",
    "\n",
    "# Compare the p-value to the significance level\n",
    "if p_value < alpha:\n",
    "    print(f\"Reject the null hypothesis. {alternative_hypothesis} (p-value={p_value:.4f})\")\n",
    "else:\n",
    "    print(f\"Fail to reject the null hypothesis. {null_hypothesis} (p-value={p_value:.4f})\")"
   ]
  },
  {
   "cell_type": "markdown",
   "id": "6aa611e5",
   "metadata": {},
   "source": [
    "# -------------------------------------------"
   ]
  }
 ],
 "metadata": {
  "kernelspec": {
   "display_name": "Python 3 (ipykernel)",
   "language": "python",
   "name": "python3"
  },
  "language_info": {
   "codemirror_mode": {
    "name": "ipython",
    "version": 3
   },
   "file_extension": ".py",
   "mimetype": "text/x-python",
   "name": "python",
   "nbconvert_exporter": "python",
   "pygments_lexer": "ipython3",
   "version": "3.9.6"
  }
 },
 "nbformat": 4,
 "nbformat_minor": 5
}
