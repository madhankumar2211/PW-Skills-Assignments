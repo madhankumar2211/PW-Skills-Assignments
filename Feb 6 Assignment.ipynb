{
 "cells": [
  {
   "cell_type": "markdown",
   "id": "f916401a",
   "metadata": {},
   "source": [
    "#### Q1. Create a function which will take a list as an argument and return the product of all the numbers after creating a flat list. Use the below-given list as an argument for your function.\n",
    "#### list1 = [1,2,3,4, [44,55,66, True], False, (34,56,78,89,34), {1,2,3,3,2,1}, {1:34, \"key2\": [55, 67, 78, 89], 4: (45,22, 61, 34)}, [56, 'data science'], 'Machine Learning']\n",
    "##### Note: you must extract numeric keys and values of the dictionary also."
   ]
  },
  {
   "cell_type": "code",
   "execution_count": 1,
   "id": "f36751ce",
   "metadata": {},
   "outputs": [],
   "source": [
    "list1 = [1,2,3,4, [44,55,66, True], False, (34,56,78,89,34), {1,2,3,3,2,1}, {1:34, \"key2\": [55, 67, 78, 89], 4: (45,22, 61, 34)}, [56, 'data science'], 'Machine Learning']"
   ]
  },
  {
   "cell_type": "code",
   "execution_count": 2,
   "id": "4af6a075",
   "metadata": {},
   "outputs": [
    {
     "name": "stdout",
     "output_type": "stream",
     "text": [
      "Flat List : [1, 2, 3, 4, 44, 55, 66, 34, 56, 78, 89, 34, 1, 2, 3, 1, 4, 34, 55, 67, 78, 89, 45, 22, 61, 34, 56]\n",
      "Product of flat list :  4134711838987085478833841242112000\n"
     ]
    }
   ],
   "source": [
    "from functools import reduce\n",
    "from operator import mul\n",
    "final_list = []\n",
    "for i in list1:\n",
    "    if type(i) == list or type(i) == set or type(i) == tuple:\n",
    "        final_list.extend(i)\n",
    "    elif type(i) == dict:\n",
    "        final_list.extend(list(i.keys()))\n",
    "        [final_list.append(j) if type(j) == int else final_list.extend(j) for j in list(i.values())]        \n",
    "    else:\n",
    "        final_list.append(i)\n",
    "\n",
    "int_list = [i for i in final_list if type(i) == int]\n",
    "print(\"Flat List :\", int_list)\n",
    "print(\"Product of flat list : \",reduce(mul,int_list))"
   ]
  },
  {
   "cell_type": "markdown",
   "id": "7b670104",
   "metadata": {},
   "source": [
    "# ------------------------------------------------------------------"
   ]
  },
  {
   "cell_type": "markdown",
   "id": "447d4519",
   "metadata": {},
   "source": [
    "#### Q2. Write a python program for encrypting a message sent to you by your friend. The logic of encryption should be such that, for a the output should be z. For b, the output should be y. For c, the output should be x respectively. Also, the whitespace should be replaced with a dollar sign. Keep the punctuation marks unchanged.\n",
    "#### Input Sentence: I want to become a Data Scientist. \n",
    "#### Encrypt the above input sentence using the program you just created.\n",
    "#### Note: Convert the given input sentence into lowercase before encrypting. The final output should be lowercase."
   ]
  },
  {
   "cell_type": "code",
   "execution_count": 3,
   "id": "e4c9ec5c",
   "metadata": {},
   "outputs": [],
   "source": [
    "sentance = \"I want to become a Data Scientist.\"\n",
    "alphabet = [chr(i) for i in range(ord(\"a\"),ord(\"z\")+1)]\n",
    "reversed_alphabet = alphabet[::-1]"
   ]
  },
  {
   "cell_type": "code",
   "execution_count": 4,
   "id": "77d0bba4",
   "metadata": {},
   "outputs": [],
   "source": [
    "my_dict = dict(zip(alphabet,reversed_alphabet))"
   ]
  },
  {
   "cell_type": "code",
   "execution_count": 5,
   "id": "33d83410",
   "metadata": {
    "scrolled": true
   },
   "outputs": [
    {
     "name": "stdout",
     "output_type": "stream",
     "text": [
      "r$dzmg$gl$yvxlnv$z$wzgz$hxrvmgrhg.\n"
     ]
    }
   ],
   "source": [
    "final_dict = []\n",
    "for i in sentance.replace(\" \",\"$\").lower():\n",
    "    if i.isalpha():\n",
    "        final_dict.append(my_dict[i])\n",
    "    else:\n",
    "        final_dict.append(i)\n",
    "print(\"\".join(final_dict))"
   ]
  },
  {
   "cell_type": "code",
   "execution_count": null,
   "id": "b654bb20",
   "metadata": {},
   "outputs": [],
   "source": []
  }
 ],
 "metadata": {
  "kernelspec": {
   "display_name": "Python 3 (ipykernel)",
   "language": "python",
   "name": "python3"
  },
  "language_info": {
   "codemirror_mode": {
    "name": "ipython",
    "version": 3
   },
   "file_extension": ".py",
   "mimetype": "text/x-python",
   "name": "python",
   "nbconvert_exporter": "python",
   "pygments_lexer": "ipython3",
   "version": "3.9.6"
  }
 },
 "nbformat": 4,
 "nbformat_minor": 5
}
