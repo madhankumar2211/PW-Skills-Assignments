{
 "cells": [
  {
   "cell_type": "markdown",
   "id": "8df823fb",
   "metadata": {},
   "source": [
    "#### 1. What is multithreading in python? why is it used? Name the module used to handle threads in python"
   ]
  },
  {
   "cell_type": "markdown",
   "id": "6ecfd2e4",
   "metadata": {},
   "source": [
    "* Multithreading in Python refers to the ability to execute multiple threads (lightweight processes) simultaneously within a single process. Each thread runs in parallel to one another, with each thread executing its own code and sharing the same memory space as the other threads.\n",
    "---\n",
    "* Multithreading is used in Python to enable concurrency and improve the performance of programs that need to execute multiple tasks at the same time. For example, a web server that needs to handle multiple requests simultaneously can use multithreading to achieve better performance.\n",
    "---\n",
    "* The module used to handle threads in Python is called threading. It provides a simple way to create and manage threads in Python. You can create a new thread by creating an instance of the Thread class and passing in the function that you want to run in the new thread as a target. The Thread class provides methods for starting, joining, and managing threads, as well as tools for thread synchronization and communication.\n"
   ]
  },
  {
   "cell_type": "markdown",
   "id": "9a6a4c7a",
   "metadata": {},
   "source": [
    "# -------------------------------------------------"
   ]
  },
  {
   "cell_type": "markdown",
   "id": "69f9f39d",
   "metadata": {},
   "source": [
    "#### 2. why threading module used? write the use of the following functions:\n",
    "activeCount(),\n",
    "currentThread(),\n",
    "enumerate()"
   ]
  },
  {
   "cell_type": "markdown",
   "id": "a9283e33",
   "metadata": {},
   "source": [
    "* The threading module is used in Python to create and manage threads. It provides a high-level interface to work with threads, allowing you to easily create, start, and stop threads in your programs. Some of the main reasons why you might use the threading module include:\n",
    "    * Concurrency\n",
    "    * Performance\n",
    "    * Performance"
   ]
  },
  {
   "cell_type": "markdown",
   "id": "c1dbe1d8",
   "metadata": {},
   "source": [
    "* **activeCount():** This function returns the number of Thread objects that are currently active in the program. An active thread is a thread that has been started but has not yet finished running. This function can be useful for debugging and monitoring purposes, to ensure that all threads are running as expected.\n",
    "---\n",
    "* **currentThread():** This function returns a reference to the currently executing Thread object. This can be useful for identifying the current thread in a program and for passing the current thread as an argument to other functions.\n",
    "---\n",
    "* **enumerate():** This function returns a list of all Thread objects that are currently active in the program. Each Thread object is represented as an element in the list. This function can be useful for debugging and monitoring purposes, to get a complete list of all threads in the program and their state."
   ]
  },
  {
   "cell_type": "markdown",
   "id": "e07ffaa8",
   "metadata": {},
   "source": [
    "# ---------------------------------------------------------"
   ]
  },
  {
   "cell_type": "markdown",
   "id": "bbd79307",
   "metadata": {},
   "source": [
    "#### 3. Explain the following functions\n",
    "run(),start(),join(),isAlive()"
   ]
  },
  {
   "cell_type": "markdown",
   "id": "2d5cf0a9",
   "metadata": {},
   "source": [
    "* **run():** The run() method is the entry point for the thread. When a thread is started, its run() method is called. This method can be overridden to define the thread's behavior.\n",
    "---\n",
    "* **start():** The start() method is used to start the execution of a thread. When the start() method is called, the thread's run() method is executed in a separate thread of execution.\n",
    "---\n",
    "* **join():** The join() method is used to wait for the thread to complete its execution. When the join() method is called, the program waits until the thread completes before continuing execution.\n",
    "---\n",
    "* **isAlive():** The isAlive() method is used to check whether the thread is currently executing. The method returns True if the thread is currently executing, and False otherwise."
   ]
  },
  {
   "cell_type": "markdown",
   "id": "dc53952c",
   "metadata": {},
   "source": [
    "# -------------------------------------------------"
   ]
  },
  {
   "cell_type": "markdown",
   "id": "0bdbc1d3",
   "metadata": {},
   "source": [
    "#### 4. write a python program to create two threads. Thread one must print the list of squares and thread two must print the list of cubes"
   ]
  },
  {
   "cell_type": "code",
   "execution_count": 1,
   "id": "a418daa5",
   "metadata": {},
   "outputs": [
    {
     "name": "stdout",
     "output_type": "stream",
     "text": [
      "Square of 1 = 1Cube of 1 = 1\n",
      "Cube of 2 = 8\n",
      "Cube of 3 = 27\n",
      "Cube of 4 = 64\n",
      "Cube of 5 = 125\n",
      "___________________________\n",
      "\n",
      "Square of 2 = 4\n",
      "Square of 3 = 9\n",
      "Square of 4 = 16\n",
      "Square of 5 = 25\n",
      "___________________________\n"
     ]
    }
   ],
   "source": [
    "import threading\n",
    "\n",
    "def print_squares():\n",
    "    for i in range(1, 6):\n",
    "        print(f\"Square of {i} = {i**2}\")\n",
    "    print(\"___________________________\")\n",
    "\n",
    "def print_cubes():\n",
    "    for i in range(1, 6):\n",
    "        print(f\"Cube of {i} = {i**3}\")\n",
    "    print(\"___________________________\")\n",
    "\n",
    "t1 = threading.Thread(target=print_squares)\n",
    "t2 = threading.Thread(target=print_cubes)\n",
    "\n",
    "t1.start()\n",
    "t2.start()\n",
    "\n",
    "t1.join()\n",
    "t2.join()"
   ]
  },
  {
   "cell_type": "markdown",
   "id": "a4f61fa2",
   "metadata": {},
   "source": [
    "# -------------------------------------------------------"
   ]
  },
  {
   "cell_type": "markdown",
   "id": "2b5e4721",
   "metadata": {},
   "source": [
    "#### 5. State advantages and disadvantages of multithreading"
   ]
  },
  {
   "cell_type": "markdown",
   "id": "cc1cba01",
   "metadata": {},
   "source": [
    "* **Advantages of Multithreading:**\n",
    "    * **Improved performance:** One of the main advantages of multithreading is that it can improve the performance of a program by allowing multiple tasks to be executed simultaneously. This can be particularly beneficial in programs that perform computationally intensive tasks.\n",
    "    * **Better resource utilization**: Multithreading can also improve resource utilization, by allowing multiple threads to share the same resources, such as CPU time and memory.\n",
    "    * **Improved responsiveness:** Multithreading can help to improve the responsiveness of a program by allowing it to remain responsive to user input while executing long-running tasks in separate threads.\n",
    "    * **Simplified program structure**: Multithreading can simplify the structure of a program, by allowing complex tasks to be broken down into smaller, more manageable parts, each of which can be executed in a separate thread.\n",
    "---\n",
    "* **Disadvantages of Multithreading:**\n",
    "\n",
    "    * **Increased complexity:** One of the main disadvantages of multithreading is that it can increase the complexity of a program, by introducing new synchronization and communication issues that need to be addressed.\n",
    "    * **Increased memory usage**: Multithreading can also increase the memory usage of a program, by requiring each thread to have its own stack and heap space.\n",
    "    * **Increased debugging difficulty**: Multithreading can make debugging more difficult, as the behavior of a program can be affected by the order in which threads are executed.\n",
    "    * **Race conditions:** Multithreading can introduce race conditions, where multiple threads are accessing the same resource at the same time, potentially leading to incorrect results or even program crashes"
   ]
  },
  {
   "cell_type": "markdown",
   "id": "e04d3a2e",
   "metadata": {},
   "source": [
    "# ------------------------------------------"
   ]
  },
  {
   "cell_type": "markdown",
   "id": "61b43407",
   "metadata": {},
   "source": [
    "#### 6. Explain deadlocks and race conditions."
   ]
  },
  {
   "cell_type": "markdown",
   "id": "79229167",
   "metadata": {},
   "source": [
    "* Deadlocks and race conditions are two common problems that can occur in multithreaded programs.\n",
    "\n",
    "    * **Deadlocks:**\n",
    "\n",
    "        * A deadlock occurs when two or more threads are blocked, waiting for each other to release a resource that they need to continue executing. This situation can arise when threads acquire multiple resources in a different order, leading to a situation where each thread is holding a resource that the other thread needs, and neither thread can proceed. Deadlocks can result in programs that appear to be frozen or unresponsive, and can be difficult to detect and diagnose.\n",
    "\n",
    "    * **Race conditions:**\n",
    "\n",
    "        * A race condition occurs when two or more threads access a shared resource in an unpredictable order, potentially leading to incorrect results or program crashes. This situation can arise when multiple threads try to modify a shared variable at the same time, leading to unpredictable behavior. Race conditions can be difficult to detect and reproduce, as they depend on the timing and ordering of the threads' operations.\n",
    "\n"
   ]
  },
  {
   "cell_type": "code",
   "execution_count": null,
   "id": "3f88120c",
   "metadata": {},
   "outputs": [],
   "source": []
  }
 ],
 "metadata": {
  "kernelspec": {
   "display_name": "Python 3 (ipykernel)",
   "language": "python",
   "name": "python3"
  },
  "language_info": {
   "codemirror_mode": {
    "name": "ipython",
    "version": 3
   },
   "file_extension": ".py",
   "mimetype": "text/x-python",
   "name": "python",
   "nbconvert_exporter": "python",
   "pygments_lexer": "ipython3",
   "version": "3.9.6"
  }
 },
 "nbformat": 4,
 "nbformat_minor": 5
}
