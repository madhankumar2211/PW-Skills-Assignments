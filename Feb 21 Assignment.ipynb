{
 "cells": [
  {
   "cell_type": "markdown",
   "id": "d25bacfc",
   "metadata": {},
   "source": [
    "#### Q1. What is Web Scraping? Why is it Used? Give three areas where Web Scraping is used to get data."
   ]
  },
  {
   "cell_type": "markdown",
   "id": "c3bb522c",
   "metadata": {},
   "source": [
    "* Web scraping is an automatic method to obtain large amounts of data from websites. Most of this data is unstructured data in an HTML format which is then converted into structured data in a spreadsheet or a database so that it can be used in various applications\n",
    "\n",
    "* Used for,\n",
    "    * Price Monitoring\n",
    "    * Market Research\n",
    "    * News Monitoring\n",
    "    * Sentiment Analysis\n",
    "    * Email Marketing\n",
    "    \n",
    "* **Shopping Sites:** Some several websites and applications can help you to easily compare pricing between several retailers for the same product.\n",
    "\n",
    "* **Real Estate Listing:** Many real estate agents use web scraping to populate their database of available properties for sale or for rent.\n",
    "\n",
    "* **Industry Statistics and Insights:** Many companies use web scraping to build massive databases and draw industry-specific insights from these. These companies can then sell access to these insights to companies in said industries."
   ]
  },
  {
   "cell_type": "markdown",
   "id": "a51fac53",
   "metadata": {},
   "source": [
    "# --------------------------------------------"
   ]
  },
  {
   "cell_type": "markdown",
   "id": "b9797970",
   "metadata": {},
   "source": [
    "#### Q2. What are the different methods used for Web Scraping?"
   ]
  },
  {
   "cell_type": "markdown",
   "id": "da4cdd99",
   "metadata": {},
   "source": [
    "* **HTML Parsing**: HTML parsing involves the use of JavaScript to target a linear or nested HTML page. It is a powerful and fast method for extracting text and links (e.g. a nested link or email address), scraping screens and pulling resources.\n",
    "\n",
    "* **DOM Parsing**: The Document Object Model (DOM) defines the structure, style and content of an XML file. Scrapers typically use a DOM parser to view the structure of web pages in depth\n",
    "\n",
    "* **XPath**: XPath is short for XML Path Language, which is a query language for XML documents. XML documents have tree-like structures, so scrapers can use XPath"
   ]
  },
  {
   "cell_type": "markdown",
   "id": "d9637254",
   "metadata": {},
   "source": [
    "# -----------------------------------------"
   ]
  },
  {
   "cell_type": "markdown",
   "id": "814a2183",
   "metadata": {},
   "source": [
    "#### Q3. What is Beautiful Soup? Why is it used?"
   ]
  },
  {
   "cell_type": "markdown",
   "id": "ab458674",
   "metadata": {},
   "source": [
    "* Beautiful Soup provides simple methods for navigating, searching, and modifying a parse tree in HTML, XML files.Beautiful Soup is a popular Python library that is used for web scraping purposes. It is a tool for parsing HTML and XML documents, and it is particularly useful for extracting data from web pages\n",
    "\n",
    "    - It transforms a complex HTML document into a tree of Python objects.\n",
    "    - It also automatically converts the document to Unicode, so you don’t have to think about encodings\n",
    "    - This tool not only helps you scrape but also to clean the data"
   ]
  },
  {
   "cell_type": "markdown",
   "id": "4af8b4dd",
   "metadata": {},
   "source": [
    "# ------------------------------------------"
   ]
  },
  {
   "cell_type": "markdown",
   "id": "30a952c8",
   "metadata": {},
   "source": [
    "#### Q4. Why is flask used in this Web Scraping project?"
   ]
  },
  {
   "cell_type": "markdown",
   "id": "365b0404",
   "metadata": {},
   "source": [
    "* Flask is a popular Python web framework that is often used for building web applications and APIs. It is lightweight, flexible, and easy to use, making it a good choice for web scraping projects that require a simple web interface for interacting with the scraped data.\n",
    "\n",
    "* In a web scraping project, Flask can be used to build a simple web application that allows users to enter search parameters or URLs, and then display the scraped data in a user-friendly format. Flask can also handle routing, templating, and other web-related tasks, making it easy to build a functional and responsive web interface for your scraping project.\n",
    "\n",
    "* Here are some specific reasons why Flask might be used in a web scraping project:\n",
    "\n",
    "    - Easy to use\n",
    "    - Flexible\n",
    "    - Lightweight"
   ]
  },
  {
   "cell_type": "markdown",
   "id": "7edcf55c",
   "metadata": {},
   "source": [
    "# ---------------------------------------"
   ]
  },
  {
   "cell_type": "markdown",
   "id": "f558cf04",
   "metadata": {},
   "source": [
    "#### Q5. Write the names of AWS services used in this project. Also, explain the use of each service."
   ]
  },
  {
   "cell_type": "markdown",
   "id": "d23c9ec8",
   "metadata": {},
   "source": [
    "* **AWS Elastic Beanstalk** is an orchestration service offered by Amazon Web Services for deploying applications which orchestrates various AWS services, including EC2, S3, Simple Notification Service, CloudWatch, autoscaling, and Elastic Load\n",
    "\n",
    "* **AWS CodePipeline** is a fully managed continuous delivery service that helps you automate your release pipelines for fast and reliable application and infrastructure updates."
   ]
  },
  {
   "cell_type": "code",
   "execution_count": null,
   "id": "f1b00fed",
   "metadata": {},
   "outputs": [],
   "source": []
  }
 ],
 "metadata": {
  "kernelspec": {
   "display_name": "Python 3 (ipykernel)",
   "language": "python",
   "name": "python3"
  },
  "language_info": {
   "codemirror_mode": {
    "name": "ipython",
    "version": 3
   },
   "file_extension": ".py",
   "mimetype": "text/x-python",
   "name": "python",
   "nbconvert_exporter": "python",
   "pygments_lexer": "ipython3",
   "version": "3.9.6"
  }
 },
 "nbformat": 4,
 "nbformat_minor": 5
}
